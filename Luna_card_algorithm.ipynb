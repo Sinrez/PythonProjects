{
  "nbformat": 4,
  "nbformat_minor": 0,
  "metadata": {
    "colab": {
      "provenance": [],
      "authorship_tag": "ABX9TyOV5TT8D4++pVcHsoeOa6KU",
      "include_colab_link": true
    },
    "kernelspec": {
      "name": "python3",
      "display_name": "Python 3"
    },
    "language_info": {
      "name": "python"
    }
  },
  "cells": [
    {
      "cell_type": "markdown",
      "metadata": {
        "id": "view-in-github",
        "colab_type": "text"
      },
      "source": [
        "<a href=\"https://colab.research.google.com/github/Sinrez/PythonProjects/blob/main/Luna_card_algorithm.ipynb\" target=\"_parent\"><img src=\"https://colab.research.google.com/assets/colab-badge.svg\" alt=\"Open In Colab\"/></a>"
      ]
    },
    {
      "cell_type": "markdown",
      "source": [
        "Алгоритм Луна.\n",
        "Используется в финансовых сервисах для проверки правильности ввода номер банковской карты.\n",
        "Сначала удваиваем каждую вторую цифру номера карты, начиная с предпоследней.\n",
        "Далее суммируем все цифры. Если сумма цифр больше 9, то вычитаем от нее 9.\n",
        "Сумму цифр делим на 10, ели остатка от деления нет, то номер карты введен верно.\n"
      ],
      "metadata": {
        "id": "fxzB_SSYl72c"
      }
    },
    {
      "cell_type": "code",
      "execution_count": 17,
      "metadata": {
        "colab": {
          "base_uri": "https://localhost:8080/"
        },
        "id": "62Sk1Xf0kF21",
        "outputId": "d163c82f-688b-47f6-df93-7e42c13442f3"
      },
      "outputs": [
        {
          "output_type": "stream",
          "name": "stdout",
          "text": [
            "Введите номер карты для проверки: 123131Ф\n",
            "Номер карты действителен\n"
          ]
        }
      ],
      "source": [
        "class Luna():\n",
        "  def __init__(self, card_number):\n",
        "    self._card_number = card_number.replace(\" \", '').strip()\n",
        "\n",
        "  def get_card_check(self):\n",
        "    try:\n",
        "      if not card_number.isdigit():\n",
        "        raise ValueError('В номер карты введены буквы')\n",
        "      elif len(card_number) != 16:\n",
        "        raise ValueError(f'Кол-во цифр в номере карты введено неверно! Должны быть 16, а введено {len(card_number)}')\n",
        "      else:\n",
        "        # Преобразуем номер карты в список цифр\n",
        "        digits = [int(d) for d in str(card_number)]\n",
        "        # Удваиваем каждую вторую цифру, начиная с предпоследней\n",
        "        for i in range(len(digits)-2, -1, -2):\n",
        "            digits[i] *= 2\n",
        "            if digits[i] > 9:\n",
        "                digits[i] -= 9\n",
        "        # Суммируем все цифры\n",
        "        total = sum(digits)\n",
        "        # Если сумма кратна 10, то номер карты действителен\n",
        "        return total % 10 == 0\n",
        "    except ValueError as ve:\n",
        "        return ve\n",
        "    except Exception as ex:\n",
        "        return f'Случилась ошибка {ex}'\n",
        "\n",
        "if __name__ == '__main__':\n",
        "  card_number = input('Введите номер карты для проверки: ')\n",
        "  lun = Luna(card_number)\n",
        "  if lun.get_card_check():\n",
        "      print(\"Номер карты действителен\")\n",
        "  else:\n",
        "      print(\"Номер карты недействителен\")"
      ]
    }
  ]
}