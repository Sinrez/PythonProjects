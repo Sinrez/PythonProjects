{
  "nbformat": 4,
  "nbformat_minor": 0,
  "metadata": {
    "colab": {
      "provenance": [],
      "authorship_tag": "ABX9TyNk6XSvi0hTsD/Vl2RRpcwn",
      "include_colab_link": true
    },
    "kernelspec": {
      "name": "python3",
      "display_name": "Python 3"
    },
    "language_info": {
      "name": "python"
    }
  },
  "cells": [
    {
      "cell_type": "markdown",
      "metadata": {
        "id": "view-in-github",
        "colab_type": "text"
      },
      "source": [
        "<a href=\"https://colab.research.google.com/github/Sinrez/PythonProjects/blob/main/1_4_3.ipynb\" target=\"_parent\"><img src=\"https://colab.research.google.com/assets/colab-badge.svg\" alt=\"Open In Colab\"/></a>"
      ]
    },
    {
      "cell_type": "code",
      "execution_count": 18,
      "metadata": {
        "id": "rAgWn3WqsH6J"
      },
      "outputs": [],
      "source": [
        "import pandas as pd\n",
        "import numpy as np"
      ]
    },
    {
      "cell_type": "code",
      "source": [
        "df_all = pd.read_csv(\"daily_weather_data.csv\").set_index('city')\n",
        "df_all.head()"
      ],
      "metadata": {
        "colab": {
          "base_uri": "https://localhost:8080/",
          "height": 238
        },
        "id": "6VC3CSpfsN-k",
        "outputId": "2e947e51-ab7b-459f-98b9-20bae6718148"
      },
      "execution_count": 14,
      "outputs": [
        {
          "output_type": "execute_result",
          "data": {
            "text/plain": [
              "               date   country   Latitude  Longitude  tavg  tmin  tmax   wdir  \\\n",
              "city                                                                           \n",
              "Sukhumi  21-07-2018  Abkhazia  43.001525  41.023415  23.4  20.9  25.5  329.0   \n",
              "Sukhumi  22-07-2018  Abkhazia  43.001525  41.023415  23.5  21.0  25.7  337.0   \n",
              "Sukhumi  23-07-2018  Abkhazia  43.001525  41.023415  23.5  21.1  25.5   41.0   \n",
              "Sukhumi  24-07-2018  Abkhazia  43.001525  41.023415  24.3  20.8  27.1   10.0   \n",
              "Sukhumi  25-07-2018  Abkhazia  43.001525  41.023415  26.5  22.7  30.0    9.0   \n",
              "\n",
              "         wspd    pres  \n",
              "city                   \n",
              "Sukhumi   9.3  1009.6  \n",
              "Sukhumi   9.4  1010.0  \n",
              "Sukhumi   8.2  1007.7  \n",
              "Sukhumi   9.3  1004.4  \n",
              "Sukhumi   9.7  1002.0  "
            ],
            "text/html": [
              "\n",
              "  <div id=\"df-278d926f-4165-4941-b915-5fb9d31dfd93\">\n",
              "    <div class=\"colab-df-container\">\n",
              "      <div>\n",
              "<style scoped>\n",
              "    .dataframe tbody tr th:only-of-type {\n",
              "        vertical-align: middle;\n",
              "    }\n",
              "\n",
              "    .dataframe tbody tr th {\n",
              "        vertical-align: top;\n",
              "    }\n",
              "\n",
              "    .dataframe thead th {\n",
              "        text-align: right;\n",
              "    }\n",
              "</style>\n",
              "<table border=\"1\" class=\"dataframe\">\n",
              "  <thead>\n",
              "    <tr style=\"text-align: right;\">\n",
              "      <th></th>\n",
              "      <th>date</th>\n",
              "      <th>country</th>\n",
              "      <th>Latitude</th>\n",
              "      <th>Longitude</th>\n",
              "      <th>tavg</th>\n",
              "      <th>tmin</th>\n",
              "      <th>tmax</th>\n",
              "      <th>wdir</th>\n",
              "      <th>wspd</th>\n",
              "      <th>pres</th>\n",
              "    </tr>\n",
              "    <tr>\n",
              "      <th>city</th>\n",
              "      <th></th>\n",
              "      <th></th>\n",
              "      <th></th>\n",
              "      <th></th>\n",
              "      <th></th>\n",
              "      <th></th>\n",
              "      <th></th>\n",
              "      <th></th>\n",
              "      <th></th>\n",
              "      <th></th>\n",
              "    </tr>\n",
              "  </thead>\n",
              "  <tbody>\n",
              "    <tr>\n",
              "      <th>Sukhumi</th>\n",
              "      <td>21-07-2018</td>\n",
              "      <td>Abkhazia</td>\n",
              "      <td>43.001525</td>\n",
              "      <td>41.023415</td>\n",
              "      <td>23.4</td>\n",
              "      <td>20.9</td>\n",
              "      <td>25.5</td>\n",
              "      <td>329.0</td>\n",
              "      <td>9.3</td>\n",
              "      <td>1009.6</td>\n",
              "    </tr>\n",
              "    <tr>\n",
              "      <th>Sukhumi</th>\n",
              "      <td>22-07-2018</td>\n",
              "      <td>Abkhazia</td>\n",
              "      <td>43.001525</td>\n",
              "      <td>41.023415</td>\n",
              "      <td>23.5</td>\n",
              "      <td>21.0</td>\n",
              "      <td>25.7</td>\n",
              "      <td>337.0</td>\n",
              "      <td>9.4</td>\n",
              "      <td>1010.0</td>\n",
              "    </tr>\n",
              "    <tr>\n",
              "      <th>Sukhumi</th>\n",
              "      <td>23-07-2018</td>\n",
              "      <td>Abkhazia</td>\n",
              "      <td>43.001525</td>\n",
              "      <td>41.023415</td>\n",
              "      <td>23.5</td>\n",
              "      <td>21.1</td>\n",
              "      <td>25.5</td>\n",
              "      <td>41.0</td>\n",
              "      <td>8.2</td>\n",
              "      <td>1007.7</td>\n",
              "    </tr>\n",
              "    <tr>\n",
              "      <th>Sukhumi</th>\n",
              "      <td>24-07-2018</td>\n",
              "      <td>Abkhazia</td>\n",
              "      <td>43.001525</td>\n",
              "      <td>41.023415</td>\n",
              "      <td>24.3</td>\n",
              "      <td>20.8</td>\n",
              "      <td>27.1</td>\n",
              "      <td>10.0</td>\n",
              "      <td>9.3</td>\n",
              "      <td>1004.4</td>\n",
              "    </tr>\n",
              "    <tr>\n",
              "      <th>Sukhumi</th>\n",
              "      <td>25-07-2018</td>\n",
              "      <td>Abkhazia</td>\n",
              "      <td>43.001525</td>\n",
              "      <td>41.023415</td>\n",
              "      <td>26.5</td>\n",
              "      <td>22.7</td>\n",
              "      <td>30.0</td>\n",
              "      <td>9.0</td>\n",
              "      <td>9.7</td>\n",
              "      <td>1002.0</td>\n",
              "    </tr>\n",
              "  </tbody>\n",
              "</table>\n",
              "</div>\n",
              "      <button class=\"colab-df-convert\" onclick=\"convertToInteractive('df-278d926f-4165-4941-b915-5fb9d31dfd93')\"\n",
              "              title=\"Convert this dataframe to an interactive table.\"\n",
              "              style=\"display:none;\">\n",
              "        \n",
              "  <svg xmlns=\"http://www.w3.org/2000/svg\" height=\"24px\"viewBox=\"0 0 24 24\"\n",
              "       width=\"24px\">\n",
              "    <path d=\"M0 0h24v24H0V0z\" fill=\"none\"/>\n",
              "    <path d=\"M18.56 5.44l.94 2.06.94-2.06 2.06-.94-2.06-.94-.94-2.06-.94 2.06-2.06.94zm-11 1L8.5 8.5l.94-2.06 2.06-.94-2.06-.94L8.5 2.5l-.94 2.06-2.06.94zm10 10l.94 2.06.94-2.06 2.06-.94-2.06-.94-.94-2.06-.94 2.06-2.06.94z\"/><path d=\"M17.41 7.96l-1.37-1.37c-.4-.4-.92-.59-1.43-.59-.52 0-1.04.2-1.43.59L10.3 9.45l-7.72 7.72c-.78.78-.78 2.05 0 2.83L4 21.41c.39.39.9.59 1.41.59.51 0 1.02-.2 1.41-.59l7.78-7.78 2.81-2.81c.8-.78.8-2.07 0-2.86zM5.41 20L4 18.59l7.72-7.72 1.47 1.35L5.41 20z\"/>\n",
              "  </svg>\n",
              "      </button>\n",
              "      \n",
              "  <style>\n",
              "    .colab-df-container {\n",
              "      display:flex;\n",
              "      flex-wrap:wrap;\n",
              "      gap: 12px;\n",
              "    }\n",
              "\n",
              "    .colab-df-convert {\n",
              "      background-color: #E8F0FE;\n",
              "      border: none;\n",
              "      border-radius: 50%;\n",
              "      cursor: pointer;\n",
              "      display: none;\n",
              "      fill: #1967D2;\n",
              "      height: 32px;\n",
              "      padding: 0 0 0 0;\n",
              "      width: 32px;\n",
              "    }\n",
              "\n",
              "    .colab-df-convert:hover {\n",
              "      background-color: #E2EBFA;\n",
              "      box-shadow: 0px 1px 2px rgba(60, 64, 67, 0.3), 0px 1px 3px 1px rgba(60, 64, 67, 0.15);\n",
              "      fill: #174EA6;\n",
              "    }\n",
              "\n",
              "    [theme=dark] .colab-df-convert {\n",
              "      background-color: #3B4455;\n",
              "      fill: #D2E3FC;\n",
              "    }\n",
              "\n",
              "    [theme=dark] .colab-df-convert:hover {\n",
              "      background-color: #434B5C;\n",
              "      box-shadow: 0px 1px 3px 1px rgba(0, 0, 0, 0.15);\n",
              "      filter: drop-shadow(0px 1px 2px rgba(0, 0, 0, 0.3));\n",
              "      fill: #FFFFFF;\n",
              "    }\n",
              "  </style>\n",
              "\n",
              "      <script>\n",
              "        const buttonEl =\n",
              "          document.querySelector('#df-278d926f-4165-4941-b915-5fb9d31dfd93 button.colab-df-convert');\n",
              "        buttonEl.style.display =\n",
              "          google.colab.kernel.accessAllowed ? 'block' : 'none';\n",
              "\n",
              "        async function convertToInteractive(key) {\n",
              "          const element = document.querySelector('#df-278d926f-4165-4941-b915-5fb9d31dfd93');\n",
              "          const dataTable =\n",
              "            await google.colab.kernel.invokeFunction('convertToInteractive',\n",
              "                                                     [key], {});\n",
              "          if (!dataTable) return;\n",
              "\n",
              "          const docLinkHtml = 'Like what you see? Visit the ' +\n",
              "            '<a target=\"_blank\" href=https://colab.research.google.com/notebooks/data_table.ipynb>data table notebook</a>'\n",
              "            + ' to learn more about interactive tables.';\n",
              "          element.innerHTML = '';\n",
              "          dataTable['output_type'] = 'display_data';\n",
              "          await google.colab.output.renderOutput(dataTable, element);\n",
              "          const docLink = document.createElement('div');\n",
              "          docLink.innerHTML = docLinkHtml;\n",
              "          element.appendChild(docLink);\n",
              "        }\n",
              "      </script>\n",
              "    </div>\n",
              "  </div>\n",
              "  "
            ]
          },
          "metadata": {},
          "execution_count": 14
        }
      ]
    },
    {
      "cell_type": "code",
      "source": [
        "# Найдите минимальное значение колонки'tmin' в Helsinki за 2020 год.\n",
        "hell = df_all.loc['Helsinki'].astype({'date': np.datetime64})\n",
        "hell_2020 = hell[hell['date'].dt.year == 2020]\n",
        "\n",
        "# Найдите минимальное значение в столбце 'tmin'\n",
        "min_tmin = hell_2020['tmin'].min()\n",
        "min_tmin"
      ],
      "metadata": {
        "colab": {
          "base_uri": "https://localhost:8080/"
        },
        "id": "wkFfV0-Itcud",
        "outputId": "594f2a3b-dd15-44a8-8647-a2362d1f7ceb"
      },
      "execution_count": 23,
      "outputs": [
        {
          "output_type": "stream",
          "name": "stderr",
          "text": [
            "<ipython-input-23-21e4b10811c1>:2: UserWarning: Parsing dates in DD/MM/YYYY format when dayfirst=False (the default) was specified. This may lead to inconsistently parsed dates! Specify a format to ensure consistent parsing.\n",
            "  hell = df_all.loc['Helsinki'].astype({'date': np.datetime64})\n"
          ]
        },
        {
          "output_type": "execute_result",
          "data": {
            "text/plain": [
              "-8.6"
            ]
          },
          "metadata": {},
          "execution_count": 23
        }
      ]
    }
  ]
}