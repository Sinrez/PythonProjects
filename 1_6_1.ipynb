{
  "nbformat": 4,
  "nbformat_minor": 0,
  "metadata": {
    "colab": {
      "provenance": [],
      "authorship_tag": "ABX9TyOeYd3gx2i6Xz39Trs1k/oM",
      "include_colab_link": true
    },
    "kernelspec": {
      "name": "python3",
      "display_name": "Python 3"
    },
    "language_info": {
      "name": "python"
    }
  },
  "cells": [
    {
      "cell_type": "markdown",
      "metadata": {
        "id": "view-in-github",
        "colab_type": "text"
      },
      "source": [
        "<a href=\"https://colab.research.google.com/github/Sinrez/PythonProjects/blob/main/1_6_1.ipynb\" target=\"_parent\"><img src=\"https://colab.research.google.com/assets/colab-badge.svg\" alt=\"Open In Colab\"/></a>"
      ]
    },
    {
      "cell_type": "code",
      "execution_count": 1,
      "metadata": {
        "id": "5Kf9E0nLaAU0"
      },
      "outputs": [],
      "source": [
        "link = 'https://dc-edu.itmo.ru/asset-v1:ITMO+DS+2023+type@asset+block@html_ind.html'\n",
        "import requests as re\n",
        "from bs4 import BeautifulSoup"
      ]
    },
    {
      "cell_type": "code",
      "source": [
        "result = re.get(link)\n",
        "print(result.encoding)\n",
        "result.encoding = 'utf-8'"
      ],
      "metadata": {
        "colab": {
          "base_uri": "https://localhost:8080/"
        },
        "id": "b2Uy51Dsa8nY",
        "outputId": "95dba399-3bc1-479e-a395-5d36fbd5fee2"
      },
      "execution_count": 17,
      "outputs": [
        {
          "output_type": "stream",
          "name": "stdout",
          "text": [
            "ISO-8859-1\n"
          ]
        },
        {
          "output_type": "execute_result",
          "data": {
            "text/plain": [
              "True"
            ]
          },
          "metadata": {},
          "execution_count": 17
        }
      ]
    },
    {
      "cell_type": "code",
      "source": [
        "page = BeautifulSoup(result.text, features='html.parser')\n",
        "name_divs = page.find_all('div', class_='name')\n",
        "movie_names = [name.a.text.strip() for name in name_divs]\n",
        "res = []\n",
        "for mov in movie_names:\n",
        "  res.append(mov.split(' (')[0])\n",
        "print(res)"
      ],
      "metadata": {
        "colab": {
          "base_uri": "https://localhost:8080/"
        },
        "id": "3uMOfzE1c2gH",
        "outputId": "7204d46a-ab34-4968-cb66-d25ee9e79d43"
      },
      "execution_count": 40,
      "outputs": [
        {
          "output_type": "stream",
          "name": "stdout",
          "text": [
            "['О чем говорят мужчины. Простые удовольствия', 'Беспринципные в деревне', 'Нюрнберг', 'Сто лет тому вперёд', 'Самая большая луна', 'Вызов']\n"
          ]
        }
      ]
    }
  ]
}