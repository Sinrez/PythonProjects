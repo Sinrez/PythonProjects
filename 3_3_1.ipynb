{
  "nbformat": 4,
  "nbformat_minor": 0,
  "metadata": {
    "colab": {
      "provenance": [],
      "authorship_tag": "ABX9TyPSD9g/oOs2ZM7WCL1DQxRJ",
      "include_colab_link": true
    },
    "kernelspec": {
      "name": "python3",
      "display_name": "Python 3"
    },
    "language_info": {
      "name": "python"
    }
  },
  "cells": [
    {
      "cell_type": "markdown",
      "metadata": {
        "id": "view-in-github",
        "colab_type": "text"
      },
      "source": [
        "<a href=\"https://colab.research.google.com/github/Sinrez/PythonProjects/blob/main/3_3_1.ipynb\" target=\"_parent\"><img src=\"https://colab.research.google.com/assets/colab-badge.svg\" alt=\"Open In Colab\"/></a>"
      ]
    },
    {
      "cell_type": "code",
      "execution_count": null,
      "metadata": {
        "colab": {
          "base_uri": "https://localhost:8080/"
        },
        "id": "FxM7LC57428D",
        "outputId": "120d8033-4b47-4dda-a60a-5f85d1185d14"
      },
      "outputs": [
        {
          "output_type": "stream",
          "name": "stdout",
          "text": [
            "Ближайший сосед: [18 12]\n",
            "Расстояние до ближайшего соседа: 21.633307652783937\n"
          ]
        }
      ],
      "source": [
        "import numpy as np\n",
        "from sklearn.neighbors import KNeighborsClassifier\n",
        "\n",
        "# Заданные данные\n",
        "data = np.array([\n",
        "    [22, 86, 0],\n",
        "    [78, 32, 1],\n",
        "    [54, 50, 1],\n",
        "    [68, 80, 0],\n",
        "    [18, 12, 0],\n",
        "    [85, 48, 0],\n",
        "    [78, 10, 0],\n",
        "    [50, 74, 0],\n",
        "    [30, 95, 0],\n",
        "    [91, 12, 0]\n",
        "])\n",
        "\n",
        "X = data[:, :2]  # Координаты X, Y\n",
        "y = data[:, 2]   # Классы\n",
        "\n",
        "# Создаем модель KNeighborsClassifier\n",
        "k = 1  # Количество соседей\n",
        "model = KNeighborsClassifier(n_neighbors=k)\n",
        "model.fit(X, y)\n",
        "\n",
        "# Новый объект\n",
        "new_object = np.array([[30, 30]])\n",
        "\n",
        "# Находим индекс ближайшего соседа и его расстояние\n",
        "distances, indices = model.kneighbors(new_object)\n",
        "nearest_neighbor_index = indices[0][0]\n",
        "nearest_neighbor_distance = distances[0][0]\n",
        "\n",
        "# Выводим результаты\n",
        "print(\"Ближайший сосед:\", X[nearest_neighbor_index])\n",
        "print(\"Расстояние до ближайшего соседа:\", nearest_neighbor_distance)\n",
        "\n",
        "\n"
      ]
    },
    {
      "cell_type": "code",
      "source": [
        "import numpy as np\n",
        "from sklearn.neighbors import NearestNeighbors\n",
        "\n",
        "# Заданные данные\n",
        "data = np.array([\n",
        "    [22, 86],\n",
        "    [78, 32],\n",
        "    [54, 50],\n",
        "    [68, 80],\n",
        "    [18, 12],\n",
        "    [85, 48],\n",
        "    [78, 10],\n",
        "    [50, 74],\n",
        "    [30, 95],\n",
        "    [91, 12]\n",
        "])\n",
        "\n",
        "# Новый объект\n",
        "new_object = np.array([[30, 30]])\n",
        "\n",
        "# Создаем модель NearestNeighbors\n",
        "k = 3  # Количество соседей\n",
        "model = NearestNeighbors(n_neighbors=k, metric='euclidean')\n",
        "model.fit(data)\n",
        "\n",
        "# Находим индексы ближайших соседей и расстояния до них\n",
        "distances, indices = model.kneighbors(new_object)\n",
        "\n",
        "# Выводим результаты\n",
        "print(\"Индентификаторы ближайших точек:\", indices)\n",
        "print(\"Расстояния до ближайших точек:\", distances)\n"
      ],
      "metadata": {
        "colab": {
          "base_uri": "https://localhost:8080/"
        },
        "id": "8ItXmwy6E52w",
        "outputId": "893fe804-98a2-4da0-c317-32f489bbea31"
      },
      "execution_count": null,
      "outputs": [
        {
          "output_type": "stream",
          "name": "stdout",
          "text": [
            "Индентификаторы ближайших точек: [[4 2 1]]\n",
            "Расстояния до ближайших точек: [[21.63330765 31.2409987  48.0416486 ]]\n"
          ]
        }
      ]
    },
    {
      "cell_type": "code",
      "source": [
        "import numpy as np\n",
        "from sklearn.neighbors import NearestNeighbors\n",
        "\n",
        "# Заданные данные\n",
        "data = np.array([\n",
        "    [22, 86],\n",
        "    [78, 32],\n",
        "    [54, 50],\n",
        "    [68, 80],\n",
        "    [18, 12],\n",
        "    [85, 48],\n",
        "    [78, 10],\n",
        "    [50, 74],\n",
        "    [30, 95],\n",
        "    [91, 12]\n",
        "])\n",
        "\n",
        "# Новый объект\n",
        "new_object = np.array([[30, 30]])\n",
        "\n",
        "# Создаем модель NearestNeighbors с манхэттенской метрикой\n",
        "k = 1  # Количество соседей\n",
        "model = NearestNeighbors(n_neighbors=k, metric='manhattan')\n",
        "model.fit(data)\n",
        "\n",
        "# Находим расстояния до ближайших соседей\n",
        "distances, _ = model.kneighbors(new_object)\n",
        "\n",
        "# Выводим результат\n",
        "print(\"Расстояние до ближайшего соседа:\", distances[0][0])\n"
      ],
      "metadata": {
        "colab": {
          "base_uri": "https://localhost:8080/"
        },
        "id": "I8jOOQSFFp4T",
        "outputId": "7a09e47f-faac-4443-bc6f-fcf8f3b4fa5e"
      },
      "execution_count": null,
      "outputs": [
        {
          "output_type": "stream",
          "name": "stdout",
          "text": [
            "Расстояние до ближайшего соседа: 30.0\n"
          ]
        }
      ]
    }
  ]
}