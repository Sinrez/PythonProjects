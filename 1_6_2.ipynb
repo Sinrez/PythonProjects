{
  "nbformat": 4,
  "nbformat_minor": 0,
  "metadata": {
    "colab": {
      "provenance": [],
      "authorship_tag": "ABX9TyNpyf3zu0SZNOFXU0FZaq5m",
      "include_colab_link": true
    },
    "kernelspec": {
      "name": "python3",
      "display_name": "Python 3"
    },
    "language_info": {
      "name": "python"
    }
  },
  "cells": [
    {
      "cell_type": "markdown",
      "metadata": {
        "id": "view-in-github",
        "colab_type": "text"
      },
      "source": [
        "<a href=\"https://colab.research.google.com/github/Sinrez/PythonProjects/blob/main/1_6_2.ipynb\" target=\"_parent\"><img src=\"https://colab.research.google.com/assets/colab-badge.svg\" alt=\"Open In Colab\"/></a>"
      ]
    },
    {
      "cell_type": "code",
      "execution_count": 1,
      "metadata": {
        "colab": {
          "base_uri": "https://localhost:8080/"
        },
        "id": "hV8jK0GQh6vb",
        "outputId": "c7d8381e-232c-4073-863a-03e206fae90e"
      },
      "outputs": [
        {
          "output_type": "stream",
          "name": "stdout",
          "text": [
            "AMD\n"
          ]
        }
      ],
      "source": [
        "import requests\n",
        "import json\n",
        "\n",
        "# Загружаем данные о текущих курсах валют ЦБ РФ\n",
        "url = 'https://www.cbr-xml-daily.ru/daily_json.js'\n",
        "response = requests.get(url)\n",
        "data = json.loads(response.text)\n",
        "\n",
        "# Получаем словарь с курсами валют, где ключами являются CharCode валюты\n",
        "currencies = data['Valute']\n",
        "\n",
        "# Сортируем список валют в обратном алфавитном порядке\n",
        "sorted_currencies = sorted(currencies.values(), key=lambda x: x['CharCode'], reverse=True)\n",
        "\n",
        "# Получаем значение CharCode из списка для индекса 41 (42-й элемент, так как индексация начинается с 0)\n",
        "char_code_at_index_41 = sorted_currencies[41]['CharCode']\n",
        "\n",
        "print(char_code_at_index_41)\n"
      ]
    }
  ]
}