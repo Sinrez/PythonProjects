{
  "nbformat": 4,
  "nbformat_minor": 0,
  "metadata": {
    "colab": {
      "provenance": [],
      "authorship_tag": "ABX9TyPv+mfMzWiY/4SoVLFsgr2i",
      "include_colab_link": true
    },
    "kernelspec": {
      "name": "python3",
      "display_name": "Python 3"
    },
    "language_info": {
      "name": "python"
    }
  },
  "cells": [
    {
      "cell_type": "markdown",
      "metadata": {
        "id": "view-in-github",
        "colab_type": "text"
      },
      "source": [
        "<a href=\"https://colab.research.google.com/github/Sinrez/PythonProjects/blob/main/simple_account.ipynb\" target=\"_parent\"><img src=\"https://colab.research.google.com/assets/colab-badge.svg\" alt=\"Open In Colab\"/></a>"
      ]
    },
    {
      "cell_type": "code",
      "execution_count": 4,
      "metadata": {
        "colab": {
          "base_uri": "https://localhost:8080/"
        },
        "id": "HfNTLEwfG2ob",
        "outputId": "d00dc659-d4f9-4022-d396-ffe16d513e13"
      },
      "outputs": [
        {
          "output_type": "stream",
          "name": "stdout",
          "text": [
            "\n",
            "Счет пополнен на: 500 Всего: 500 | Сумма снятия средств со счета: 20 Всего: 480 | Начислено процентов: 24.0 Всего: 504.0 |\n",
            "\n"
          ]
        }
      ],
      "source": [
        "class BankAccount:\n",
        "    def __init__(self):\n",
        "        \"\"\"Класс банковский счет\"\"\"\n",
        "        self.__balance = 0 #приватный атрибут для хранения текущего баланса счета\n",
        "        self.__interest_rate = 0 #приватный атрибут для процентной ставки\n",
        "        self.__transactions = [] #приватный атрибут для списка всех операций,совершенных посчету\n",
        "\n",
        "    def deposit(self, amount):\n",
        "        \"\"\"добавляет сумму amount к балансу и регистрирует транзакцию\"\"\"\n",
        "        self.__balance += amount\n",
        "        self.__transactions.append(f\"Счет пополнен на: {amount} Всего: {self.__balance} |\")\n",
        "\n",
        "    def withdraw(self, amount):\n",
        "        \"\"\"вычитает сумму amount из баланса и записывает транзакцию\"\"\"\n",
        "        if self.__balance >= amount:\n",
        "            self.__balance -= amount\n",
        "            self.__transactions.append(f\"Сумма снятия средств со счета: {amount} Всего: {self.__balance} |\")\n",
        "        else:\n",
        "            self.__transactions.append(\"Недостаточно средств\")\n",
        "\n",
        "    def add_interest(self, interest_rate):\n",
        "        \"\"\"добавляет проценты к счету на основе ставки interest_rate изаписывает транзакцию\"\"\"\n",
        "        self.__interest_rate = interest_rate\n",
        "        interest = self.__balance * (self.__interest_rate / 100)\n",
        "        self.__balance += interest\n",
        "        self.__transactions.append(f\"Начислено процентов: {interest} Всего: {self.__balance} |\")\n",
        "\n",
        "    def history(self):\n",
        "        \"\"\"печатает список всех операций по счету\"\"\"\n",
        "        return self.__transactions\n",
        "\n",
        "if __name__ == '__main__':\n",
        "    print()\n",
        "    acc1 = BankAccount()\n",
        "    acc1.deposit(500)\n",
        "    acc1.withdraw(20)\n",
        "    acc1.add_interest(5)\n",
        "    print(*acc1.history())\n",
        "    print()"
      ]
    }
  ]
}