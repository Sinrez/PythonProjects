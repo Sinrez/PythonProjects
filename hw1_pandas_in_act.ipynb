{
  "nbformat": 4,
  "nbformat_minor": 0,
  "metadata": {
    "colab": {
      "provenance": [],
      "authorship_tag": "ABX9TyOlIRrk1QL/sCds30j6r5zo",
      "include_colab_link": true
    },
    "kernelspec": {
      "name": "python3",
      "display_name": "Python 3"
    },
    "language_info": {
      "name": "python"
    }
  },
  "cells": [
    {
      "cell_type": "markdown",
      "metadata": {
        "id": "view-in-github",
        "colab_type": "text"
      },
      "source": [
        "<a href=\"https://colab.research.google.com/github/Sinrez/PythonProjects/blob/main/hw1_pandas_in_act.ipynb\" target=\"_parent\"><img src=\"https://colab.research.google.com/assets/colab-badge.svg\" alt=\"Open In Colab\"/></a>"
      ]
    },
    {
      "cell_type": "code",
      "execution_count": 1,
      "metadata": {
        "id": "kSISR-dXGfY1"
      },
      "outputs": [],
      "source": [
        "import pandas as pd\n",
        "\n",
        "superheroes = [\n",
        "             \"Batman\",\n",
        "             \"Superman\",\n",
        "             \"Spider-Man\",\n",
        "             \"Iron Man\",\n",
        "             \"Captain America\",\n",
        "             \"Wonder Woman\"\n",
        "]\n",
        "\n",
        "strength_levels = (100, 120, 90, 95, 110, 120)"
      ]
    },
    {
      "cell_type": "code",
      "source": [
        "# Заполните новый объект Series значениями из списка супергероев\n",
        "hers = pd.Series(superheroes)\n",
        "hers"
      ],
      "metadata": {
        "colab": {
          "base_uri": "https://localhost:8080/"
        },
        "id": "EWGHmFglHGLZ",
        "outputId": "1bf3760b-f50c-43fb-d297-d4eaf8c6b51b"
      },
      "execution_count": 2,
      "outputs": [
        {
          "output_type": "execute_result",
          "data": {
            "text/plain": [
              "0             Batman\n",
              "1           Superman\n",
              "2         Spider-Man\n",
              "3           Iron Man\n",
              "4    Captain America\n",
              "5       Wonder Woman\n",
              "dtype: object"
            ]
          },
          "metadata": {},
          "execution_count": 2
        }
      ]
    },
    {
      "cell_type": "code",
      "source": [
        "# Заполните новый объект Series значениями из кортежа уровней силы\n",
        "hers = pd.Series(index = superheroes, data=strength_levels)\n",
        "hers"
      ],
      "metadata": {
        "colab": {
          "base_uri": "https://localhost:8080/"
        },
        "id": "nJW6WVj5HQc0",
        "outputId": "2f92ce5a-6ea0-464a-8cf8-9a95c0cda36a"
      },
      "execution_count": 10,
      "outputs": [
        {
          "output_type": "execute_result",
          "data": {
            "text/plain": [
              "Batman             100\n",
              "Superman           120\n",
              "Spider-Man          90\n",
              "Iron Man            95\n",
              "Captain America    110\n",
              "Wonder Woman       120\n",
              "dtype: int64"
            ]
          },
          "metadata": {},
          "execution_count": 10
        }
      ]
    },
    {
      "cell_type": "code",
      "source": [
        "# Извлеките первые две строки из объекта Series heroes\n",
        "hers.head(2)"
      ],
      "metadata": {
        "colab": {
          "base_uri": "https://localhost:8080/"
        },
        "id": "jN6FTB4dHZvy",
        "outputId": "f92573d3-f563-4d5b-979b-7e2eeafd6f8d"
      },
      "execution_count": 5,
      "outputs": [
        {
          "output_type": "execute_result",
          "data": {
            "text/plain": [
              "100      Batman\n",
              "120    Superman\n",
              "dtype: object"
            ]
          },
          "metadata": {},
          "execution_count": 5
        }
      ]
    },
    {
      "cell_type": "code",
      "source": [
        "# Извлеките последние четыре строки из объекта Series heroes\n",
        "hers.tail(4)"
      ],
      "metadata": {
        "colab": {
          "base_uri": "https://localhost:8080/"
        },
        "id": "stovSMXfJfgh",
        "outputId": "4f542740-f12d-42b5-b78e-f712d6209226"
      },
      "execution_count": 6,
      "outputs": [
        {
          "output_type": "execute_result",
          "data": {
            "text/plain": [
              "90          Spider-Man\n",
              "95            Iron Man\n",
              "110    Captain America\n",
              "120       Wonder Woman\n",
              "dtype: object"
            ]
          },
          "metadata": {},
          "execution_count": 6
        }
      ]
    },
    {
      "cell_type": "code",
      "source": [
        "# Определите количество уникальных значений в heroes\n",
        "hers.nunique()"
      ],
      "metadata": {
        "colab": {
          "base_uri": "https://localhost:8080/"
        },
        "id": "HXKSHFZTJlHa",
        "outputId": "f69135fd-a7cf-411e-8ec3-18f575aa8ce8"
      },
      "execution_count": 9,
      "outputs": [
        {
          "output_type": "execute_result",
          "data": {
            "text/plain": [
              "6"
            ]
          },
          "metadata": {},
          "execution_count": 9
        }
      ]
    },
    {
      "cell_type": "code",
      "source": [
        "# Вычислите среднюю силу супергероев в heroes\n",
        "hers.mean()"
      ],
      "metadata": {
        "colab": {
          "base_uri": "https://localhost:8080/"
        },
        "id": "NfcjNQtUJtBe",
        "outputId": "a050b963-7c2c-4c1c-e6bd-86362e84ede4"
      },
      "execution_count": 12,
      "outputs": [
        {
          "output_type": "execute_result",
          "data": {
            "text/plain": [
              "105.83333333333333"
            ]
          },
          "metadata": {},
          "execution_count": 12
        }
      ]
    },
    {
      "cell_type": "code",
      "source": [
        "# Вычислите максимальную и минимальную силу в heroes\n",
        "print(hers.max())\n",
        "print(hers.min())"
      ],
      "metadata": {
        "colab": {
          "base_uri": "https://localhost:8080/"
        },
        "id": "bS8gjAa_J-Q2",
        "outputId": "4377b924-3c4f-424a-b9a8-244342026286"
      },
      "execution_count": 13,
      "outputs": [
        {
          "output_type": "stream",
          "name": "stdout",
          "text": [
            "120\n",
            "90\n"
          ]
        }
      ]
    },
    {
      "cell_type": "code",
      "source": [
        "# Вычислите, каким будет уровень силы каждого из супергероев при удвоении\n",
        "hers_n = hers * 2\n",
        "hers_n"
      ],
      "metadata": {
        "colab": {
          "base_uri": "https://localhost:8080/"
        },
        "id": "AJH4tZLeKFAP",
        "outputId": "a8b7c9d3-dfa6-4ecb-8130-ad77a7b2d0a4"
      },
      "execution_count": 15,
      "outputs": [
        {
          "output_type": "execute_result",
          "data": {
            "text/plain": [
              "Batman             200\n",
              "Superman           240\n",
              "Spider-Man         180\n",
              "Iron Man           190\n",
              "Captain America    220\n",
              "Wonder Woman       240\n",
              "dtype: int64"
            ]
          },
          "metadata": {},
          "execution_count": 15
        }
      ]
    },
    {
      "cell_type": "code",
      "source": [
        "# Преобразуйте объект Series heroes в ассоциативный массив языка Pythonhe\n",
        "hers_dict = dict(hers)\n",
        "hers_dict"
      ],
      "metadata": {
        "colab": {
          "base_uri": "https://localhost:8080/"
        },
        "id": "_j4ucCGvKPrU",
        "outputId": "87812bea-25cd-4f58-cdab-7b9270af571d"
      },
      "execution_count": 16,
      "outputs": [
        {
          "output_type": "execute_result",
          "data": {
            "text/plain": [
              "{'Batman': 100,\n",
              " 'Superman': 120,\n",
              " 'Spider-Man': 90,\n",
              " 'Iron Man': 95,\n",
              " 'Captain America': 110,\n",
              " 'Wonder Woman': 120}"
            ]
          },
          "metadata": {},
          "execution_count": 16
        }
      ]
    }
  ]
}