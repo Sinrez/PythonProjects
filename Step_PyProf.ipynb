{
  "nbformat": 4,
  "nbformat_minor": 0,
  "metadata": {
    "colab": {
      "provenance": [],
      "authorship_tag": "ABX9TyOnQzgaRKBqIJj3Cyv8YmoC",
      "include_colab_link": true
    },
    "kernelspec": {
      "name": "python3",
      "display_name": "Python 3"
    },
    "language_info": {
      "name": "python"
    }
  },
  "cells": [
    {
      "cell_type": "markdown",
      "metadata": {
        "id": "view-in-github",
        "colab_type": "text"
      },
      "source": [
        "<a href=\"https://colab.research.google.com/github/Sinrez/PythonProjects/blob/main/Step_PyProf.ipynb\" target=\"_parent\"><img src=\"https://colab.research.google.com/assets/colab-badge.svg\" alt=\"Open In Colab\"/></a>"
      ]
    },
    {
      "cell_type": "code",
      "execution_count": 11,
      "metadata": {
        "colab": {
          "base_uri": "https://localhost:8080/"
        },
        "id": "fk9VYEvi4cbd",
        "outputId": "00373d8d-6f03-4d99-a989-8a39fdd5d89a"
      },
      "outputs": [
        {
          "output_type": "stream",
          "name": "stdout",
          "text": [
            "{\n",
            "   \"Angola\" - \"Luanda\",\n",
            "   \"Australia\" - \"Canberra\",\n",
            "   \"Canada\" - \"Ottawa\",\n",
            "   \"Colombia\" - \"Bogota\",\n",
            "   \"Costa Rica\" - \"San Jose\",\n",
            "   \"Cuba\" - \"Havana\",\n",
            "   \"Finland\" - \"Helsinki\",\n",
            "   \"France\" - \"Paris\",\n",
            "   \"Gabon\" - \"Libreville\",\n",
            "   \"Iceland\" - \"Reykjavik\",\n",
            "   \"India\" - \"New Delhi\",\n",
            "   \"Kazakhstan\" - \"Nur-Sultan\",\n",
            "   \"Kenya\" - \"Nairobi\",\n",
            "   \"Liberia\" - \"Monrovia\",\n",
            "   \"Mali\" - \"Bamako\",\n",
            "   \"Monaco\" - \"Monaco\"\n",
            "}\n"
          ]
        }
      ],
      "source": [
        "import json\n",
        "\n",
        "countries = {'Monaco': 'Monaco', 'Iceland': 'Reykjavik', 'Kenya': 'Nairobi', 'Kazakhstan': 'Nur-Sultan',\n",
        "             'Mali': 'Bamako', 'Colombia': 'Bogota', 'Finland': 'Helsinki', 'Costa Rica': 'San Jose',\n",
        "             'Cuba': 'Havana', 'France': 'Paris', 'Gabon': 'Libreville', 'Liberia': 'Monrovia',\n",
        "             'Angola': 'Luanda', 'India': 'New Delhi', 'Canada': 'Ottawa', 'Australia': 'Canberra'}\n",
        "\n",
        "json_data1 = json.dumps(countries, indent=3, separators =(',',' - ' ), sort_keys=True)\n",
        "print(json_data1)"
      ]
    },
    {
      "cell_type": "code",
      "source": [
        "import json\n",
        "\n",
        "words = {\n",
        "         frozenset([\"tap\", \"telephone\"]): (\"tæp\", \"telifəun\"),\n",
        "         \"travel\": \"trævl\",\n",
        "         (\"hello\", \"world\"): (\"həˈləʊ\", \"wɜːld\"),\n",
        "         \"moonlight\": \"muːn.laɪt\",\n",
        "         \"sunshine\": \"ˈsʌn.ʃaɪn\",\n",
        "         (\"why\", \"is\", \"so\", \"difficult\"): (\"waɪ\", \"ɪz\", \"səʊ\", \"ˈdɪfɪkəlt\"),\n",
        "         \"adventure\": \"ədˈventʃər\",\n",
        "         \"beautiful\": \"ˈbjuːtɪfl\",\n",
        "         frozenset([\"spoon\", \"block\"]): (\"spu:n\", \"blɔk\"),\n",
        "         \"bicycle\": \"baisikl\",\n",
        "         (\"pilot\", \"fly\"): (\"pailət\", \"flai\")\n",
        "        }\n",
        "\n",
        "res = {k: w for k, w in words.items() if isinstance(k, (str, int, float, bool)) or k is None}\n",
        "#print(res)\n",
        "json_data1 = json.dumps(res)\n",
        "print(json_data1)"
      ],
      "metadata": {
        "colab": {
          "base_uri": "https://localhost:8080/"
        },
        "id": "-SdyHmRfCgf4",
        "outputId": "c5ea1541-789a-4d98-b8ec-0db031d9633e"
      },
      "execution_count": 18,
      "outputs": [
        {
          "output_type": "stream",
          "name": "stdout",
          "text": [
            "{\"travel\": \"tr\\u00e6vl\", \"moonlight\": \"mu\\u02d0n.la\\u026at\", \"sunshine\": \"\\u02c8s\\u028cn.\\u0283a\\u026an\", \"adventure\": \"\\u0259d\\u02c8vent\\u0283\\u0259r\", \"beautiful\": \"\\u02c8bju\\u02d0t\\u026afl\", \"bicycle\": \"baisikl\"}\n"
          ]
        }
      ]
    },
    {
      "cell_type": "code",
      "source": [
        "import json\n",
        "\n",
        "club1 = {\"name\": \"FC Byern Munchen\", \"country\": \"Germany\", \"founded\": 1900,\n",
        "         \"trainer\": \"Julian Nagelsmann\", \"goalkeeper\": \"M. Neuer\", \"league_position\": 1}\n",
        "\n",
        "club2 = {\"name\": \"FC Barcelona\", \"country\": \"Spain\", \"founded\": 1899,\n",
        "         \"trainer\": \"Xavier Creus\", \"goalkeeper\": \"M. Ter Stegen\", \"league_position\": 7}\n",
        "\n",
        "club3 = {\"name\": \"FC Manchester United\", \"country\": \"England\", \"founded\": 1878,\n",
        "         \"trainer\": \"Michael Carrick\", \"goalkeeper\": \"D. De Gea\", \"league_position\": 8}\n",
        "\n"
      ],
      "metadata": {
        "id": "aY-Tau5RHllO"
      },
      "execution_count": null,
      "outputs": []
    },
    {
      "cell_type": "code",
      "source": [],
      "metadata": {
        "id": "X18H30jXHlZW"
      },
      "execution_count": null,
      "outputs": []
    }
  ]
}