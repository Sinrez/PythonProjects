{
  "nbformat": 4,
  "nbformat_minor": 0,
  "metadata": {
    "colab": {
      "provenance": [],
      "authorship_tag": "ABX9TyPdZQf29YArNmx/ampJ8yey",
      "include_colab_link": true
    },
    "kernelspec": {
      "name": "python3",
      "display_name": "Python 3"
    },
    "language_info": {
      "name": "python"
    }
  },
  "cells": [
    {
      "cell_type": "markdown",
      "metadata": {
        "id": "view-in-github",
        "colab_type": "text"
      },
      "source": [
        "<a href=\"https://colab.research.google.com/github/Sinrez/PythonProjects/blob/main/bs_ex_1.ipynb\" target=\"_parent\"><img src=\"https://colab.research.google.com/assets/colab-badge.svg\" alt=\"Open In Colab\"/></a>"
      ]
    },
    {
      "cell_type": "code",
      "execution_count": null,
      "metadata": {
        "id": "Sew050pRS_uO"
      },
      "outputs": [],
      "source": [
        "html_doc = '''<nav>\n",
        "\n",
        "  \t<ul>\n",
        "\n",
        "  \t\t\t<li><a href=\"/home\">Home</a></li>\n",
        "\n",
        "  \t\t\t<li><a href=\"/about\">About</a></li>\n",
        "\n",
        "  \t\t\t<li><a href=\"/catalog\">Catalog</a></li>\n",
        "\n",
        "  \t\t\t<li><a href=\"/contact\">Contact us</a></li>\n",
        "\n",
        "  \t</ul>\n",
        "\n",
        "  \t<p class=\"title\"><b> Title </b></p>\n",
        "\n",
        "  \t<b>Item 1</b>\n",
        "\n",
        "  \t<b>Item 2</b>\n",
        "\n",
        "  \t<b>Item 3</b>\n",
        "\n",
        "</nav>'''\n",
        "html_doc"
      ]
    },
    {
      "cell_type": "code",
      "source": [
        "from bs4 import BeautifulSoup\n",
        "page = BeautifulSoup(html_doc, features='html.parser')\n",
        "page"
      ],
      "metadata": {
        "colab": {
          "base_uri": "https://localhost:8080/"
        },
        "id": "sqkXJ-2jTEB8",
        "outputId": "d76ed9d2-5dcb-4378-9467-06212ed71505"
      },
      "execution_count": null,
      "outputs": [
        {
          "output_type": "execute_result",
          "data": {
            "text/plain": [
              "<nav>\n",
              "<ul>\n",
              "<li><a href=\"/home\">Home</a></li>\n",
              "<li><a href=\"/about\">About</a></li>\n",
              "<li><a href=\"/catalog\">Catalog</a></li>\n",
              "<li><a href=\"/contact\">Contact us</a></li>\n",
              "</ul>\n",
              "<p class=\"title\">\n",
              "<b> Title </b>\n",
              "</p>\n",
              "<b>Item 1</b>\n",
              "<b>Item 2</b>\n",
              "<b>Item 3</b>\n",
              "</nav>"
            ]
          },
          "metadata": {},
          "execution_count": 4
        }
      ]
    },
    {
      "cell_type": "code",
      "source": [
        "html_doc = '''<nav>\n",
        "<ul>\n",
        "<li><a href=\"/home\">Home</a></li>\n",
        "<li><a href=\"/about\">About</a></li>\n",
        "<li><a href=\"/catalog\">Catalog</a></li>\n",
        "<li><a href=\"/contact\">Contact us</a></li>\n",
        "</ul>\n",
        "<p class=\"title\">\n",
        "<b> Title </b>\n",
        "</p>\n",
        "<b>Item 1</b>\n",
        "<b>Item 2</b>\n",
        "<b>Item 3</b>\n",
        "</nav>'''\n",
        "html_doc"
      ],
      "metadata": {
        "colab": {
          "base_uri": "https://localhost:8080/",
          "height": 53
        },
        "id": "OYnu-cD7Thkd",
        "outputId": "bc65e9de-ac67-4971-92e9-c3ebd94e107b"
      },
      "execution_count": null,
      "outputs": [
        {
          "output_type": "execute_result",
          "data": {
            "text/plain": [
              "'<nav>\\n<ul>\\n<li><a href=\"/home\">Home</a></li>\\n<li><a href=\"/about\">About</a></li>\\n<li><a href=\"/catalog\">Catalog</a></li>\\n<li><a href=\"/contact\">Contact us</a></li>\\n</ul>\\n<p class=\"title\">\\n<b> Title </b>\\n</p>\\n<b>Item 1</b>\\n<b>Item 2</b>\\n<b>Item 3</b>\\n</nav>'"
            ],
            "application/vnd.google.colaboratory.intrinsic+json": {
              "type": "string"
            }
          },
          "metadata": {},
          "execution_count": 2
        }
      ]
    },
    {
      "cell_type": "code",
      "source": [
        "# При помощи Python напишите строку кода, которая выводит текст первого тега <li>.\n",
        "from bs4 import BeautifulSoup\n",
        "page = BeautifulSoup(html_doc, features='html.parser')\n",
        "page.find('li').text"
      ],
      "metadata": {
        "colab": {
          "base_uri": "https://localhost:8080/",
          "height": 35
        },
        "id": "zLE6KbPoTjww",
        "outputId": "5f750c2d-3020-4e9b-be73-1737ef5e1b65"
      },
      "execution_count": null,
      "outputs": [
        {
          "output_type": "execute_result",
          "data": {
            "text/plain": [
              "'Home'"
            ],
            "application/vnd.google.colaboratory.intrinsic+json": {
              "type": "string"
            }
          },
          "metadata": {},
          "execution_count": 7
        }
      ]
    },
    {
      "cell_type": "code",
      "source": [
        "# При помощи языка Python напишите код, который выводит все значения тега <li>.\n",
        "from bs4 import BeautifulSoup\n",
        "page = BeautifulSoup(html_doc, features='html.parser')\n",
        "for p in page.findAll('li'):\n",
        "  print(p.get_text())"
      ],
      "metadata": {
        "colab": {
          "base_uri": "https://localhost:8080/"
        },
        "id": "8uPOtZJH9KNP",
        "outputId": "af059a33-5f2a-4be9-e514-bbeaa3042c4c"
      },
      "execution_count": null,
      "outputs": [
        {
          "output_type": "stream",
          "name": "stdout",
          "text": [
            "Home\n",
            "About\n",
            "Catalog\n",
            "Contact us\n"
          ]
        }
      ]
    },
    {
      "cell_type": "code",
      "source": [
        "html_doc = '''<nav>\n",
        "<ul>\n",
        "<li><a href=\"/home\">Home</a></li>\n",
        "<li><a href=\"/about\">About</a></li>\n",
        "<li><a href=\"/catalog\">Catalog</a></li>\n",
        "<li><a href=\"/contact\">Contact us</a></li>\n",
        "</ul>\n",
        "<p class=\"title\">\n",
        "<b> Title </b>\n",
        "</p>\n",
        "<b>Item 1</b>\n",
        "<b>Item 2</b>\n",
        "<b>Item 3</b>\n",
        "</nav>'''\n",
        "html_doc"
      ],
      "metadata": {
        "colab": {
          "base_uri": "https://localhost:8080/",
          "height": 53
        },
        "id": "dP9Ul_rT_4l-",
        "outputId": "35d91904-d910-489b-f180-cd693cffc8ee"
      },
      "execution_count": null,
      "outputs": [
        {
          "output_type": "execute_result",
          "data": {
            "text/plain": [
              "'<nav>\\n<ul>\\n<li><a href=\"/home\">Home</a></li>\\n<li><a href=\"/about\">About</a></li>\\n<li><a href=\"/catalog\">Catalog</a></li>\\n<li><a href=\"/contact\">Contact us</a></li>\\n</ul>\\n<p class=\"title\">\\n<b> Title </b>\\n</p>\\n<b>Item 1</b>\\n<b>Item 2</b>\\n<b>Item 3</b>\\n</nav>'"
            ],
            "application/vnd.google.colaboratory.intrinsic+json": {
              "type": "string"
            }
          },
          "metadata": {},
          "execution_count": 10
        }
      ]
    },
    {
      "cell_type": "markdown",
      "source": [
        "При помощи языка Python напишите строку кода, которая выводит все теги <а>, у которых значение аттрибута href принимает значение /аbout ."
      ],
      "metadata": {
        "id": "oPLpaFm4KJIl"
      }
    },
    {
      "cell_type": "code",
      "source": [
        "from bs4 import BeautifulSoup\n",
        "page = BeautifulSoup(html_doc, features='html.parser')\n",
        "page.find_all('a', {'href':\"/about\"})"
      ],
      "metadata": {
        "colab": {
          "base_uri": "https://localhost:8080/"
        },
        "id": "xv5d0_NIAFJm",
        "outputId": "680cbc98-a15c-49f4-d96c-cab164a8696f"
      },
      "execution_count": null,
      "outputs": [
        {
          "output_type": "execute_result",
          "data": {
            "text/plain": [
              "[<a href=\"/about\">About</a>]"
            ]
          },
          "metadata": {},
          "execution_count": 14
        }
      ]
    },
    {
      "cell_type": "markdown",
      "source": [
        "При помощи языка Python напишите строки кода, которые выводят все дочерние элементы тега ul с помощью метода .children."
      ],
      "metadata": {
        "id": "fXKV6jIxLlmn"
      }
    },
    {
      "cell_type": "code",
      "source": [
        "html_doc = '''<nav>\n",
        "<ul>\n",
        "<li><a href=\"/home\">Home</a></li>\n",
        "<li><a href=\"/about\">About</a></li>\n",
        "<li><a href=\"/catalog\">Catalog</a></li>\n",
        "<li><a href=\"/contact\">Contact us</a></li>\n",
        "</ul>\n",
        "<p class=\"title\">\n",
        "<b> Title </b>\n",
        "</p>\n",
        "<b>Item 1</b>\n",
        "<b>Item 2</b>\n",
        "<b>Item 3</b>\n",
        "</nav>'''"
      ],
      "metadata": {
        "id": "C4aP9WWzLIzp"
      },
      "execution_count": null,
      "outputs": []
    },
    {
      "cell_type": "code",
      "source": [
        "# При помощи языка Python напишите строки кода, которые выводят все дочерние элементы тега <ul>с помощью метода .children.\n",
        "from pprint import pprint\n",
        "from bs4 import BeautifulSoup\n",
        "page = BeautifulSoup(html_doc, features='html.parser').find('ul')\n",
        "html_childs = [e for e in page.children if e.name is not None]\n",
        "pprint(html_childs)"
      ],
      "metadata": {
        "colab": {
          "base_uri": "https://localhost:8080/"
        },
        "id": "aW9A4ofALL5n",
        "outputId": "d8bba349-81a5-4f4c-fae0-b4b4f81384ab"
      },
      "execution_count": null,
      "outputs": [
        {
          "output_type": "stream",
          "name": "stdout",
          "text": [
            "[<li><a href=\"/home\">Home</a></li>,\n",
            " <li><a href=\"/about\">About</a></li>,\n",
            " <li><a href=\"/catalog\">Catalog</a></li>,\n",
            " <li><a href=\"/contact\">Contact us</a></li>]\n"
          ]
        }
      ]
    },
    {
      "cell_type": "code",
      "source": [
        "from bs4 import BeautifulSoup"
      ],
      "metadata": {
        "id": "rPfSR70wLv5c"
      },
      "execution_count": 32,
      "outputs": []
    },
    {
      "cell_type": "code",
      "source": [
        "html_doc = '''<nav>\n",
        "<ul>\n",
        "<li><a href=\"/home\">Home</a></li>\n",
        "<li><a href=\"/about\">About</a></li>\n",
        "<li><a href=\"/catalog\">Catalog</a></li>\n",
        "<li><a href=\"/contact\">Contact us</a></li>\n",
        "</ul>\n",
        "<p class=\"title\">\n",
        "<b> Title </b>\n",
        "</p>\n",
        "<b>Item 1</b>\n",
        "<b>Item 2</b>\n",
        "<b>Item 3</b>\n",
        "</nav>'''"
      ],
      "metadata": {
        "id": "Cz3LGRoESzWU"
      },
      "execution_count": 33,
      "outputs": []
    },
    {
      "cell_type": "code",
      "source": [
        "# При помощи языка Python напишите строку кода, которая выводит второй тег <li>с помощью метода .next_sibling.\n",
        "from bs4 import BeautifulSoup\n",
        "page = BeautifulSoup(html_doc, features='html.parser')\n",
        "page.find('li').next_sibling"
      ],
      "metadata": {
        "colab": {
          "base_uri": "https://localhost:8080/",
          "height": 35
        },
        "id": "-tt_x0iRS5Hb",
        "outputId": "3886d199-80fc-47ea-e454-98b158894f1f"
      },
      "execution_count": 36,
      "outputs": [
        {
          "output_type": "execute_result",
          "data": {
            "text/plain": [
              "'\\n'"
            ],
            "application/vnd.google.colaboratory.intrinsic+json": {
              "type": "string"
            }
          },
          "metadata": {},
          "execution_count": 36
        }
      ]
    },
    {
      "cell_type": "markdown",
      "source": [],
      "metadata": {
        "id": "gzoGMI5tTjgG"
      }
    },
    {
      "cell_type": "code",
      "source": [
        "html_doc = '''<nav>\n",
        "<ul>\n",
        "<li><a href=\"/home\">Home</a></li>\n",
        "<li><a href=\"/about\">About</a></li>\n",
        "<li><a href=\"/catalog\">Catalog</a></li>\n",
        "<li><a href=\"/contact\">Contact us</a></li>\n",
        "</ul>\n",
        "<p class=\"title\">\n",
        "<b> Title </b>\n",
        "</p>\n",
        "<b>Item 1</b>\n",
        "<b>Item 2</b>\n",
        "<b>Item 3</b>\n",
        "</nav>'''"
      ],
      "metadata": {
        "id": "VAJ-fRLnT-7I"
      },
      "execution_count": 38,
      "outputs": []
    },
    {
      "cell_type": "markdown",
      "source": [
        "При помощи языка Python напишите строку кода для получения всех тегов с помощью метода .select() (с помощью CSS селекторов), у которых аттрибут href из приведенного выше HTML-документа."
      ],
      "metadata": {
        "id": "TCMVveq5UFob"
      }
    },
    {
      "cell_type": "code",
      "source": [
        "from bs4 import BeautifulSoup\n",
        "page = BeautifulSoup(html_doc, features='html.parser')\n",
        "page.select('[href]')"
      ],
      "metadata": {
        "colab": {
          "base_uri": "https://localhost:8080/"
        },
        "id": "CvncQQROUC4V",
        "outputId": "4f18f78b-67bb-4c0c-e9d7-9407c210297d"
      },
      "execution_count": 40,
      "outputs": [
        {
          "output_type": "execute_result",
          "data": {
            "text/plain": [
              "[<a href=\"/home\">Home</a>,\n",
              " <a href=\"/about\">About</a>,\n",
              " <a href=\"/catalog\">Catalog</a>,\n",
              " <a href=\"/contact\">Contact us</a>]"
            ]
          },
          "metadata": {},
          "execution_count": 40
        }
      ]
    },
    {
      "cell_type": "code",
      "source": [
        "html_doc = '''<nav>\n",
        "<ul>\n",
        "<li><a href=\"/home\">Home</a></li>\n",
        "<li><a href=\"/about\">About</a></li>\n",
        "<li><a href=\"/catalog\">Catalog</a></li>\n",
        "<li><a href=\"/contact\">Contact us</a></li>\n",
        "</ul>\n",
        "<p class=\"title\">\n",
        "<b> Title </b>\n",
        "</p>\n",
        "<b>Item 1</b>\n",
        "<b>Item 2</b>\n",
        "<b>Item 3</b>\n",
        "</nav>'''"
      ],
      "metadata": {
        "id": "myloKTu1Ug28"
      },
      "execution_count": 41,
      "outputs": []
    },
    {
      "cell_type": "code",
      "source": [
        "# При помощи языка Python напишите строку кода для получения с помощью метода .select() (с помощью CSS селекторов)\n",
        "# тех тегов из приведенного выше HTML-документа, имена которых НЕ <ul>, <nav>, <li> .\n",
        "from bs4 import BeautifulSoup\n",
        "page = BeautifulSoup(html_doc, features='html.parser')\n",
        "page.select('*:not(ul,nav,li)')"
      ],
      "metadata": {
        "colab": {
          "base_uri": "https://localhost:8080/"
        },
        "id": "Aea_BFNsUh7S",
        "outputId": "c49617f6-d47e-4363-fc98-b4f8cc25d35b"
      },
      "execution_count": 42,
      "outputs": [
        {
          "output_type": "execute_result",
          "data": {
            "text/plain": [
              "[<a href=\"/home\">Home</a>,\n",
              " <a href=\"/about\">About</a>,\n",
              " <a href=\"/catalog\">Catalog</a>,\n",
              " <a href=\"/contact\">Contact us</a>,\n",
              " <p class=\"title\">\n",
              " <b> Title </b>\n",
              " </p>,\n",
              " <b> Title </b>,\n",
              " <b>Item 1</b>,\n",
              " <b>Item 2</b>,\n",
              " <b>Item 3</b>]"
            ]
          },
          "metadata": {},
          "execution_count": 42
        }
      ]
    },
    {
      "cell_type": "code",
      "source": [
        "html_doc = '''<nav>\n",
        "<ul>\n",
        "<li><a href=\"/home\">Home</a></li>\n",
        "<li><a href=\"/about\">About</a></li>\n",
        "<li><a href=\"/catalog\">Catalog</a></li>\n",
        "<li><a href=\"/contact\">Contact us</a></li>\n",
        "</ul>\n",
        "<p class=\"title\"><b> Title </b></p>\n",
        "<b>Item 1</b>\n",
        "<b>Item 2</b>\n",
        "<b>Item 3</b>\n",
        "</nav>'''"
      ],
      "metadata": {
        "id": "-5b0TM3-X2Zi"
      },
      "execution_count": 44,
      "outputs": []
    },
    {
      "cell_type": "markdown",
      "source": [
        "При помощи языка Python напишите функцию get_tag_by_text(page,text), которая с помощью метода next_sibling выводит тег следующий за тегом с текстом Item 1. На вход функция получает объект page конструктора BeautifulSoup (в нашем случае page = BeautifulSoup(html_doc, features='html.parser') и текст тега text (в нашем случае text = 'Item 1')."
      ],
      "metadata": {
        "id": "S-m9hr49YFGc"
      }
    },
    {
      "cell_type": "code",
      "source": [
        "from bs4 import BeautifulSoup\n",
        "html_doc = \"\".join(html_doc.split('\\n'))  # избавляемся от управляющего символа\n",
        "page = BeautifulSoup(html_doc, features='html.parser')\n",
        "text = 'Item 1'\n",
        "def get_tag_by_text(page,text):\n",
        "  for tag in page.find_all():  # перебираем все теги\n",
        "    if tag.string == text: # ищем совпадение текста\n",
        "      result = page.find(tag.name, string = text).next_sibling\n",
        "      return result"
      ],
      "metadata": {
        "colab": {
          "base_uri": "https://localhost:8080/"
        },
        "id": "-9KyNv0BX69N",
        "outputId": "9b7c5425-3525-4cde-af48-f3b446433e95"
      },
      "execution_count": 49,
      "outputs": [
        {
          "output_type": "stream",
          "name": "stdout",
          "text": [
            "None\n"
          ]
        }
      ]
    }
  ]
}