{
  "cells": [
    {
      "cell_type": "markdown",
      "metadata": {
        "id": "view-in-github",
        "colab_type": "text"
      },
      "source": [
        "<a href=\"https://colab.research.google.com/github/Sinrez/PythonProjects/blob/main/Numpy1_3.ipynb\" target=\"_parent\"><img src=\"https://colab.research.google.com/assets/colab-badge.svg\" alt=\"Open In Colab\"/></a>"
      ]
    },
    {
      "cell_type": "markdown",
      "source": [
        "---\n",
        "\n",
        "# Введение в NumPy\n"
      ],
      "metadata": {
        "collapsed": false,
        "id": "nCBOysUWFBby"
      }
    },
    {
      "cell_type": "code",
      "execution_count": 1,
      "outputs": [],
      "source": [
        "import numpy as np"
      ],
      "metadata": {
        "id": "xzGvCKYFFBb0"
      }
    },
    {
      "cell_type": "markdown",
      "source": [
        "---\n",
        "\n",
        "### 3.3 | Индексация, срезы и маски"
      ],
      "metadata": {
        "collapsed": false,
        "id": "CO347lPGFBcC"
      }
    },
    {
      "cell_type": "markdown",
      "source": [
        "---\n",
        "\n",
        "Обращаться к элементам одномерного массива и брать срезы от него можно так:"
      ],
      "metadata": {
        "collapsed": false,
        "id": "Yb35R2Y-FBcC"
      }
    },
    {
      "cell_type": "code",
      "execution_count": 2,
      "outputs": [
        {
          "output_type": "execute_result",
          "data": {
            "text/plain": [
              "(array([4, 5, 6, 7]), 5)"
            ]
          },
          "metadata": {},
          "execution_count": 2
        }
      ],
      "source": [
        "arr = np.arange(4, 8)\n",
        "arr, arr[1] # Взятие первого по индексу элемента"
      ],
      "metadata": {
        "id": "VxFPPaFUFBcC",
        "outputId": "74fe670d-5034-47ba-b276-1929c1e1c6dd",
        "colab": {
          "base_uri": "https://localhost:8080/"
        }
      }
    },
    {
      "cell_type": "code",
      "execution_count": 3,
      "outputs": [
        {
          "output_type": "execute_result",
          "data": {
            "text/plain": [
              "array([4, 5])"
            ]
          },
          "metadata": {},
          "execution_count": 3
        }
      ],
      "source": [
        "arr[0:2] # Срез от 0 до 2 индекса"
      ],
      "metadata": {
        "id": "1YCSJLD_FBcC",
        "outputId": "6e7a121d-c762-46cf-bdf7-d1c3eb82b77f",
        "colab": {
          "base_uri": "https://localhost:8080/"
        }
      }
    },
    {
      "cell_type": "code",
      "execution_count": 4,
      "outputs": [
        {
          "output_type": "execute_result",
          "data": {
            "text/plain": [
              "array([5, 6, 7])"
            ]
          },
          "metadata": {},
          "execution_count": 4
        }
      ],
      "source": [
        "arr[1:] # Срез от первого индекса и до конца"
      ],
      "metadata": {
        "id": "mnMcsNh_FBcD",
        "outputId": "0916da4f-45a0-4446-c1d7-9d48fc579073",
        "colab": {
          "base_uri": "https://localhost:8080/"
        }
      }
    },
    {
      "cell_type": "code",
      "execution_count": 5,
      "outputs": [
        {
          "output_type": "execute_result",
          "data": {
            "text/plain": [
              "array([6, 7])"
            ]
          },
          "metadata": {},
          "execution_count": 5
        }
      ],
      "source": [
        "arr[-2:] # Сраз со второго с конца индекса и до конца"
      ],
      "metadata": {
        "id": "4Uep9Z_JFBcD",
        "outputId": "4520740a-1dec-4f5e-ffcb-d03791ece37d",
        "colab": {
          "base_uri": "https://localhost:8080/"
        }
      }
    },
    {
      "cell_type": "code",
      "source": [
        "arr[::-1]"
      ],
      "metadata": {
        "colab": {
          "base_uri": "https://localhost:8080/"
        },
        "id": "2nkLltzLmKtP",
        "outputId": "87a15e0c-afc3-4c7a-fde5-e50ded8fac29"
      },
      "execution_count": 6,
      "outputs": [
        {
          "output_type": "execute_result",
          "data": {
            "text/plain": [
              "array([7, 6, 5, 4])"
            ]
          },
          "metadata": {},
          "execution_count": 6
        }
      ]
    },
    {
      "cell_type": "markdown",
      "source": [
        "---\n",
        "\n",
        "Использовать индексы и срезы в многомерных массивах можно так:"
      ],
      "metadata": {
        "collapsed": false,
        "id": "Iu8V26FyFBcD"
      }
    },
    {
      "cell_type": "code",
      "execution_count": 7,
      "outputs": [
        {
          "output_type": "execute_result",
          "data": {
            "text/plain": [
              "array([[1, 2],\n",
              "       [3, 4],\n",
              "       [5, 6]])"
            ]
          },
          "metadata": {},
          "execution_count": 7
        }
      ],
      "source": [
        "arr = np.array([[1, 2], [3, 4], [5, 6]])\n",
        "arr"
      ],
      "metadata": {
        "id": "98jcg-8VFBcD",
        "outputId": "65ebd2f2-9e6f-4c91-b448-9203ad572edb",
        "colab": {
          "base_uri": "https://localhost:8080/"
        }
      }
    },
    {
      "cell_type": "code",
      "execution_count": 8,
      "outputs": [
        {
          "output_type": "execute_result",
          "data": {
            "text/plain": [
              "4"
            ]
          },
          "metadata": {},
          "execution_count": 8
        }
      ],
      "source": [
        "arr[1, 1]"
      ],
      "metadata": {
        "id": "DOhz_Ym_FBcD",
        "outputId": "46d52eda-4a9a-44fb-f796-dd1f7e83b17c",
        "colab": {
          "base_uri": "https://localhost:8080/"
        }
      }
    },
    {
      "cell_type": "code",
      "execution_count": 9,
      "outputs": [
        {
          "output_type": "execute_result",
          "data": {
            "text/plain": [
              "array([1, 3, 5])"
            ]
          },
          "metadata": {},
          "execution_count": 9
        }
      ],
      "source": [
        "arr[:, 0]"
      ],
      "metadata": {
        "id": "gEGZ889FFBcD",
        "outputId": "77c3fb6c-361c-4b32-be3f-3298594d6168",
        "colab": {
          "base_uri": "https://localhost:8080/"
        }
      }
    },
    {
      "cell_type": "code",
      "execution_count": 10,
      "outputs": [
        {
          "output_type": "execute_result",
          "data": {
            "text/plain": [
              "array([[3],\n",
              "       [5]])"
            ]
          },
          "metadata": {},
          "execution_count": 10
        }
      ],
      "source": [
        "arr[-2:, :1]"
      ],
      "metadata": {
        "id": "351hZeHvFBcE",
        "outputId": "b506e328-c2cf-4154-f351-bc78dfada3e6",
        "colab": {
          "base_uri": "https://localhost:8080/"
        }
      }
    },
    {
      "cell_type": "markdown",
      "source": [
        "---\n",
        "\n",
        "Логические маски можно получать следующим образом:"
      ],
      "metadata": {
        "collapsed": false,
        "id": "MZySGB1_FBcE"
      }
    },
    {
      "cell_type": "code",
      "execution_count": 11,
      "outputs": [
        {
          "output_type": "execute_result",
          "data": {
            "text/plain": [
              "array([[1, 2],\n",
              "       [3, 4],\n",
              "       [5, 6]])"
            ]
          },
          "metadata": {},
          "execution_count": 11
        }
      ],
      "source": [
        "arr = np.array([[1, 2], [3, 4], [5, 6]])\n",
        "arr"
      ],
      "metadata": {
        "id": "imCvrZVxFBcE",
        "outputId": "e49d92f6-ce31-428f-f317-7e55740375af",
        "colab": {
          "base_uri": "https://localhost:8080/"
        }
      }
    },
    {
      "cell_type": "code",
      "execution_count": 12,
      "outputs": [
        {
          "output_type": "execute_result",
          "data": {
            "text/plain": [
              "array([[False, False],\n",
              "       [False,  True],\n",
              "       [ True,  True]])"
            ]
          },
          "metadata": {},
          "execution_count": 12
        }
      ],
      "source": [
        "arr > 3"
      ],
      "metadata": {
        "id": "NY1GHuSuFBcE",
        "outputId": "b7a70afa-9525-4f15-9d96-180d16bc0ea5",
        "colab": {
          "base_uri": "https://localhost:8080/"
        }
      }
    },
    {
      "cell_type": "markdown",
      "source": [
        "---\n",
        "\n",
        "Маски можно накладывать на реальные данные:"
      ],
      "metadata": {
        "collapsed": false,
        "id": "7cgf3GydFBcE"
      }
    },
    {
      "cell_type": "code",
      "execution_count": 13,
      "outputs": [
        {
          "output_type": "execute_result",
          "data": {
            "text/plain": [
              "array([4, 5, 6])"
            ]
          },
          "metadata": {},
          "execution_count": 13
        }
      ],
      "source": [
        "mask = arr > 3\n",
        "arr[mask]"
      ],
      "metadata": {
        "id": "-Ajt4hHjFBcE",
        "outputId": "e1513bde-2e0d-495c-ea43-caaa64bf4d3c",
        "colab": {
          "base_uri": "https://localhost:8080/"
        }
      }
    },
    {
      "cell_type": "code",
      "source": [
        "~mask"
      ],
      "metadata": {
        "colab": {
          "base_uri": "https://localhost:8080/"
        },
        "id": "C2UtFcvUmiFi",
        "outputId": "3bdd4607-09b2-4262-c40b-4a500d712249"
      },
      "execution_count": 14,
      "outputs": [
        {
          "output_type": "execute_result",
          "data": {
            "text/plain": [
              "array([[ True,  True],\n",
              "       [ True, False],\n",
              "       [False, False]])"
            ]
          },
          "metadata": {},
          "execution_count": 14
        }
      ]
    },
    {
      "cell_type": "code",
      "source": [
        "arr[~mask]"
      ],
      "metadata": {
        "colab": {
          "base_uri": "https://localhost:8080/"
        },
        "id": "cT1dhN6cmds9",
        "outputId": "12b3d2dc-a03a-4887-a517-786eba17f3c8"
      },
      "execution_count": 15,
      "outputs": [
        {
          "output_type": "execute_result",
          "data": {
            "text/plain": [
              "array([1, 2, 3])"
            ]
          },
          "metadata": {},
          "execution_count": 15
        }
      ]
    },
    {
      "cell_type": "markdown",
      "source": [
        "---\n",
        "\n",
        "Поддерживаются также логические операции <<или>> или <<и>>:"
      ],
      "metadata": {
        "collapsed": false,
        "id": "H_FtD3f9FBcF"
      }
    },
    {
      "cell_type": "code",
      "execution_count": 16,
      "outputs": [
        {
          "output_type": "execute_result",
          "data": {
            "text/plain": [
              "array([2, 3, 4, 5, 6])"
            ]
          },
          "metadata": {},
          "execution_count": 16
        }
      ],
      "source": [
        "mask = ((arr > 0) & (arr % 2 == 0)) | (arr == 5) | (arr == 3)\n",
        "arr[mask]"
      ],
      "metadata": {
        "id": "O5tf517lFBcF",
        "outputId": "94afba98-c5bd-4954-ace5-7f32cc5ac8b0",
        "colab": {
          "base_uri": "https://localhost:8080/"
        }
      }
    },
    {
      "cell_type": "markdown",
      "source": [
        "---\n",
        "\n",
        "Выделенным ячейкам можно присваивать разные значения:"
      ],
      "metadata": {
        "collapsed": false,
        "id": "KtyXaYV0FBcF"
      }
    },
    {
      "cell_type": "code",
      "execution_count": 17,
      "outputs": [
        {
          "output_type": "execute_result",
          "data": {
            "text/plain": [
              "array([[1, 2],\n",
              "       [3, 4],\n",
              "       [5, 6]])"
            ]
          },
          "metadata": {},
          "execution_count": 17
        }
      ],
      "source": [
        "arr = np.array([[1, 2], [3, 4], [5, 6]])\n",
        "arr"
      ],
      "metadata": {
        "id": "Gs8aSzsYFBcF",
        "outputId": "754ef25d-3d5e-4ace-94d7-cb17a1470a62",
        "colab": {
          "base_uri": "https://localhost:8080/"
        }
      }
    },
    {
      "cell_type": "code",
      "execution_count": 18,
      "outputs": [
        {
          "output_type": "execute_result",
          "data": {
            "text/plain": [
              "array([[ 1, 10],\n",
              "       [ 3,  4],\n",
              "       [ 5,  6]])"
            ]
          },
          "metadata": {},
          "execution_count": 18
        }
      ],
      "source": [
        "arr[0, 1] = 10 # Присваиваем конкретной ячейке значение 10\n",
        "arr"
      ],
      "metadata": {
        "id": "kJqV-VIzFBcF",
        "outputId": "76febda8-1ea3-4c9a-cd32-cba1df6d5102",
        "colab": {
          "base_uri": "https://localhost:8080/"
        }
      }
    },
    {
      "cell_type": "code",
      "execution_count": 19,
      "outputs": [
        {
          "output_type": "execute_result",
          "data": {
            "text/plain": [
              "array([[ 1, 10],\n",
              "       [ 0,  0],\n",
              "       [ 5,  6]])"
            ]
          },
          "metadata": {},
          "execution_count": 19
        }
      ],
      "source": [
        "arr[1, :] = 0 # Срез ячеек первой строки и всех колонок\n",
        "arr"
      ],
      "metadata": {
        "id": "VnLy9owdFBcF",
        "outputId": "4a59c62f-4a41-417b-9f9c-bd93140aba5f",
        "colab": {
          "base_uri": "https://localhost:8080/"
        }
      }
    },
    {
      "cell_type": "code",
      "execution_count": 20,
      "outputs": [
        {
          "output_type": "execute_result",
          "data": {
            "text/plain": [
              "array([[ 1, 75],\n",
              "       [75, 75],\n",
              "       [ 5, 75]])"
            ]
          },
          "metadata": {},
          "execution_count": 20
        }
      ],
      "source": [
        "arr[arr % 2 == 0] = 75 # Все ячейки с нечетными значениями\n",
        "arr"
      ],
      "metadata": {
        "id": "O9V4GSB6FBcG",
        "outputId": "6e0148ba-78bf-445b-89da-38d39462c21c",
        "colab": {
          "base_uri": "https://localhost:8080/"
        }
      }
    },
    {
      "cell_type": "markdown",
      "source": [
        "---\n",
        "\n",
        "Можно получить индексы всех элементов, удовлетворяющих маске:"
      ],
      "metadata": {
        "collapsed": false,
        "id": "FZjhqz1cFBcG"
      }
    },
    {
      "cell_type": "code",
      "execution_count": null,
      "outputs": [
        {
          "output_type": "execute_result",
          "data": {
            "text/plain": [
              "array([[1, 2, 3],\n",
              "       [4, 5, 6],\n",
              "       [7, 8, 9]])"
            ]
          },
          "metadata": {},
          "execution_count": 21
        }
      ],
      "source": [
        "arr = np.array([[1, 2, 3], [4, 5, 6], [7, 8, 9]])\n",
        "arr"
      ],
      "metadata": {
        "id": "xdR48K4fFBcG",
        "outputId": "9f4a1462-16cb-4529-88a2-0c32d9e06d7b",
        "colab": {
          "base_uri": "https://localhost:8080/"
        }
      }
    },
    {
      "cell_type": "code",
      "execution_count": 21,
      "outputs": [
        {
          "output_type": "execute_result",
          "data": {
            "text/plain": [
              "(array([0, 2]), array([0, 0]))"
            ]
          },
          "metadata": {},
          "execution_count": 21
        }
      ],
      "source": [
        "np.where(arr <  6)"
      ],
      "metadata": {
        "id": "GwBZQBJUFBcG",
        "outputId": "8bf9df53-e26e-4b72-b8ab-a447a4752403",
        "colab": {
          "base_uri": "https://localhost:8080/"
        }
      }
    },
    {
      "cell_type": "markdown",
      "source": [
        "---\n",
        "\n",
        "Существуют функции $\\mathsf{np.hsplit}$ и $\\mathsf{np.vsplit}$, разделяющие данные вдоль строк и столбцов:"
      ],
      "metadata": {
        "collapsed": false,
        "id": "gtzAKyziFBcG"
      }
    },
    {
      "cell_type": "code",
      "execution_count": 22,
      "outputs": [
        {
          "output_type": "execute_result",
          "data": {
            "text/plain": [
              "array([[ 1,  2,  3,  4,  5,  6,  7,  8,  9, 10],\n",
              "       [11, 12, 13, 14, 15, 16, 17, 18, 19, 20]])"
            ]
          },
          "metadata": {},
          "execution_count": 22
        }
      ],
      "source": [
        "arr = np.arange(1, 21).reshape((2, -1))\n",
        "arr"
      ],
      "metadata": {
        "id": "ppRw1yOBFBcG",
        "outputId": "022efa0e-05c9-4f5c-f24a-a890ad967fc3",
        "colab": {
          "base_uri": "https://localhost:8080/"
        }
      }
    },
    {
      "cell_type": "code",
      "source": [
        "import numpy as np\n",
        "def new_arr(m, n):\n",
        "  return np.arange(m,n+1).reshape(3,3)\n",
        "\n",
        "# def new_arr(m, n):\n",
        "#     if m > n: # если min > max, меняем местами\n",
        "#         min1 = m\n",
        "#         m = n\n",
        "#         n = min1\n",
        "#     return np.linspace(m, n, num =  9).reshape(3,3)\n",
        "\n",
        "new_arr(51,59)"
      ],
      "metadata": {
        "colab": {
          "base_uri": "https://localhost:8080/"
        },
        "id": "NxX3DMZA8o6r",
        "outputId": "7c459167-d3c5-4280-e883-ac0fde45f5ab"
      },
      "execution_count": 30,
      "outputs": [
        {
          "output_type": "execute_result",
          "data": {
            "text/plain": [
              "array([[51, 52, 53],\n",
              "       [54, 55, 56],\n",
              "       [57, 58, 59]])"
            ]
          },
          "metadata": {},
          "execution_count": 30
        }
      ]
    },
    {
      "cell_type": "code",
      "execution_count": null,
      "outputs": [
        {
          "output_type": "execute_result",
          "data": {
            "text/plain": [
              "[array([[ 1,  2],\n",
              "        [11, 12]]),\n",
              " array([[ 3,  4],\n",
              "        [13, 14]]),\n",
              " array([[ 5,  6],\n",
              "        [15, 16]]),\n",
              " array([[ 7,  8],\n",
              "        [17, 18]]),\n",
              " array([[ 9, 10],\n",
              "        [19, 20]])]"
            ]
          },
          "metadata": {},
          "execution_count": 24
        }
      ],
      "source": [
        "np.hsplit(arr, 5)"
      ],
      "metadata": {
        "id": "ZIqKFiUZFBcG",
        "outputId": "bef2840f-612e-472d-8881-75150b1a3b05",
        "colab": {
          "base_uri": "https://localhost:8080/"
        }
      }
    },
    {
      "cell_type": "markdown",
      "source": [
        "---\n",
        "\n",
        "Также есть функция $\\mathsf{np.copy}$:"
      ],
      "metadata": {
        "collapsed": false,
        "id": "VtomTMBBFBcH"
      }
    },
    {
      "cell_type": "code",
      "execution_count": null,
      "outputs": [
        {
          "output_type": "execute_result",
          "data": {
            "text/plain": [
              "array([[0, 1, 2],\n",
              "       [3, 4, 5]])"
            ]
          },
          "metadata": {},
          "execution_count": 25
        }
      ],
      "source": [
        "arr = np.arange(6).reshape((2, -1))\n",
        "arr"
      ],
      "metadata": {
        "id": "RniqZL8YFBcH",
        "outputId": "851046fc-adf5-4a0c-b802-4ceb8b1409dc",
        "colab": {
          "base_uri": "https://localhost:8080/"
        }
      }
    },
    {
      "cell_type": "code",
      "execution_count": null,
      "outputs": [
        {
          "output_type": "execute_result",
          "data": {
            "text/plain": [
              "array([[0, 1, 2],\n",
              "       [3, 4, 5]])"
            ]
          },
          "metadata": {},
          "execution_count": 26
        }
      ],
      "source": [
        "arr_copy = arr.copy()\n",
        "arr_copy"
      ],
      "metadata": {
        "id": "oDRGyZ7tFBcH",
        "outputId": "afc3df56-25e6-4eed-c6c9-69919d4bfd90",
        "colab": {
          "base_uri": "https://localhost:8080/"
        }
      }
    },
    {
      "cell_type": "code",
      "execution_count": null,
      "outputs": [
        {
          "output_type": "execute_result",
          "data": {
            "text/plain": [
              "array([[10,  1, 10],\n",
              "       [ 3, 10,  5]])"
            ]
          },
          "metadata": {},
          "execution_count": 27
        }
      ],
      "source": [
        "arr_copy[arr_copy % 2 == 0] = 10\n",
        "arr_copy"
      ],
      "metadata": {
        "id": "XgQbpD_AFBcH",
        "outputId": "68f93ae7-d9c6-4cf6-e091-156f10761aa9",
        "colab": {
          "base_uri": "https://localhost:8080/"
        }
      }
    },
    {
      "cell_type": "code",
      "execution_count": null,
      "outputs": [
        {
          "output_type": "execute_result",
          "data": {
            "text/plain": [
              "array([[0, 1, 2],\n",
              "       [3, 4, 5]])"
            ]
          },
          "metadata": {},
          "execution_count": 28
        }
      ],
      "source": [
        "arr"
      ],
      "metadata": {
        "id": "eahbUr5uFBcH",
        "outputId": "74035700-aa5e-439c-d647-644c1432258f",
        "colab": {
          "base_uri": "https://localhost:8080/"
        }
      }
    },
    {
      "cell_type": "markdown",
      "source": [
        "---"
      ],
      "metadata": {
        "collapsed": false,
        "id": "DjkpjmRIFBcQ"
      }
    }
  ],
  "metadata": {
    "kernelspec": {
      "display_name": "Python 3",
      "language": "python",
      "name": "python3"
    },
    "language_info": {
      "codemirror_mode": {
        "name": "ipython",
        "version": 2
      },
      "file_extension": ".py",
      "mimetype": "text/x-python",
      "name": "python",
      "nbconvert_exporter": "python",
      "pygments_lexer": "ipython2",
      "version": "2.7.6"
    },
    "colab": {
      "provenance": [],
      "include_colab_link": true
    }
  },
  "nbformat": 4,
  "nbformat_minor": 0
}