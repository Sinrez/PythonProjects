{
  "nbformat": 4,
  "nbformat_minor": 0,
  "metadata": {
    "colab": {
      "provenance": [],
      "authorship_tag": "ABX9TyMAt+2/GUkr1i8Th6/V+jVO",
      "include_colab_link": true
    },
    "kernelspec": {
      "name": "python3",
      "display_name": "Python 3"
    },
    "language_info": {
      "name": "python"
    }
  },
  "cells": [
    {
      "cell_type": "markdown",
      "metadata": {
        "id": "view-in-github",
        "colab_type": "text"
      },
      "source": [
        "<a href=\"https://colab.research.google.com/github/Sinrez/PythonProjects/blob/main/stepic_numpy.ipynb\" target=\"_parent\"><img src=\"https://colab.research.google.com/assets/colab-badge.svg\" alt=\"Open In Colab\"/></a>"
      ]
    },
    {
      "cell_type": "code",
      "execution_count": 1,
      "metadata": {
        "id": "ilNGE8UsmM8s"
      },
      "outputs": [],
      "source": [
        "import numpy as np"
      ]
    },
    {
      "cell_type": "code",
      "source": [
        "#создаем список на 1кк элементов\n",
        "lst = list(range(1_000_000))"
      ],
      "metadata": {
        "id": "Ntoq_7BGmVC-"
      },
      "execution_count": null,
      "outputs": []
    },
    {
      "cell_type": "code",
      "source": [
        "#создаем аналогичный массив с помощью библиотеки numpy\n",
        "arr = np.arange(1_000_000)"
      ],
      "metadata": {
        "id": "YYGNUpQZmYbP"
      },
      "execution_count": null,
      "outputs": []
    },
    {
      "cell_type": "code",
      "source": [
        "#возведем каждый элемент в квадрат 10 раз и подсчитаем время выполнения данной операции, командой %time\n",
        "%time for _ in range(10): lst2 = [x**2 for x in lst]\n",
        "#результат: 3.65с"
      ],
      "metadata": {
        "colab": {
          "base_uri": "https://localhost:8080/"
        },
        "id": "iZpTXViYma-F",
        "outputId": "8ca6d5a5-8c08-4f82-a119-2474549b7b8e"
      },
      "execution_count": null,
      "outputs": [
        {
          "output_type": "stream",
          "name": "stdout",
          "text": [
            "CPU times: user 3.48 s, sys: 166 ms, total: 3.65 s\n",
            "Wall time: 3.7 s\n"
          ]
        }
      ]
    },
    {
      "cell_type": "code",
      "source": [
        "#возведем каждый элемент в квадрат 10 раз с помощью numpy, командой %time\n",
        "%time for _ in range(10): arr2 = arr ** 2\n",
        "#результат: 20 мс. Выполнение в сотни раз быстрее"
      ],
      "metadata": {
        "colab": {
          "base_uri": "https://localhost:8080/"
        },
        "id": "ZhAjRWmCmi0o",
        "outputId": "b4f1a066-da10-43bd-f9d9-aa3677018fdd"
      },
      "execution_count": null,
      "outputs": [
        {
          "output_type": "stream",
          "name": "stdout",
          "text": [
            "CPU times: user 14.3 ms, sys: 3.03 ms, total: 17.3 ms\n",
            "Wall time: 20.8 ms\n"
          ]
        }
      ]
    },
    {
      "cell_type": "code",
      "source": [
        "#Создание обычного массива\n",
        "arr1 = np.array([1,2,3,4.5])\n",
        "arr1"
      ],
      "metadata": {
        "colab": {
          "base_uri": "https://localhost:8080/"
        },
        "id": "kEdxNFItmoMm",
        "outputId": "ab54889f-87d0-4375-816a-4385a587e0c8"
      },
      "execution_count": null,
      "outputs": [
        {
          "output_type": "execute_result",
          "data": {
            "text/plain": [
              "array([1. , 2. , 3. , 4.5])"
            ]
          },
          "metadata": {},
          "execution_count": 6
        }
      ]
    },
    {
      "cell_type": "code",
      "source": [
        "import numpy as np\n",
        "\n",
        "def solution():\n",
        "    arr = np.zeros((2,5))\n",
        "    return arr\n",
        "solution()"
      ],
      "metadata": {
        "colab": {
          "base_uri": "https://localhost:8080/"
        },
        "id": "GkJ6eipemsXO",
        "outputId": "a504813d-684a-451f-a07c-fbffb4f03c08"
      },
      "execution_count": null,
      "outputs": [
        {
          "output_type": "execute_result",
          "data": {
            "text/plain": [
              "array([[0., 0., 0., 0., 0.],\n",
              "       [0., 0., 0., 0., 0.]])"
            ]
          },
          "metadata": {},
          "execution_count": 3
        }
      ]
    },
    {
      "cell_type": "code",
      "source": [
        "#Step_2.2.5 - Создайте массив заполненный единицами, \n",
        "#у которого 5 строк и 8 столбцов (5 вложенных массивов длинной 8)\n",
        "import numpy as np\n",
        "\n",
        "def solution():\n",
        "    arr = np.ones((5,8))\n",
        "    return arr\n",
        "solution()"
      ],
      "metadata": {
        "colab": {
          "base_uri": "https://localhost:8080/"
        },
        "id": "DpZg6pffpYtF",
        "outputId": "d30de9e1-cf77-4ca1-d045-194b4e649d41"
      },
      "execution_count": null,
      "outputs": [
        {
          "output_type": "execute_result",
          "data": {
            "text/plain": [
              "array([[1., 1., 1., 1., 1., 1., 1., 1.],\n",
              "       [1., 1., 1., 1., 1., 1., 1., 1.],\n",
              "       [1., 1., 1., 1., 1., 1., 1., 1.],\n",
              "       [1., 1., 1., 1., 1., 1., 1., 1.],\n",
              "       [1., 1., 1., 1., 1., 1., 1., 1.]])"
            ]
          },
          "metadata": {},
          "execution_count": 4
        }
      ]
    },
    {
      "cell_type": "code",
      "source": [
        "# Создайте одномерный numpy массив со значениями 0, 1, 2, .... 99 (диапазон значений от 0 до 99)\n",
        "import numpy as np\n",
        "\n",
        "def solution():\n",
        "    arr = np.arange(0,100)\n",
        "    return arr\n",
        "solution()"
      ],
      "metadata": {
        "colab": {
          "base_uri": "https://localhost:8080/"
        },
        "id": "Ttj5dS0mpqOZ",
        "outputId": "87a25ebe-5505-4e31-8ffa-1d21ce2b8ffb"
      },
      "execution_count": null,
      "outputs": [
        {
          "output_type": "execute_result",
          "data": {
            "text/plain": [
              "array([ 0,  1,  2,  3,  4,  5,  6,  7,  8,  9, 10, 11, 12, 13, 14, 15, 16,\n",
              "       17, 18, 19, 20, 21, 22, 23, 24, 25, 26, 27, 28, 29, 30, 31, 32, 33,\n",
              "       34, 35, 36, 37, 38, 39, 40, 41, 42, 43, 44, 45, 46, 47, 48, 49, 50,\n",
              "       51, 52, 53, 54, 55, 56, 57, 58, 59, 60, 61, 62, 63, 64, 65, 66, 67,\n",
              "       68, 69, 70, 71, 72, 73, 74, 75, 76, 77, 78, 79, 80, 81, 82, 83, 84,\n",
              "       85, 86, 87, 88, 89, 90, 91, 92, 93, 94, 95, 96, 97, 98, 99])"
            ]
          },
          "metadata": {},
          "execution_count": 6
        }
      ]
    },
    {
      "cell_type": "code",
      "source": [
        "#Step_2.2.5 - Создайте двумерный массив размером 5 х 2, который полностью будет заполнен значением 'G' \n",
        "import numpy as np\n",
        "\n",
        "def solution():\n",
        "    arr = np.full((5, 2), 'G')\n",
        "    return arr"
      ],
      "metadata": {
        "id": "3YDHU2zqrDVq"
      },
      "execution_count": null,
      "outputs": []
    },
    {
      "cell_type": "code",
      "source": [
        "import numpy as np\n",
        "\n",
        "def solution(lst):\n",
        "    arr = np.array(lst, dtype=np.float64)\n",
        "    return arr"
      ],
      "metadata": {
        "id": "C1LgnC-BBqcQ"
      },
      "execution_count": null,
      "outputs": []
    },
    {
      "cell_type": "code",
      "source": [
        "#STEP_2.3.15_Задача\n",
        "#К вам в распоряжение поступает массив arr с типом float64. \n",
        "#Преобразуйте, пожалуйста, в int32\n",
        "import numpy as np\n",
        "\n",
        "def solution(lst):\n",
        "    arr = lst.astype(np.int32)\n",
        "    return arr"
      ],
      "metadata": {
        "id": "8deRShYGBrH_"
      },
      "execution_count": null,
      "outputs": []
    },
    {
      "cell_type": "code",
      "source": [
        "import numpy as np\n",
        "\n",
        "def solution(arr):\n",
        "    arr = arr / 115 * 100\n",
        "    return arr"
      ],
      "metadata": {
        "id": "e-CQoWKj7NlY"
      },
      "execution_count": null,
      "outputs": []
    },
    {
      "cell_type": "markdown",
      "source": [
        "Выполните действия\n",
        "\n",
        "1)Создайте одномерный массив со значениями в диапазоне от 0 до 10 (включительно). \n",
        "\n",
        "2)Создайте второй одномерный массив со значениями в диапазоне от 10 до 20 (включительно). \n",
        "\n",
        "3)Вычтите из второго массива первый. \n",
        "\n",
        "4)Проверьте каждое значение получившегося массива на равенство значению 10. Результат сравнения верните в отдельном numpy массиве."
      ],
      "metadata": {
        "id": "ndPUTtaK8aFi"
      }
    },
    {
      "cell_type": "code",
      "source": [
        "import numpy as np\n",
        "\n",
        "def solution():\n",
        "    arr1 = np.arange(0,11)\n",
        "    arr2 = np.arange(10,21)\n",
        "    delta = arr2 - arr1\n",
        "    arr = np.array(arr2-arr1) == 10\n",
        "    return arr"
      ],
      "metadata": {
        "id": "DpWwQbCk7OPt"
      },
      "execution_count": null,
      "outputs": []
    },
    {
      "cell_type": "markdown",
      "source": [
        "На вход вашей функции подается некоторый одномерный массив. Предполагается, что там лежат числа с плавающей точкой, но записаны они как строка. Выполните сложение элементов с индексами 1 и 3. На выходе ваша функция должна вернуть число (сумма двух элементов массива)."
      ],
      "metadata": {
        "id": "eXSQVGzTbVzc"
      }
    },
    {
      "cell_type": "code",
      "source": [
        "import numpy as np\n",
        "\n",
        "def solution(arr):\n",
        "    arr1 = np.array(arr, dtype=np.float64)\n",
        "    arr_res = arr1[1]+arr1[3]\n",
        "    return arr_res"
      ],
      "metadata": {
        "id": "D-kwyTVR8eDX"
      },
      "execution_count": null,
      "outputs": []
    },
    {
      "cell_type": "markdown",
      "source": [
        "На вход вашей функции подается два одномерных массива. Сложите первые два элемента первого массива с последними двумя элементами второго массива (поэлементно)."
      ],
      "metadata": {
        "id": "n476aMKwAMge"
      }
    },
    {
      "cell_type": "code",
      "source": [
        "import numpy as np\n",
        "\n",
        "def solution(arr1, arr2):\n",
        "    arr = arr1[:2]+arr2[-2:]\n",
        "    return arr"
      ],
      "metadata": {
        "id": "RtUS9ai1b0nR"
      },
      "execution_count": null,
      "outputs": []
    },
    {
      "cell_type": "markdown",
      "source": [
        "На вход подается некоторый одномерный массив. Занулите первые 3 элемента."
      ],
      "metadata": {
        "id": "8akAJBluCcff"
      }
    },
    {
      "cell_type": "code",
      "source": [
        "import numpy as np\n",
        "\n",
        "def solution(arr):\n",
        "    arr[:3] = 0\n",
        "    return arr"
      ],
      "metadata": {
        "id": "vStAMnRJCdSm"
      },
      "execution_count": null,
      "outputs": []
    },
    {
      "cell_type": "code",
      "source": [
        "m3d = np.array([[[1,2,3],[4,5,6]],[[7,8,9],[10,11,12]]])\n",
        "m3d"
      ],
      "metadata": {
        "colab": {
          "base_uri": "https://localhost:8080/"
        },
        "id": "hSO8lmovsd_L",
        "outputId": "5855f663-83a4-4690-dfc9-af8411a33dac"
      },
      "execution_count": 2,
      "outputs": [
        {
          "output_type": "execute_result",
          "data": {
            "text/plain": [
              "array([[[ 1,  2,  3],\n",
              "        [ 4,  5,  6]],\n",
              "\n",
              "       [[ 7,  8,  9],\n",
              "        [10, 11, 12]]])"
            ]
          },
          "metadata": {},
          "execution_count": 2
        }
      ]
    },
    {
      "cell_type": "code",
      "source": [
        "m2d = np.array([[1,2,3,4],[5,6,7,8],[9,10,11,12],[13,14,15,16],[17,18,19,20]])\n",
        "m2d"
      ],
      "metadata": {
        "colab": {
          "base_uri": "https://localhost:8080/"
        },
        "id": "T1YYldnQtHla",
        "outputId": "3f4a6a62-93a4-4d43-9689-d2b98acb12f7"
      },
      "execution_count": 3,
      "outputs": [
        {
          "output_type": "execute_result",
          "data": {
            "text/plain": [
              "array([[ 1,  2,  3,  4],\n",
              "       [ 5,  6,  7,  8],\n",
              "       [ 9, 10, 11, 12],\n",
              "       [13, 14, 15, 16],\n",
              "       [17, 18, 19, 20]])"
            ]
          },
          "metadata": {},
          "execution_count": 3
        }
      ]
    },
    {
      "cell_type": "code",
      "source": [
        "#теперь получим значения по колонкам (столбцам)\n",
        "#Возьмем первый столбик\n",
        "m2d[:,0]\n",
        "#то есть мы взяли все строки и из каждой строки получили элемент с индексом 0"
      ],
      "metadata": {
        "colab": {
          "base_uri": "https://localhost:8080/"
        },
        "id": "npLWIbtktJEu",
        "outputId": "fa9e85a7-6a2e-4b02-a2e9-cbae8ba66204"
      },
      "execution_count": 4,
      "outputs": [
        {
          "output_type": "execute_result",
          "data": {
            "text/plain": [
              "array([ 1,  5,  9, 13, 17])"
            ]
          },
          "metadata": {},
          "execution_count": 4
        }
      ]
    },
    {
      "cell_type": "code",
      "source": [
        "#Возьмем вторую и третью колонку\n",
        "m2d[:,1:3]"
      ],
      "metadata": {
        "colab": {
          "base_uri": "https://localhost:8080/"
        },
        "id": "vPvHnlaqtR_S",
        "outputId": "b9f87cf8-966a-4bc9-8070-0b9fb0521231"
      },
      "execution_count": 5,
      "outputs": [
        {
          "output_type": "execute_result",
          "data": {
            "text/plain": [
              "array([[ 2,  3],\n",
              "       [ 6,  7],\n",
              "       [10, 11],\n",
              "       [14, 15],\n",
              "       [18, 19]])"
            ]
          },
          "metadata": {},
          "execution_count": 5
        }
      ]
    },
    {
      "cell_type": "code",
      "source": [
        "#Для закрепления получим 3 и 4 строку, элеметны 3,4\n",
        "m2d[3:5,2:5]"
      ],
      "metadata": {
        "colab": {
          "base_uri": "https://localhost:8080/"
        },
        "id": "841Rbdk4tXl_",
        "outputId": "049b18ba-0d93-4274-a955-cb5e2fb5e202"
      },
      "execution_count": 6,
      "outputs": [
        {
          "output_type": "execute_result",
          "data": {
            "text/plain": [
              "array([[15, 16],\n",
              "       [19, 20]])"
            ]
          },
          "metadata": {},
          "execution_count": 6
        }
      ]
    },
    {
      "cell_type": "code",
      "source": [],
      "metadata": {
        "id": "dAXzGZBgtd1t"
      },
      "execution_count": null,
      "outputs": []
    }
  ]
}