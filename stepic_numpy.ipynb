{
  "nbformat": 4,
  "nbformat_minor": 0,
  "metadata": {
    "colab": {
      "provenance": [],
      "authorship_tag": "ABX9TyMUOXTQAWuqutHU/g/0RyEJ",
      "include_colab_link": true
    },
    "kernelspec": {
      "name": "python3",
      "display_name": "Python 3"
    },
    "language_info": {
      "name": "python"
    }
  },
  "cells": [
    {
      "cell_type": "markdown",
      "metadata": {
        "id": "view-in-github",
        "colab_type": "text"
      },
      "source": [
        "<a href=\"https://colab.research.google.com/github/Sinrez/PythonProjects/blob/main/stepic_numpy.ipynb\" target=\"_parent\"><img src=\"https://colab.research.google.com/assets/colab-badge.svg\" alt=\"Open In Colab\"/></a>"
      ]
    },
    {
      "cell_type": "code",
      "execution_count": 1,
      "metadata": {
        "id": "ilNGE8UsmM8s"
      },
      "outputs": [],
      "source": [
        "import numpy as np"
      ]
    },
    {
      "cell_type": "code",
      "source": [
        "#создаем список на 1кк элементов\n",
        "lst = list(range(1_000_000))"
      ],
      "metadata": {
        "id": "Ntoq_7BGmVC-"
      },
      "execution_count": 2,
      "outputs": []
    },
    {
      "cell_type": "code",
      "source": [
        "#создаем аналогичный массив с помощью библиотеки numpy\n",
        "arr = np.arange(1_000_000)"
      ],
      "metadata": {
        "id": "YYGNUpQZmYbP"
      },
      "execution_count": 3,
      "outputs": []
    },
    {
      "cell_type": "code",
      "source": [
        "#возведем каждый элемент в квадрат 10 раз и подсчитаем время выполнения данной операции, командой %time\n",
        "%time for _ in range(10): lst2 = [x**2 for x in lst]\n",
        "#результат: 3.65с"
      ],
      "metadata": {
        "colab": {
          "base_uri": "https://localhost:8080/"
        },
        "id": "iZpTXViYma-F",
        "outputId": "8ca6d5a5-8c08-4f82-a119-2474549b7b8e"
      },
      "execution_count": 4,
      "outputs": [
        {
          "output_type": "stream",
          "name": "stdout",
          "text": [
            "CPU times: user 3.48 s, sys: 166 ms, total: 3.65 s\n",
            "Wall time: 3.7 s\n"
          ]
        }
      ]
    },
    {
      "cell_type": "code",
      "source": [
        "#возведем каждый элемент в квадрат 10 раз с помощью numpy, командой %time\n",
        "%time for _ in range(10): arr2 = arr ** 2\n",
        "#результат: 20 мс. Выполнение в сотни раз быстрее"
      ],
      "metadata": {
        "colab": {
          "base_uri": "https://localhost:8080/"
        },
        "id": "ZhAjRWmCmi0o",
        "outputId": "b4f1a066-da10-43bd-f9d9-aa3677018fdd"
      },
      "execution_count": 5,
      "outputs": [
        {
          "output_type": "stream",
          "name": "stdout",
          "text": [
            "CPU times: user 14.3 ms, sys: 3.03 ms, total: 17.3 ms\n",
            "Wall time: 20.8 ms\n"
          ]
        }
      ]
    },
    {
      "cell_type": "code",
      "source": [
        "#Создание обычного массива\n",
        "arr1 = np.array([1,2,3,4.5])\n",
        "arr1"
      ],
      "metadata": {
        "colab": {
          "base_uri": "https://localhost:8080/"
        },
        "id": "kEdxNFItmoMm",
        "outputId": "ab54889f-87d0-4375-816a-4385a587e0c8"
      },
      "execution_count": 6,
      "outputs": [
        {
          "output_type": "execute_result",
          "data": {
            "text/plain": [
              "array([1. , 2. , 3. , 4.5])"
            ]
          },
          "metadata": {},
          "execution_count": 6
        }
      ]
    },
    {
      "cell_type": "code",
      "source": [],
      "metadata": {
        "id": "GkJ6eipemsXO"
      },
      "execution_count": null,
      "outputs": []
    }
  ]
}