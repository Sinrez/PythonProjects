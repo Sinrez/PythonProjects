{
  "nbformat": 4,
  "nbformat_minor": 0,
  "metadata": {
    "colab": {
      "provenance": [],
      "authorship_tag": "ABX9TyO3T+owWhvIwgeXj35vqhhV",
      "include_colab_link": true
    },
    "kernelspec": {
      "name": "python3",
      "display_name": "Python 3"
    },
    "language_info": {
      "name": "python"
    }
  },
  "cells": [
    {
      "cell_type": "markdown",
      "metadata": {
        "id": "view-in-github",
        "colab_type": "text"
      },
      "source": [
        "<a href=\"https://colab.research.google.com/github/Sinrez/PythonProjects/blob/main/stepic_numpy.ipynb\" target=\"_parent\"><img src=\"https://colab.research.google.com/assets/colab-badge.svg\" alt=\"Open In Colab\"/></a>"
      ]
    },
    {
      "cell_type": "code",
      "execution_count": null,
      "metadata": {
        "id": "ilNGE8UsmM8s"
      },
      "outputs": [],
      "source": [
        "import numpy as np"
      ]
    },
    {
      "cell_type": "code",
      "source": [
        "#создаем список на 1кк элементов\n",
        "lst = list(range(1_000_000))"
      ],
      "metadata": {
        "id": "Ntoq_7BGmVC-"
      },
      "execution_count": null,
      "outputs": []
    },
    {
      "cell_type": "code",
      "source": [
        "#создаем аналогичный массив с помощью библиотеки numpy\n",
        "arr = np.arange(1_000_000)"
      ],
      "metadata": {
        "id": "YYGNUpQZmYbP"
      },
      "execution_count": null,
      "outputs": []
    },
    {
      "cell_type": "code",
      "source": [
        "#возведем каждый элемент в квадрат 10 раз и подсчитаем время выполнения данной операции, командой %time\n",
        "%time for _ in range(10): lst2 = [x**2 for x in lst]\n",
        "#результат: 3.65с"
      ],
      "metadata": {
        "colab": {
          "base_uri": "https://localhost:8080/"
        },
        "id": "iZpTXViYma-F",
        "outputId": "8ca6d5a5-8c08-4f82-a119-2474549b7b8e"
      },
      "execution_count": null,
      "outputs": [
        {
          "output_type": "stream",
          "name": "stdout",
          "text": [
            "CPU times: user 3.48 s, sys: 166 ms, total: 3.65 s\n",
            "Wall time: 3.7 s\n"
          ]
        }
      ]
    },
    {
      "cell_type": "code",
      "source": [
        "#возведем каждый элемент в квадрат 10 раз с помощью numpy, командой %time\n",
        "%time for _ in range(10): arr2 = arr ** 2\n",
        "#результат: 20 мс. Выполнение в сотни раз быстрее"
      ],
      "metadata": {
        "colab": {
          "base_uri": "https://localhost:8080/"
        },
        "id": "ZhAjRWmCmi0o",
        "outputId": "b4f1a066-da10-43bd-f9d9-aa3677018fdd"
      },
      "execution_count": null,
      "outputs": [
        {
          "output_type": "stream",
          "name": "stdout",
          "text": [
            "CPU times: user 14.3 ms, sys: 3.03 ms, total: 17.3 ms\n",
            "Wall time: 20.8 ms\n"
          ]
        }
      ]
    },
    {
      "cell_type": "code",
      "source": [
        "#Создание обычного массива\n",
        "arr1 = np.array([1,2,3,4.5])\n",
        "arr1"
      ],
      "metadata": {
        "colab": {
          "base_uri": "https://localhost:8080/"
        },
        "id": "kEdxNFItmoMm",
        "outputId": "ab54889f-87d0-4375-816a-4385a587e0c8"
      },
      "execution_count": null,
      "outputs": [
        {
          "output_type": "execute_result",
          "data": {
            "text/plain": [
              "array([1. , 2. , 3. , 4.5])"
            ]
          },
          "metadata": {},
          "execution_count": 6
        }
      ]
    },
    {
      "cell_type": "code",
      "source": [
        "import numpy as np\n",
        "\n",
        "def solution():\n",
        "    arr = np.zeros((2,5))\n",
        "    return arr\n",
        "solution()"
      ],
      "metadata": {
        "colab": {
          "base_uri": "https://localhost:8080/"
        },
        "id": "GkJ6eipemsXO",
        "outputId": "a504813d-684a-451f-a07c-fbffb4f03c08"
      },
      "execution_count": null,
      "outputs": [
        {
          "output_type": "execute_result",
          "data": {
            "text/plain": [
              "array([[0., 0., 0., 0., 0.],\n",
              "       [0., 0., 0., 0., 0.]])"
            ]
          },
          "metadata": {},
          "execution_count": 3
        }
      ]
    },
    {
      "cell_type": "code",
      "source": [
        "#Step_2.2.5 - Создайте массив заполненный единицами, \n",
        "#у которого 5 строк и 8 столбцов (5 вложенных массивов длинной 8)\n",
        "import numpy as np\n",
        "\n",
        "def solution():\n",
        "    arr = np.ones((5,8))\n",
        "    return arr\n",
        "solution()"
      ],
      "metadata": {
        "colab": {
          "base_uri": "https://localhost:8080/"
        },
        "id": "DpZg6pffpYtF",
        "outputId": "d30de9e1-cf77-4ca1-d045-194b4e649d41"
      },
      "execution_count": null,
      "outputs": [
        {
          "output_type": "execute_result",
          "data": {
            "text/plain": [
              "array([[1., 1., 1., 1., 1., 1., 1., 1.],\n",
              "       [1., 1., 1., 1., 1., 1., 1., 1.],\n",
              "       [1., 1., 1., 1., 1., 1., 1., 1.],\n",
              "       [1., 1., 1., 1., 1., 1., 1., 1.],\n",
              "       [1., 1., 1., 1., 1., 1., 1., 1.]])"
            ]
          },
          "metadata": {},
          "execution_count": 4
        }
      ]
    },
    {
      "cell_type": "code",
      "source": [
        "# Создайте одномерный numpy массив со значениями 0, 1, 2, .... 99 (диапазон значений от 0 до 99)\n",
        "import numpy as np\n",
        "\n",
        "def solution():\n",
        "    arr = np.arange(0,100)\n",
        "    return arr\n",
        "solution()"
      ],
      "metadata": {
        "colab": {
          "base_uri": "https://localhost:8080/"
        },
        "id": "Ttj5dS0mpqOZ",
        "outputId": "87a25ebe-5505-4e31-8ffa-1d21ce2b8ffb"
      },
      "execution_count": null,
      "outputs": [
        {
          "output_type": "execute_result",
          "data": {
            "text/plain": [
              "array([ 0,  1,  2,  3,  4,  5,  6,  7,  8,  9, 10, 11, 12, 13, 14, 15, 16,\n",
              "       17, 18, 19, 20, 21, 22, 23, 24, 25, 26, 27, 28, 29, 30, 31, 32, 33,\n",
              "       34, 35, 36, 37, 38, 39, 40, 41, 42, 43, 44, 45, 46, 47, 48, 49, 50,\n",
              "       51, 52, 53, 54, 55, 56, 57, 58, 59, 60, 61, 62, 63, 64, 65, 66, 67,\n",
              "       68, 69, 70, 71, 72, 73, 74, 75, 76, 77, 78, 79, 80, 81, 82, 83, 84,\n",
              "       85, 86, 87, 88, 89, 90, 91, 92, 93, 94, 95, 96, 97, 98, 99])"
            ]
          },
          "metadata": {},
          "execution_count": 6
        }
      ]
    },
    {
      "cell_type": "code",
      "source": [
        "#Step_2.2.5 - Создайте двумерный массив размером 5 х 2, который полностью будет заполнен значением 'G' \n",
        "import numpy as np\n",
        "\n",
        "def solution():\n",
        "    arr = np.full((5, 2), 'G')\n",
        "    return arr"
      ],
      "metadata": {
        "id": "3YDHU2zqrDVq"
      },
      "execution_count": null,
      "outputs": []
    },
    {
      "cell_type": "code",
      "source": [
        "import numpy as np\n",
        "\n",
        "def solution(lst):\n",
        "    arr = np.array(lst, dtype=np.float64)\n",
        "    return arr"
      ],
      "metadata": {
        "id": "C1LgnC-BBqcQ"
      },
      "execution_count": null,
      "outputs": []
    },
    {
      "cell_type": "code",
      "source": [
        "#STEP_2.3.15_Задача\n",
        "#К вам в распоряжение поступает массив arr с типом float64. \n",
        "#Преобразуйте, пожалуйста, в int32\n",
        "import numpy as np\n",
        "\n",
        "def solution(lst):\n",
        "    arr = lst.astype(np.int32)\n",
        "    return arr"
      ],
      "metadata": {
        "id": "8deRShYGBrH_"
      },
      "execution_count": null,
      "outputs": []
    },
    {
      "cell_type": "code",
      "source": [
        "import numpy as np\n",
        "\n",
        "def solution(arr):\n",
        "    arr = arr / 115 * 100\n",
        "    return arr"
      ],
      "metadata": {
        "id": "e-CQoWKj7NlY"
      },
      "execution_count": null,
      "outputs": []
    },
    {
      "cell_type": "markdown",
      "source": [
        "Выполните действия\n",
        "\n",
        "1)Создайте одномерный массив со значениями в диапазоне от 0 до 10 (включительно). \n",
        "\n",
        "2)Создайте второй одномерный массив со значениями в диапазоне от 10 до 20 (включительно). \n",
        "\n",
        "3)Вычтите из второго массива первый. \n",
        "\n",
        "4)Проверьте каждое значение получившегося массива на равенство значению 10. Результат сравнения верните в отдельном numpy массиве."
      ],
      "metadata": {
        "id": "ndPUTtaK8aFi"
      }
    },
    {
      "cell_type": "code",
      "source": [
        "import numpy as np\n",
        "\n",
        "def solution():\n",
        "    arr1 = np.arange(0,11)\n",
        "    arr2 = np.arange(10,21)\n",
        "    delta = arr2 - arr1\n",
        "    arr = np.array(arr2-arr1) == 10\n",
        "    return arr"
      ],
      "metadata": {
        "id": "DpWwQbCk7OPt"
      },
      "execution_count": null,
      "outputs": []
    },
    {
      "cell_type": "markdown",
      "source": [
        "На вход вашей функции подается некоторый одномерный массив. Предполагается, что там лежат числа с плавающей точкой, но записаны они как строка. Выполните сложение элементов с индексами 1 и 3. На выходе ваша функция должна вернуть число (сумма двух элементов массива)."
      ],
      "metadata": {
        "id": "eXSQVGzTbVzc"
      }
    },
    {
      "cell_type": "code",
      "source": [
        "import numpy as np\n",
        "\n",
        "def solution(arr):\n",
        "    arr1 = np.array(arr, dtype=np.float64)\n",
        "    arr_res = arr1[1]+arr1[3]\n",
        "    return arr_res"
      ],
      "metadata": {
        "id": "D-kwyTVR8eDX"
      },
      "execution_count": null,
      "outputs": []
    },
    {
      "cell_type": "markdown",
      "source": [
        "На вход вашей функции подается два одномерных массива. Сложите первые два элемента первого массива с последними двумя элементами второго массива (поэлементно)."
      ],
      "metadata": {
        "id": "n476aMKwAMge"
      }
    },
    {
      "cell_type": "code",
      "source": [
        "import numpy as np\n",
        "\n",
        "def solution(arr1, arr2):\n",
        "    arr = arr1[:2]+arr2[-2:]\n",
        "    return arr"
      ],
      "metadata": {
        "id": "RtUS9ai1b0nR"
      },
      "execution_count": null,
      "outputs": []
    },
    {
      "cell_type": "markdown",
      "source": [
        "На вход подается некоторый одномерный массив. Занулите первые 3 элемента."
      ],
      "metadata": {
        "id": "8akAJBluCcff"
      }
    },
    {
      "cell_type": "code",
      "source": [
        "import numpy as np\n",
        "\n",
        "def solution(arr):\n",
        "    arr[:3] = 0\n",
        "    return arr"
      ],
      "metadata": {
        "id": "vStAMnRJCdSm"
      },
      "execution_count": null,
      "outputs": []
    },
    {
      "cell_type": "code",
      "source": [
        "m3d = np.array([[[1,2,3],[4,5,6]],[[7,8,9],[10,11,12]]])\n",
        "m3d"
      ],
      "metadata": {
        "colab": {
          "base_uri": "https://localhost:8080/"
        },
        "id": "hSO8lmovsd_L",
        "outputId": "5855f663-83a4-4690-dfc9-af8411a33dac"
      },
      "execution_count": null,
      "outputs": [
        {
          "output_type": "execute_result",
          "data": {
            "text/plain": [
              "array([[[ 1,  2,  3],\n",
              "        [ 4,  5,  6]],\n",
              "\n",
              "       [[ 7,  8,  9],\n",
              "        [10, 11, 12]]])"
            ]
          },
          "metadata": {},
          "execution_count": 2
        }
      ]
    },
    {
      "cell_type": "code",
      "source": [
        "m2d = np.array([[1,2,3,4],[5,6,7,8],[9,10,11,12],[13,14,15,16],[17,18,19,20]])\n",
        "m2d"
      ],
      "metadata": {
        "colab": {
          "base_uri": "https://localhost:8080/"
        },
        "id": "T1YYldnQtHla",
        "outputId": "3f4a6a62-93a4-4d43-9689-d2b98acb12f7"
      },
      "execution_count": null,
      "outputs": [
        {
          "output_type": "execute_result",
          "data": {
            "text/plain": [
              "array([[ 1,  2,  3,  4],\n",
              "       [ 5,  6,  7,  8],\n",
              "       [ 9, 10, 11, 12],\n",
              "       [13, 14, 15, 16],\n",
              "       [17, 18, 19, 20]])"
            ]
          },
          "metadata": {},
          "execution_count": 3
        }
      ]
    },
    {
      "cell_type": "code",
      "source": [
        "#теперь получим значения по колонкам (столбцам)\n",
        "#Возьмем первый столбик\n",
        "m2d[:,0]\n",
        "#то есть мы взяли все строки и из каждой строки получили элемент с индексом 0"
      ],
      "metadata": {
        "colab": {
          "base_uri": "https://localhost:8080/"
        },
        "id": "npLWIbtktJEu",
        "outputId": "fa9e85a7-6a2e-4b02-a2e9-cbae8ba66204"
      },
      "execution_count": null,
      "outputs": [
        {
          "output_type": "execute_result",
          "data": {
            "text/plain": [
              "array([ 1,  5,  9, 13, 17])"
            ]
          },
          "metadata": {},
          "execution_count": 4
        }
      ]
    },
    {
      "cell_type": "code",
      "source": [
        "#Возьмем вторую и третью колонку\n",
        "m2d[:,1:3]"
      ],
      "metadata": {
        "colab": {
          "base_uri": "https://localhost:8080/"
        },
        "id": "vPvHnlaqtR_S",
        "outputId": "b9f87cf8-966a-4bc9-8070-0b9fb0521231"
      },
      "execution_count": null,
      "outputs": [
        {
          "output_type": "execute_result",
          "data": {
            "text/plain": [
              "array([[ 2,  3],\n",
              "       [ 6,  7],\n",
              "       [10, 11],\n",
              "       [14, 15],\n",
              "       [18, 19]])"
            ]
          },
          "metadata": {},
          "execution_count": 5
        }
      ]
    },
    {
      "cell_type": "code",
      "source": [
        "#Для закрепления получим 3 и 4 строку, элеметны 3,4\n",
        "m2d[3:5,2:5]"
      ],
      "metadata": {
        "colab": {
          "base_uri": "https://localhost:8080/"
        },
        "id": "841Rbdk4tXl_",
        "outputId": "049b18ba-0d93-4274-a955-cb5e2fb5e202"
      },
      "execution_count": null,
      "outputs": [
        {
          "output_type": "execute_result",
          "data": {
            "text/plain": [
              "array([[15, 16],\n",
              "       [19, 20]])"
            ]
          },
          "metadata": {},
          "execution_count": 6
        }
      ]
    },
    {
      "cell_type": "code",
      "source": [
        "m = np.arange(5)\n",
        "m"
      ],
      "metadata": {
        "colab": {
          "base_uri": "https://localhost:8080/"
        },
        "id": "dAXzGZBgtd1t",
        "outputId": "8c45166e-606b-4b0e-ac27-2fca55c85a2a"
      },
      "execution_count": null,
      "outputs": [
        {
          "output_type": "execute_result",
          "data": {
            "text/plain": [
              "array([0, 1, 2, 3, 4])"
            ]
          },
          "metadata": {},
          "execution_count": 7
        }
      ]
    },
    {
      "cell_type": "code",
      "source": [
        "mask = [True, True, False, False, True]"
      ],
      "metadata": {
        "id": "zKbF2zEct8V-"
      },
      "execution_count": null,
      "outputs": []
    },
    {
      "cell_type": "code",
      "source": [
        "m2 = m[mask]\n",
        "m2"
      ],
      "metadata": {
        "colab": {
          "base_uri": "https://localhost:8080/"
        },
        "id": "LKjp0Iw84S5w",
        "outputId": "83ddf06f-71be-4ea0-efb1-0abd0614baef"
      },
      "execution_count": null,
      "outputs": [
        {
          "output_type": "execute_result",
          "data": {
            "text/plain": [
              "array([0, 1, 4])"
            ]
          },
          "metadata": {},
          "execution_count": 9
        }
      ]
    },
    {
      "cell_type": "code",
      "source": [
        "users = np.array(['Андрей', 'Михаил', 'Ольга', 'Джон', 'Андрей'])"
      ],
      "metadata": {
        "id": "fLt0gWru4VTC"
      },
      "execution_count": null,
      "outputs": []
    },
    {
      "cell_type": "code",
      "source": [
        "visits = np.array([\n",
        "    [1,0,1,0,0,1,0],\n",
        "    [1,0,0,1,0,1,1],\n",
        "    [1,0,1,0,1,1,1],\n",
        "    [1,0,0,1,0,1,1],\n",
        "    [1,0,1,0,1,1,1],\n",
        "])"
      ],
      "metadata": {
        "id": "XqXjJqAs4apJ"
      },
      "execution_count": null,
      "outputs": []
    },
    {
      "cell_type": "code",
      "source": [
        "mask = users == 'Андрей'\n",
        "mask"
      ],
      "metadata": {
        "colab": {
          "base_uri": "https://localhost:8080/"
        },
        "id": "Y8ujont34dFR",
        "outputId": "70f61677-2f26-4007-e37c-5385fcb0acac"
      },
      "execution_count": null,
      "outputs": [
        {
          "output_type": "execute_result",
          "data": {
            "text/plain": [
              "array([ True, False, False, False,  True])"
            ]
          },
          "metadata": {},
          "execution_count": 12
        }
      ]
    },
    {
      "cell_type": "code",
      "source": [
        "visits[mask]"
      ],
      "metadata": {
        "colab": {
          "base_uri": "https://localhost:8080/"
        },
        "id": "SiGVndKa4gMd",
        "outputId": "3389a64c-4de5-4094-da64-023cf9774229"
      },
      "execution_count": null,
      "outputs": [
        {
          "output_type": "execute_result",
          "data": {
            "text/plain": [
              "array([[1, 0, 1, 0, 0, 1, 0],\n",
              "       [1, 0, 1, 0, 1, 1, 1]])"
            ]
          },
          "metadata": {},
          "execution_count": 13
        }
      ]
    },
    {
      "cell_type": "code",
      "source": [
        "import numpy as np\n",
        "\n",
        "def solution(arr):\n",
        "    arr = arr[:2,:2]\n",
        "    return arr"
      ],
      "metadata": {
        "id": "UGng8nGW4mQR"
      },
      "execution_count": null,
      "outputs": []
    },
    {
      "cell_type": "code",
      "source": [
        "import numpy as np\n",
        "\n",
        "def solution(arr):\n",
        "    arr = arr[1:3,-2:]\n",
        "    return arr"
      ],
      "metadata": {
        "id": "s4fpo5d74wze"
      },
      "execution_count": null,
      "outputs": []
    },
    {
      "cell_type": "code",
      "source": [
        "m2d[1][1]"
      ],
      "metadata": {
        "colab": {
          "base_uri": "https://localhost:8080/"
        },
        "id": "tfzz2X7K7Jtp",
        "outputId": "2abee766-fb8c-4505-f000-61dfbc3b03af"
      },
      "execution_count": null,
      "outputs": [
        {
          "output_type": "execute_result",
          "data": {
            "text/plain": [
              "6"
            ]
          },
          "metadata": {},
          "execution_count": 14
        }
      ]
    },
    {
      "cell_type": "code",
      "source": [
        "m2d[1:2,1:2]"
      ],
      "metadata": {
        "colab": {
          "base_uri": "https://localhost:8080/"
        },
        "id": "4_Y-UI-dQfKl",
        "outputId": "2cc8db9f-9664-4a41-aa38-7f36cc2f4d1a"
      },
      "execution_count": null,
      "outputs": [
        {
          "output_type": "execute_result",
          "data": {
            "text/plain": [
              "array([[6]])"
            ]
          },
          "metadata": {},
          "execution_count": 16
        }
      ]
    },
    {
      "cell_type": "code",
      "source": [
        "import numpy as np\n",
        "\n",
        "def solution(arr):\n",
        "    arr = arr[1]+arr[3]\n",
        "    return arr"
      ],
      "metadata": {
        "id": "rZqhDranS6t6"
      },
      "execution_count": null,
      "outputs": []
    },
    {
      "cell_type": "code",
      "source": [
        "import numpy as np\n",
        "\n",
        "def solution(arr):\n",
        "    arr = arr[1:4,1] + arr[2:,2]\n",
        "    return arr"
      ],
      "metadata": {
        "id": "BfIx3aRcS7bj"
      },
      "execution_count": null,
      "outputs": []
    },
    {
      "cell_type": "code",
      "source": [
        "import numpy as np\n",
        "\n",
        "def solution(arr):\n",
        "    arr = arr[2:,:2]+arr[:3,3:]\n",
        "    return arr"
      ],
      "metadata": {
        "id": "gh0nL_Ghg5_R"
      },
      "execution_count": null,
      "outputs": []
    },
    {
      "cell_type": "code",
      "source": [
        "users = np.array(['Андрей', 'Михаил', 'Ольга', 'Джон', 'Андрей'])\n",
        "visits = np.array([\n",
        "    [1,0,1,0,0,1,0],\n",
        "    [1,0,0,1,0,1,1],\n",
        "    [1,0,1,0,1,1,1],\n",
        "    [1,0,0,1,0,1,1],\n",
        "    [1,0,1,0,1,1,1],\n",
        "])"
      ],
      "metadata": {
        "id": "BoVEk_UkSLTl"
      },
      "execution_count": null,
      "outputs": []
    },
    {
      "cell_type": "code",
      "source": [
        "mask = users == 'Андрей'\n",
        "mask"
      ],
      "metadata": {
        "colab": {
          "base_uri": "https://localhost:8080/"
        },
        "id": "uhnXb9UfSSfb",
        "outputId": "af924a5f-099d-438c-e669-f15303db0927"
      },
      "execution_count": null,
      "outputs": [
        {
          "output_type": "execute_result",
          "data": {
            "text/plain": [
              "array([ True, False, False, False,  True])"
            ]
          },
          "metadata": {},
          "execution_count": 3
        }
      ]
    },
    {
      "cell_type": "code",
      "source": [
        "visits[mask]"
      ],
      "metadata": {
        "colab": {
          "base_uri": "https://localhost:8080/"
        },
        "id": "fHG8OnKhSVcf",
        "outputId": "8efe5276-595f-4665-b74f-94e9b7d383d5"
      },
      "execution_count": null,
      "outputs": [
        {
          "output_type": "execute_result",
          "data": {
            "text/plain": [
              "array([[1, 0, 1, 0, 0, 1, 0],\n",
              "       [1, 0, 1, 0, 1, 1, 1]])"
            ]
          },
          "metadata": {},
          "execution_count": 5
        }
      ]
    },
    {
      "cell_type": "code",
      "source": [
        "m2d = np.array([[1,1,1,1],[2,2,2,2],[3,3,3,3],[4,4,4,4],[5,5,5,5]])\n",
        "m2d"
      ],
      "metadata": {
        "colab": {
          "base_uri": "https://localhost:8080/"
        },
        "id": "x9WirvOASvp7",
        "outputId": "0a6cc4bf-c848-4c24-b2d1-db669ee10c28"
      },
      "execution_count": null,
      "outputs": [
        {
          "output_type": "execute_result",
          "data": {
            "text/plain": [
              "array([[1, 1, 1, 1],\n",
              "       [2, 2, 2, 2],\n",
              "       [3, 3, 3, 3],\n",
              "       [4, 4, 4, 4],\n",
              "       [5, 5, 5, 5]])"
            ]
          },
          "metadata": {},
          "execution_count": 6
        }
      ]
    },
    {
      "cell_type": "code",
      "source": [
        "m2d[[0,2,4]]"
      ],
      "metadata": {
        "colab": {
          "base_uri": "https://localhost:8080/"
        },
        "id": "qmTwYdJBS5lS",
        "outputId": "480f5c2b-9fae-4c18-f6c2-3cd7c5371cd5"
      },
      "execution_count": null,
      "outputs": [
        {
          "output_type": "execute_result",
          "data": {
            "text/plain": [
              "array([[1, 1, 1, 1],\n",
              "       [3, 3, 3, 3],\n",
              "       [5, 5, 5, 5]])"
            ]
          },
          "metadata": {},
          "execution_count": 7
        }
      ]
    },
    {
      "cell_type": "code",
      "source": [
        "import numpy as np\n",
        "\n",
        "def solution(arr):\n",
        "    arr = (arr < 20) | (arr > 40)\n",
        "    return arr"
      ],
      "metadata": {
        "id": "c7mTm-mOS8al"
      },
      "execution_count": null,
      "outputs": []
    },
    {
      "cell_type": "markdown",
      "source": [
        "На вход подается одномерный массив, преобразуйте его в трехмерный массив, где каждая матрица будет размером 4х5 и таких матриц должно быть 10"
      ],
      "metadata": {
        "id": "1-IJbskeTxgx"
      }
    },
    {
      "cell_type": "code",
      "source": [
        "import numpy as np\n",
        "\n",
        "def solution(arr):\n",
        "    arr = arr.reshape(10,4,5)\n",
        "    return arr"
      ],
      "metadata": {
        "id": "hr_zXlKxTJMa"
      },
      "execution_count": null,
      "outputs": []
    },
    {
      "cell_type": "code",
      "source": [
        "import numpy as np\n",
        "\n",
        "def solution(arr):\n",
        "    arr1, arr2 = arr[0], arr[-1]\n",
        "    arr = np.minimum(arr1 , arr2)\n",
        "    return arr"
      ],
      "metadata": {
        "id": "E5Qh-0vVT0LK"
      },
      "execution_count": null,
      "outputs": []
    },
    {
      "cell_type": "markdown",
      "source": [
        "На вход подаётся два одномерных массива. Сравните их поэлементно: постройте новый массив из минимальных значений. У нового одномерного массива найдите максимальное значение"
      ],
      "metadata": {
        "id": "yTSJ1Seitqk3"
      }
    },
    {
      "cell_type": "code",
      "source": [
        "import numpy as np\n",
        "\n",
        "def solution(m1, m2):\n",
        "    result = max(np.where(m1<m2, m1,m2))\n",
        "    return result"
      ],
      "metadata": {
        "id": "F5Mkg9XAKsjq"
      },
      "execution_count": null,
      "outputs": []
    },
    {
      "cell_type": "markdown",
      "source": [
        "На вход подается матрица. Посчитайте минимальные значения по каждому столбцу"
      ],
      "metadata": {
        "id": "ikZDqFq31rqt"
      }
    },
    {
      "cell_type": "markdown",
      "source": [
        "Axis - дает возможность нам считать по столбцам(Axis = 0) или строкам(Axis = 1)"
      ],
      "metadata": {
        "id": "n0jeJq4Q82IX"
      }
    },
    {
      "cell_type": "code",
      "source": [
        "import numpy as np\n",
        "\n",
        "def solution(m2d):\n",
        "    result = m2d.min(axis=0)\n",
        "    return result"
      ],
      "metadata": {
        "id": "PfLR2FqIts5N"
      },
      "execution_count": null,
      "outputs": []
    },
    {
      "cell_type": "markdown",
      "source": [
        "На вход подается одномерный массив в котором хранится информация о количестве картофеля на каждом складе (всего 4 склада). Посчитайте для каждого склада, сколько процентов картофеля от общего количества хранится на каждом складе.\n",
        "\n",
        "Общее количество картофеля на всех складах (определите сами через функцию).\n",
        "\n",
        "Не забудьте что каждое значение надо умножить на 100."
      ],
      "metadata": {
        "id": "TnmfVMwR9FxF"
      }
    },
    {
      "cell_type": "code",
      "source": [
        "import numpy as np\n",
        "\n",
        "def solution(m1d):\n",
        "    all_s = m1d.sum(axis=0)\n",
        "    result = m1d/all_s*100\n",
        "    return result"
      ],
      "metadata": {
        "id": "NekuTWar1sbm"
      },
      "execution_count": null,
      "outputs": []
    }
  ]
}