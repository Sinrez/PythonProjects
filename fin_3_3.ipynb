{
  "nbformat": 4,
  "nbformat_minor": 0,
  "metadata": {
    "colab": {
      "provenance": [],
      "authorship_tag": "ABX9TyMEzfOjyBLN5okc77ThI8iD",
      "include_colab_link": true
    },
    "kernelspec": {
      "name": "python3",
      "display_name": "Python 3"
    },
    "language_info": {
      "name": "python"
    }
  },
  "cells": [
    {
      "cell_type": "markdown",
      "metadata": {
        "id": "view-in-github",
        "colab_type": "text"
      },
      "source": [
        "<a href=\"https://colab.research.google.com/github/Sinrez/PythonProjects/blob/main/fin_3_3.ipynb\" target=\"_parent\"><img src=\"https://colab.research.google.com/assets/colab-badge.svg\" alt=\"Open In Colab\"/></a>"
      ]
    },
    {
      "cell_type": "code",
      "execution_count": null,
      "metadata": {
        "id": "ldS7oAsXCSxB",
        "outputId": "89148243-7c9f-4a47-d61b-fdaf465fe160",
        "colab": {
          "base_uri": "https://localhost:8080/"
        }
      },
      "outputs": [
        {
          "output_type": "stream",
          "name": "stdout",
          "text": [
            "Предсказанный класс новой звезды: [1]\n",
            "Вероятность отнесения к классу пульсара: 0.899\n"
          ]
        },
        {
          "output_type": "stream",
          "name": "stderr",
          "text": [
            "/usr/local/lib/python3.10/dist-packages/sklearn/base.py:439: UserWarning: X does not have valid feature names, but LogisticRegression was fitted with feature names\n",
            "  warnings.warn(\n",
            "/usr/local/lib/python3.10/dist-packages/sklearn/base.py:439: UserWarning: X does not have valid feature names, but LogisticRegression was fitted with feature names\n",
            "  warnings.warn(\n"
          ]
        }
      ],
      "source": [
        "import pandas as pd\n",
        "from sklearn.linear_model import LogisticRegression\n",
        "\n",
        "# Считываем данные из файла\n",
        "df = pd.read_csv(\"/content/pulsar.csv\", delimiter=',')\n",
        "\n",
        "# Преобразуем столбцы в числовой формат\n",
        "numerical_columns = df.columns.drop(\"target\")\n",
        "df[numerical_columns] = df[numerical_columns].apply(pd.to_numeric)\n",
        "\n",
        "# Сохраняем столбец \"target\" и выполняем нормировку\n",
        "target = df[\"target\"]\n",
        "normalized_df = (df[numerical_columns] - df[numerical_columns].min()) / (df[numerical_columns].max() - df[numerical_columns].min())\n",
        "\n",
        "# Создаем тренировочный набор данных и метки\n",
        "X_train = normalized_df\n",
        "y_train = target\n",
        "\n",
        "# Обучаем модель логистической регрессии\n",
        "model = LogisticRegression(random_state=2019, max_iter=1000)\n",
        "model.fit(X_train, y_train)\n",
        "\n",
        "# Задаем параметры новой звезды\n",
        "new_star_params = [0.089, 0.122, 0.511, 0.237, 0.445, 0.513, 0.068, 0.857]\n",
        "\n",
        "# Классифицируем новую звезду и получаем вероятности\n",
        "predicted_class = model.predict([new_star_params])\n",
        "probabilities = model.predict_proba([new_star_params])\n",
        "\n",
        "# Вероятность отнесения к классу пульсара\n",
        "probability_pulsar = probabilities[0][1]\n",
        "\n",
        "# Округляем вероятность до трех знаков после запятой\n",
        "rounded_probability = round(probability_pulsar, 3)\n",
        "\n",
        "print(\"Предсказанный класс новой звезды:\", predicted_class)\n",
        "print(\"Вероятность отнесения к классу пульсара:\", rounded_probability)\n"
      ]
    }
  ]
}