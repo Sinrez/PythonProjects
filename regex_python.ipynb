{
  "nbformat": 4,
  "nbformat_minor": 0,
  "metadata": {
    "colab": {
      "provenance": [],
      "authorship_tag": "ABX9TyPUwM8AW8tkbFOUcwpIxjXJ",
      "include_colab_link": true
    },
    "kernelspec": {
      "name": "python3",
      "display_name": "Python 3"
    },
    "language_info": {
      "name": "python"
    }
  },
  "cells": [
    {
      "cell_type": "markdown",
      "metadata": {
        "id": "view-in-github",
        "colab_type": "text"
      },
      "source": [
        "<a href=\"https://colab.research.google.com/github/Sinrez/PythonProjects/blob/main/regex_python.ipynb\" target=\"_parent\"><img src=\"https://colab.research.google.com/assets/colab-badge.svg\" alt=\"Open In Colab\"/></a>"
      ]
    },
    {
      "cell_type": "code",
      "execution_count": 1,
      "metadata": {
        "colab": {
          "base_uri": "https://localhost:8080/",
          "height": 35
        },
        "id": "99R3EnM9Arl5",
        "outputId": "7c74b3e3-9a2f-49c3-8e73-0a2fac8f7d29"
      },
      "outputs": [
        {
          "output_type": "execute_result",
          "data": {
            "text/plain": [
              "'C:\\\\file.txt'"
            ],
            "application/vnd.google.colaboratory.intrinsic+json": {
              "type": "string"
            }
          },
          "metadata": {},
          "execution_count": 1
        }
      ],
      "source": [
        "common_string = 'C:\\file.txt' # Обычная строка\n",
        "raw_string = r'C:\\file.txt' # Сырая строка\n",
        "raw_string"
      ]
    },
    {
      "cell_type": "code",
      "source": [
        "# Используем 2 префикса одновременно:\n",
        "raw_f_string = rf'C:\\file.txt'\n",
        "f_raw_string = fr'C:\\file.txt'\n",
        "print(raw_f_string)\n",
        "print(f_raw_string )"
      ],
      "metadata": {
        "colab": {
          "base_uri": "https://localhost:8080/"
        },
        "id": "UXsGG6CmA6Mt",
        "outputId": "29dd02cf-7808-45ca-80b1-59fdf74c9ce1"
      },
      "execution_count": 4,
      "outputs": [
        {
          "output_type": "stream",
          "name": "stdout",
          "text": [
            "C:\\file.txt\n",
            "C:\\file.txt\n"
          ]
        }
      ]
    },
    {
      "cell_type": "code",
      "source": [],
      "metadata": {
        "id": "rYUuixD_BNzN"
      },
      "execution_count": null,
      "outputs": []
    }
  ]
}