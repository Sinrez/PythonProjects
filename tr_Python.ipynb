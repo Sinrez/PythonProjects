{
  "nbformat": 4,
  "nbformat_minor": 0,
  "metadata": {
    "colab": {
      "provenance": [],
      "authorship_tag": "ABX9TyPvMzQKhrMmFrBCmxIKmGHM",
      "include_colab_link": true
    },
    "kernelspec": {
      "name": "python3",
      "display_name": "Python 3"
    },
    "language_info": {
      "name": "python"
    }
  },
  "cells": [
    {
      "cell_type": "markdown",
      "metadata": {
        "id": "view-in-github",
        "colab_type": "text"
      },
      "source": [
        "<a href=\"https://colab.research.google.com/github/Sinrez/PythonProjects/blob/main/tr_Python.ipynb\" target=\"_parent\"><img src=\"https://colab.research.google.com/assets/colab-badge.svg\" alt=\"Open In Colab\"/></a>"
      ]
    },
    {
      "cell_type": "code",
      "execution_count": null,
      "metadata": {
        "colab": {
          "base_uri": "https://localhost:8080/"
        },
        "id": "NEs0KE895CEf",
        "outputId": "c0947ad2-bee5-4c81-a544-8a765efc5694"
      },
      "outputs": [
        {
          "output_type": "stream",
          "name": "stdout",
          "text": [
            "[('Alice', 100000), ('Carol', 122908)]\n"
          ]
        }
      ],
      "source": [
        "employees = {'Alice' : 100000,\n",
        "  'Bob' : 99817,\n",
        "  'Carol' : 122908,\n",
        "  'Frank' : 88123,\n",
        "  'Eve' : 93121}\n",
        "\n",
        "top_earners = []\n",
        "for key, val in employees.items():\n",
        "  if val >= 100000:\n",
        "    top_earners.append((key,val))\n",
        "\n",
        "print(top_earners)\n",
        "# [('Alice', 100000), ('Carol', 122908)]"
      ]
    },
    {
      "cell_type": "code",
      "source": [
        "top_earners  = [(k, v) for k, v in employees.items() if v >= 100000 ]\n",
        "top_earners"
      ],
      "metadata": {
        "colab": {
          "base_uri": "https://localhost:8080/"
        },
        "id": "tQLsIFyZ6goS",
        "outputId": "34d6491d-3971-4479-a162-6bed2da34768"
      },
      "execution_count": null,
      "outputs": [
        {
          "output_type": "execute_result",
          "data": {
            "text/plain": [
              "[('Alice', 100000), ('Carol', 122908)]"
            ]
          },
          "metadata": {},
          "execution_count": 3
        }
      ]
    },
    {
      "cell_type": "code",
      "source": [
        "## Данные\n",
        "text = '''\n",
        "Call me Ishmael. Some years ago - never mind how long precisely - having\n",
        "little or no money in my purse, and nothing particular to interest me\n",
        "on shore, I thought I would sail about a little and see the watery part\n",
        "of the world. It is a way I have of driving off the spleen, and regulating\n",
        "the circulation. - Moby Dick'''\n",
        "\n",
        "## Однострочник\n",
        "w = [ [x for x in line.split() if len(x)>3]  for line in text.split('\\n')]\n",
        "w"
      ],
      "metadata": {
        "id": "nXCVIP5S6wzE",
        "colab": {
          "base_uri": "https://localhost:8080/"
        },
        "outputId": "560898a5-a84c-4142-e1ae-1debf0670987"
      },
      "execution_count": null,
      "outputs": [
        {
          "output_type": "execute_result",
          "data": {
            "text/plain": [
              "[[],\n",
              " ['Call',\n",
              "  'Ishmael.',\n",
              "  'Some',\n",
              "  'years',\n",
              "  'never',\n",
              "  'mind',\n",
              "  'long',\n",
              "  'precisely',\n",
              "  'having'],\n",
              " ['little', 'money', 'purse,', 'nothing', 'particular', 'interest'],\n",
              " ['shore,', 'thought', 'would', 'sail', 'about', 'little', 'watery', 'part'],\n",
              " ['world.', 'have', 'driving', 'spleen,', 'regulating'],\n",
              " ['circulation.', 'Moby', 'Dick']]"
            ]
          },
          "metadata": {},
          "execution_count": 4
        }
      ]
    },
    {
      "cell_type": "code",
      "source": [
        "## Данные\n",
        "letters_amazon = '''\n",
        "We spent several years building our own database engine,\n",
        "Amazon Aurora, a fully-managed MySQL and PostgreSQL-compatible\n",
        "service with the same or better durability and availability as\n",
        "the commercial engines, but at one-tenth of the cost. We were\n",
        "not surprised when this worked.\n",
        "'''\n",
        "## Однострочник\n",
        "find = lambda x, q: x[x.find(q)-30:x.find(q)+30] if q in x else -1\n",
        "# find = lambda x, q: x if q in x else -1\n",
        "## Результат\n",
        "print(find(letters_amazon, 'SQL'))"
      ],
      "metadata": {
        "id": "DkyCpBmev3WY",
        "colab": {
          "base_uri": "https://localhost:8080/"
        },
        "outputId": "78f7cb54-d628-4fd5-dec1-3657339fbdd7"
      },
      "execution_count": null,
      "outputs": [
        {
          "output_type": "stream",
          "name": "stdout",
          "text": [
            "zon Aurora, a fully-managed MySQL and PostgreSQL-compatible\n",
            "\n"
          ]
        }
      ]
    },
    {
      "cell_type": "code",
      "source": [
        "# Зависимости\n",
        "import matplotlib.pyplot as plt\n",
        "## Данные\n",
        "cardiac_cycle = [62, 60, 62, 64, 68, 77, 80, 76, 71, 66, 61, 60, 62]\n",
        "## Однострочник\n",
        "expected_cycles = cardiac_cycle[1:-2] * 10\n",
        "## Результат\n",
        "plt.plot(expected_cycles)\n",
        "plt.show()"
      ],
      "metadata": {
        "colab": {
          "base_uri": "https://localhost:8080/",
          "height": 430
        },
        "id": "RSR2JGpTB4hN",
        "outputId": "6b637049-d8e1-4d72-bf17-76810c17db64"
      },
      "execution_count": null,
      "outputs": [
        {
          "output_type": "display_data",
          "data": {
            "text/plain": [
              "<Figure size 640x480 with 1 Axes>"
            ],
            "image/png": "[encoded data removed]"
          },
          "metadata": {}
        }
      ]
    },
    {
      "cell_type": "code",
      "source": [
        "## Данные\n",
        "column_names = ['name', 'salary', 'job']\n",
        "db_rows = [('Alice', 180000, 'data scientist'),\n",
        "('Bob', 99000, 'mid-level manager'),\n",
        "('Frank', 87000, 'CEO')]\n",
        "## Однострочник\n",
        "# db = [dict(zip(column_names, row)) for row in db_rows]\n",
        "db = [dict(zip(column_names, row)) for row in db_rows]\n",
        "## Результат\n",
        "print(db)"
      ],
      "metadata": {
        "colab": {
          "base_uri": "https://localhost:8080/"
        },
        "id": "kMNJdTjIQZqj",
        "outputId": "2156b9f3-4d93-4735-d7bc-45a97f32cd1d"
      },
      "execution_count": null,
      "outputs": [
        {
          "output_type": "stream",
          "name": "stdout",
          "text": [
            "[{'name': 'Alice', 'salary': 180000, 'job': 'data scientist'}, {'name': 'Bob', 'salary': 99000, 'job': 'mid-level manager'}, {'name': 'Frank', 'salary': 87000, 'job': 'CEO'}]\n"
          ]
        }
      ]
    },
    {
      "cell_type": "code",
      "source": [
        "import numpy as np\n",
        "a = np.array([[0, 1, 2, 3],\n",
        "[4, 5, 6, 7],\n",
        "[8, 9, 10, 11],\n",
        "[12, 13, 14, 15]])"
      ],
      "metadata": {
        "id": "A73syb6eQZbK"
      },
      "execution_count": null,
      "outputs": []
    },
    {
      "cell_type": "code",
      "source": [
        "print(a[:, 2])"
      ],
      "metadata": {
        "colab": {
          "base_uri": "https://localhost:8080/"
        },
        "id": "NVm-1y-hxsaJ",
        "outputId": "bf005d70-fd3f-4ce9-f33b-49bb45fd52ae"
      },
      "execution_count": null,
      "outputs": [
        {
          "output_type": "stream",
          "name": "stdout",
          "text": [
            "[ 2  6 10 14]\n"
          ]
        }
      ]
    },
    {
      "cell_type": "code",
      "source": [
        "print(a[:, 2])"
      ],
      "metadata": {
        "colab": {
          "base_uri": "https://localhost:8080/"
        },
        "id": "JOpFjNHfxzii",
        "outputId": "f27d10be-5fba-4159-d659-f302c7fcb0be"
      },
      "execution_count": null,
      "outputs": [
        {
          "output_type": "stream",
          "name": "stdout",
          "text": [
            "[ 2  6 10 14]\n"
          ]
        }
      ]
    },
    {
      "cell_type": "code",
      "source": [
        "print(a[1, ::2])\n",
        "# Вторая строка, каждый второй элемент: [4 6]"
      ],
      "metadata": {
        "colab": {
          "base_uri": "https://localhost:8080/"
        },
        "id": "-aDY0hvYx3qI",
        "outputId": "994cdca1-3851-4e37-a219-181816bb2c2c"
      },
      "execution_count": null,
      "outputs": [
        {
          "output_type": "stream",
          "name": "stdout",
          "text": [
            "[4 6]\n"
          ]
        }
      ]
    },
    {
      "cell_type": "code",
      "source": [
        "print(a[:, :-1])\n",
        "# Все столбцы, за исключением последнего:\n",
        "# [[ 0 1 2]\n",
        "# [ 4 5 6]\n",
        "# [ 8 9 10]\n",
        "# [12 13 14]]"
      ],
      "metadata": {
        "colab": {
          "base_uri": "https://localhost:8080/"
        },
        "id": "KVc4f5fXx7i7",
        "outputId": "5a2e6731-f00f-451e-d9e2-94b11f63d328"
      },
      "execution_count": null,
      "outputs": [
        {
          "output_type": "stream",
          "name": "stdout",
          "text": [
            "[[ 0  1  2]\n",
            " [ 4  5  6]\n",
            " [ 8  9 10]\n",
            " [12 13 14]]\n"
          ]
        }
      ]
    },
    {
      "cell_type": "code",
      "source": [
        "print(a[:-2])\n",
        "# Аналогично a[:-2, :]\n",
        "# [[ 0 1 2 3]\n",
        "# [ 4 5 6 7]]"
      ],
      "metadata": {
        "colab": {
          "base_uri": "https://localhost:8080/"
        },
        "id": "Su8aKMAjx-5M",
        "outputId": "7cdbb06b-a2d6-45c3-dd68-edac875b5302"
      },
      "execution_count": null,
      "outputs": [
        {
          "output_type": "stream",
          "name": "stdout",
          "text": [
            "[[0 1 2 3]\n",
            " [4 5 6 7]]\n"
          ]
        }
      ]
    },
    {
      "cell_type": "code",
      "source": [
        "## Зависимости\n",
        "import numpy as np\n",
        "## Данные: годовые зарплаты в тысячах долларов (за 2025, 2026 и 2027 гг.)\n",
        "dataScientist = [130, 132, 137]\n",
        "productManager = [127, 140, 145]\n",
        "designer = [118, 118, 127]\n",
        "softwareEngineer = [129, 131, 137]\n",
        "\n",
        "employees = np.array([dataScientist, productManager,designer,softwareEngineer])\n",
        "## Однострочник\n",
        "employees[0,::2] = employees[0,::2] * 1.1\n",
        "## Результат\n",
        "print(employees)"
      ],
      "metadata": {
        "colab": {
          "base_uri": "https://localhost:8080/"
        },
        "id": "UKcy-YwEzXzP",
        "outputId": "c56e35e3-14a0-4ce5-d5cd-1635ef78107d"
      },
      "execution_count": null,
      "outputs": [
        {
          "output_type": "stream",
          "name": "stdout",
          "text": [
            "[[143 132 150]\n",
            " [127 140 145]\n",
            " [118 118 127]\n",
            " [129 131 137]]\n"
          ]
        }
      ]
    },
    {
      "cell_type": "code",
      "source": [
        "import numpy as np\n",
        "X = np.array([[1, 0, 0],\n",
        "[0, 2, 2],\n",
        "[3, 0, 0]])\n",
        "print(np.nonzero(X))"
      ],
      "metadata": {
        "colab": {
          "base_uri": "https://localhost:8080/"
        },
        "id": "TsXGnjxt3RBF",
        "outputId": "4300994c-bb46-4785-d937-fb9ab684cf2c"
      },
      "execution_count": null,
      "outputs": [
        {
          "output_type": "stream",
          "name": "stdout",
          "text": [
            "(array([0, 1, 1, 2]), array([0, 1, 2, 0]))\n"
          ]
        }
      ]
    },
    {
      "cell_type": "code",
      "source": [
        "## Зависимости\n",
        "import numpy as np\n",
        "\n",
        "## Данные: измерения индекса качества воздуха, AQI (строка = город)\n",
        "X = np.array(\n",
        "[[ 42, 40, 41, 43, 44, 43 ], # Гонконг\n",
        "[ 30, 31, 29, 29, 29, 30 ], # Нью-Йорк\n",
        "[ 8, 13, 31, 11, 11, 9 ], # Берлин\n",
        "[ 11, 11, 12, 13, 11, 12 ]]) # Монреаль\n",
        "\n",
        "cities = np.array([\"Hong Kong\", \"New York\", \"Berlin\", \"Montreal\"])\n",
        "## Однострочник\n",
        "\n",
        "polluted = set(cities[np.nonzero(X > np.average(X))[0]])\n",
        "## Результат\n",
        "print(polluted)"
      ],
      "metadata": {
        "colab": {
          "base_uri": "https://localhost:8080/"
        },
        "id": "ZwNKzxrz83Oz",
        "outputId": "7f7188fe-9afd-4a2e-d157-1f8a96b0f611"
      },
      "execution_count": null,
      "outputs": [
        {
          "output_type": "stream",
          "name": "stdout",
          "text": [
            "{'Hong Kong', 'Berlin', 'New York'}\n"
          ]
        }
      ]
    },
    {
      "cell_type": "code",
      "source": [
        "np.average(X)"
      ],
      "metadata": {
        "colab": {
          "base_uri": "https://localhost:8080/"
        },
        "id": "IdXmCENZ_Ssm",
        "outputId": "d750dfd8-98f7-47e6-c0ea-d3e027e13fbd"
      },
      "execution_count": null,
      "outputs": [
        {
          "output_type": "execute_result",
          "data": {
            "text/plain": [
              "24.333333333333332"
            ]
          },
          "metadata": {},
          "execution_count": 12
        }
      ]
    },
    {
      "cell_type": "code",
      "source": [
        "\n",
        "print(X > np.average(X))"
      ],
      "metadata": {
        "colab": {
          "base_uri": "https://localhost:8080/"
        },
        "id": "r4781k0v_ODt",
        "outputId": "939a5b14-12a1-4914-8386-101e7718151f"
      },
      "execution_count": null,
      "outputs": [
        {
          "output_type": "stream",
          "name": "stdout",
          "text": [
            "[[ True  True  True  True  True  True]\n",
            " [ True  True  True  True  True  True]\n",
            " [False False  True False False False]\n",
            " [False False False False False False]]\n"
          ]
        }
      ]
    },
    {
      "cell_type": "code",
      "source": [
        "print(np.nonzero(X > np.average(X)))"
      ],
      "metadata": {
        "colab": {
          "base_uri": "https://localhost:8080/"
        },
        "id": "CBXDcpvX_Pyc",
        "outputId": "4685b638-f360-4e3b-d872-7739eaf5b13e"
      },
      "execution_count": null,
      "outputs": [
        {
          "output_type": "stream",
          "name": "stdout",
          "text": [
            "(array([0, 0, 0, 0, 0, 0, 1, 1, 1, 1, 1, 1, 2]), array([0, 1, 2, 3, 4, 5, 0, 1, 2, 3, 4, 5, 2]))\n"
          ]
        }
      ]
    },
    {
      "cell_type": "code",
      "source": [
        "## Зависимости\n",
        "import numpy as np\n",
        "## Данные: годовые зарплаты в тысячах долларов (за 2017, 2018 и 2019 гг.)\n",
        "alice = [99, 101, 103]\n",
        "bob = [110, 108, 105]\n",
        "tim = [90, 88, 85]\n",
        "salaries = np.array([alice, bob, tim])\n",
        "taxation = np.array([[0.2, 0.25, 0.22],\n",
        "[0.4, 0.5, 0.5],\n",
        "[0.1, 0.2, 0.1]])\n",
        "## Однострочник\n",
        "max_income = np.max(salaries - salaries * taxation)\n",
        "## Результат\n",
        "print(max_income)"
      ],
      "metadata": {
        "colab": {
          "base_uri": "https://localhost:8080/"
        },
        "id": "oR80MbZwAf1r",
        "outputId": "c6a6b39b-f021-41f7-84d8-8c6597298124"
      },
      "execution_count": null,
      "outputs": [
        {
          "output_type": "stream",
          "name": "stdout",
          "text": [
            "81.0\n"
          ]
        }
      ]
    },
    {
      "cell_type": "code",
      "source": [
        "## Зависимости\n",
        "import numpy as np\n",
        "## Данные: годовые зарплаты в тысячах долларов (за 2017, 2018 и 2019 гг.)\n",
        "alice = [99, 101, 103]\n",
        "bob = [110, 108, 105]\n",
        "tim = [90, 88, 85]\n",
        "salaries = np.array([alice, bob, tim])\n",
        "taxation = np.array([[0.2, 0.25, 0.22],\n",
        "[0.4, 0.5, 0.5],\n",
        "[0.1, 0.2, 0.1]])\n",
        "max_income = salaries - salaries * taxation\n",
        "# max_income\n",
        "# salaries\n",
        "max_income_index = max(np.nonzero(max_income > np.average(max_income))[0])\n",
        "\n",
        "['Alice', 'Bob', 'Tim'][max_income_index]"
      ],
      "metadata": {
        "colab": {
          "base_uri": "https://localhost:8080/",
          "height": 35
        },
        "id": "vmSCUe32CDfd",
        "outputId": "8b4f9435-6acd-417c-ebc6-0f173b3458a2"
      },
      "execution_count": null,
      "outputs": [
        {
          "output_type": "execute_result",
          "data": {
            "text/plain": [
              "'Tim'"
            ],
            "application/vnd.google.colaboratory.intrinsic+json": {
              "type": "string"
            }
          },
          "metadata": {},
          "execution_count": 28
        }
      ]
    },
    {
      "cell_type": "code",
      "source": [
        "import numpy as np\n",
        "\n",
        "## Данные: годовые зарплаты в тысячах долларов (за 2017, 2018 и 2019 гг.)\n",
        "alice = [99, 101, 103]\n",
        "bob = [110, 108, 105]\n",
        "tim = [90, 88, 85]\n",
        "salaries = np.array([alice, bob, tim])\n",
        "\n",
        "## Ставки налогообложения\n",
        "taxation = np.array([[0.2, 0.25, 0.22],\n",
        "                    [0.4, 0.5, 0.5],\n",
        "                    [0.1, 0.2, 0.1]])\n",
        "\n",
        "## Вычисляем доход после уплаты налогов\n",
        "net_income = salaries - (salaries * taxation)\n",
        "\n",
        "## Находим максимальный доход после уплаты налогов\n",
        "max_income = np.max(net_income)\n",
        "\n",
        "## Находим индекс человека с максимальным доходом\n",
        "max_income_index = np.where(net_income == max_income)[0][0]\n",
        "\n",
        "## Выводим результат\n",
        "print(f\"Человек с максимальным доходом после уплаты налогов: {['Alice', 'Bob', 'Tim'][max_income_index]}\")\n",
        "print(f\"Максимальный доход после уплаты налогов: {max_income:.2f} тысяч долларов\")"
      ],
      "metadata": {
        "colab": {
          "base_uri": "https://localhost:8080/"
        },
        "id": "xg3PqCRlFM9l",
        "outputId": "823510a2-f28e-42fe-84bb-e9442af9c9cc"
      },
      "execution_count": null,
      "outputs": [
        {
          "output_type": "stream",
          "name": "stdout",
          "text": [
            "Человек с максимальным доходом после уплаты налогов: Tim\n",
            "Максимальный доход после уплаты налогов: 81.00 тысяч долларов\n"
          ]
        }
      ]
    },
    {
      "cell_type": "code",
      "source": [
        "## Зависимости\n",
        "import numpy as np\n",
        "\n",
        "## Данные\n",
        "## Данные с датчиков (Пнд, Вт, Ср, Чт, Пт, Сб, Вс)\n",
        "tmp = np.array([1, 2, 3, 4, 3, 4, 4,\n",
        "5, 3, 3, 4, 3, 4, 6,\n",
        "6, 5, 5, 5, 4, 5, 5])\n",
        "\n",
        "## Однострочник\n",
        "tmp[6::7] = np.average(tmp.reshape((-1,7)), axis=1)\n",
        "## Результат\n",
        "print(tmp)"
      ],
      "metadata": {
        "id": "YMSxz2XJFmCe",
        "colab": {
          "base_uri": "https://localhost:8080/"
        },
        "outputId": "6296aaf0-2278-4287-8697-118210a78e26"
      },
      "execution_count": 1,
      "outputs": [
        {
          "output_type": "stream",
          "name": "stdout",
          "text": [
            "[1 2 3 4 3 4 3 5 3 3 4 3 4 4 6 5 5 5 4 5 5]\n"
          ]
        }
      ]
    },
    {
      "cell_type": "code",
      "source": [
        "print(tmp.reshape((-1,7)))"
      ],
      "metadata": {
        "colab": {
          "base_uri": "https://localhost:8080/"
        },
        "id": "bLs3YEv48f76",
        "outputId": "572894b3-a82a-44e4-8d22-674224dcfd54"
      },
      "execution_count": 2,
      "outputs": [
        {
          "output_type": "stream",
          "name": "stdout",
          "text": [
            "[[1 2 3 4 3 4 3]\n",
            " [5 3 3 4 3 4 4]\n",
            " [6 5 5 5 4 5 5]]\n"
          ]
        }
      ]
    },
    {
      "cell_type": "code",
      "source": [
        "print(np.average(tmp.reshape((-1,7)), axis=1))"
      ],
      "metadata": {
        "colab": {
          "base_uri": "https://localhost:8080/"
        },
        "id": "D8nLN4qM812A",
        "outputId": "92189fc5-a80f-4060-dfb7-54cc3eed57f0"
      },
      "execution_count": 3,
      "outputs": [
        {
          "output_type": "stream",
          "name": "stdout",
          "text": [
            "[2.85714286 3.71428571 5.        ]\n"
          ]
        }
      ]
    },
    {
      "cell_type": "code",
      "source": [
        "## Зависимости\n",
        "import numpy as np\n",
        "## Данные: оценки за экзамен SAT для различных абитуриентов\n",
        "sat_scores = np.array([1100, 1256, 1543, 1043, 989, 1412, 1343])\n",
        "students = np.array([\"John\", \"Bob\", \"Alice\", \"Joe\", \"Jane\", \"Frank\", \"Carl\"])\n",
        "## Однострочник\n",
        "top_3 = students[np.argsort(sat_scores)][:-4:-1]\n",
        "## Результат\n",
        "print(top_3)"
      ],
      "metadata": {
        "id": "AszbOo9gIWyO",
        "outputId": "85dab62c-abdc-409a-8dff-27da5c4dce92",
        "colab": {
          "base_uri": "https://localhost:8080/"
        }
      },
      "execution_count": 4,
      "outputs": [
        {
          "output_type": "stream",
          "name": "stdout",
          "text": [
            "['Alice' 'Frank' 'Carl']\n"
          ]
        }
      ]
    },
    {
      "cell_type": "code",
      "source": [],
      "metadata": {
        "id": "-uQ6SQw8IX8M"
      },
      "execution_count": null,
      "outputs": []
    }
  ]
}