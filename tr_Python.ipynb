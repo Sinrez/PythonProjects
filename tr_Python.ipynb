{
  "nbformat": 4,
  "nbformat_minor": 0,
  "metadata": {
    "colab": {
      "provenance": [],
      "authorship_tag": "ABX9TyP/jmtfsNZJAkGRjrqdyz24",
      "include_colab_link": true
    },
    "kernelspec": {
      "name": "python3",
      "display_name": "Python 3"
    },
    "language_info": {
      "name": "python"
    }
  },
  "cells": [
    {
      "cell_type": "markdown",
      "metadata": {
        "id": "view-in-github",
        "colab_type": "text"
      },
      "source": [
        "<a href=\"https://colab.research.google.com/github/Sinrez/PythonProjects/blob/main/tr_Python.ipynb\" target=\"_parent\"><img src=\"https://colab.research.google.com/assets/colab-badge.svg\" alt=\"Open In Colab\"/></a>"
      ]
    },
    {
      "cell_type": "code",
      "execution_count": null,
      "metadata": {
        "colab": {
          "base_uri": "https://localhost:8080/"
        },
        "id": "NEs0KE895CEf",
        "outputId": "c0947ad2-bee5-4c81-a544-8a765efc5694"
      },
      "outputs": [
        {
          "output_type": "stream",
          "name": "stdout",
          "text": [
            "[('Alice', 100000), ('Carol', 122908)]\n"
          ]
        }
      ],
      "source": [
        "employees = {'Alice' : 100000,\n",
        "  'Bob' : 99817,\n",
        "  'Carol' : 122908,\n",
        "  'Frank' : 88123,\n",
        "  'Eve' : 93121}\n",
        "\n",
        "top_earners = []\n",
        "for key, val in employees.items():\n",
        "  if val >= 100000:\n",
        "    top_earners.append((key,val))\n",
        "\n",
        "print(top_earners)\n",
        "# [('Alice', 100000), ('Carol', 122908)]"
      ]
    },
    {
      "cell_type": "code",
      "source": [
        "top_earners  = [(k, v) for k, v in employees.items() if v >= 100000 ]\n",
        "top_earners"
      ],
      "metadata": {
        "colab": {
          "base_uri": "https://localhost:8080/"
        },
        "id": "tQLsIFyZ6goS",
        "outputId": "34d6491d-3971-4479-a162-6bed2da34768"
      },
      "execution_count": null,
      "outputs": [
        {
          "output_type": "execute_result",
          "data": {
            "text/plain": [
              "[('Alice', 100000), ('Carol', 122908)]"
            ]
          },
          "metadata": {},
          "execution_count": 3
        }
      ]
    },
    {
      "cell_type": "code",
      "source": [
        "## Данные\n",
        "text = '''\n",
        "Call me Ishmael. Some years ago - never mind how long precisely - having\n",
        "little or no money in my purse, and nothing particular to interest me\n",
        "on shore, I thought I would sail about a little and see the watery part\n",
        "of the world. It is a way I have of driving off the spleen, and regulating\n",
        "the circulation. - Moby Dick'''\n",
        "\n",
        "## Однострочник\n",
        "w = [ [x for x in line.split() if len(x)>3]  for line in text.split('\\n')]\n",
        "w"
      ],
      "metadata": {
        "id": "nXCVIP5S6wzE",
        "colab": {
          "base_uri": "https://localhost:8080/"
        },
        "outputId": "560898a5-a84c-4142-e1ae-1debf0670987"
      },
      "execution_count": null,
      "outputs": [
        {
          "output_type": "execute_result",
          "data": {
            "text/plain": [
              "[[],\n",
              " ['Call',\n",
              "  'Ishmael.',\n",
              "  'Some',\n",
              "  'years',\n",
              "  'never',\n",
              "  'mind',\n",
              "  'long',\n",
              "  'precisely',\n",
              "  'having'],\n",
              " ['little', 'money', 'purse,', 'nothing', 'particular', 'interest'],\n",
              " ['shore,', 'thought', 'would', 'sail', 'about', 'little', 'watery', 'part'],\n",
              " ['world.', 'have', 'driving', 'spleen,', 'regulating'],\n",
              " ['circulation.', 'Moby', 'Dick']]"
            ]
          },
          "metadata": {},
          "execution_count": 4
        }
      ]
    },
    {
      "cell_type": "code",
      "source": [
        "## Данные\n",
        "letters_amazon = '''\n",
        "We spent several years building our own database engine,\n",
        "Amazon Aurora, a fully-managed MySQL and PostgreSQL-compatible\n",
        "service with the same or better durability and availability as\n",
        "the commercial engines, but at one-tenth of the cost. We were\n",
        "not surprised when this worked.\n",
        "'''\n",
        "## Однострочник\n",
        "find = lambda x, q: x[x.find(q)-30:x.find(q)+30] if q in x else -1\n",
        "# find = lambda x, q: x if q in x else -1\n",
        "## Результат\n",
        "print(find(letters_amazon, 'SQL'))"
      ],
      "metadata": {
        "id": "DkyCpBmev3WY",
        "colab": {
          "base_uri": "https://localhost:8080/"
        },
        "outputId": "78f7cb54-d628-4fd5-dec1-3657339fbdd7"
      },
      "execution_count": null,
      "outputs": [
        {
          "output_type": "stream",
          "name": "stdout",
          "text": [
            "zon Aurora, a fully-managed MySQL and PostgreSQL-compatible\n",
            "\n"
          ]
        }
      ]
    },
    {
      "cell_type": "code",
      "source": [
        "# Зависимости\n",
        "import matplotlib.pyplot as plt\n",
        "## Данные\n",
        "cardiac_cycle = [62, 60, 62, 64, 68, 77, 80, 76, 71, 66, 61, 60, 62]\n",
        "## Однострочник\n",
        "expected_cycles = cardiac_cycle[1:-2] * 10\n",
        "## Результат\n",
        "plt.plot(expected_cycles)\n",
        "plt.show()"
      ],
      "metadata": {
        "colab": {
          "base_uri": "https://localhost:8080/",
          "height": 430
        },
        "id": "RSR2JGpTB4hN",
        "outputId": "6b637049-d8e1-4d72-bf17-76810c17db64"
      },
      "execution_count": null,
      "outputs": [
        {
          "output_type": "display_data",
          "data": {
            "text/plain": [
              "<Figure size 640x480 with 1 Axes>"
            ],
            "image/png": "[encoded data removed]"
          },
          "metadata": {}
        }
      ]
    },
    {
      "cell_type": "code",
      "source": [
        "from pprint import pprint\n",
        "## Данные\n",
        "column_names = ['name', 'salary', 'job']\n",
        "db_rows = [('Alice', 180000, 'data scientist'),\n",
        "('Bob', 99000, 'mid-level manager'),\n",
        "('Frank', 87000, 'CEO')]\n",
        "## Однострочник\n",
        "# db = [dict(zip(column_names, row)) for row in db_rows]\n",
        "db = [dict(zip(column_names, row)) for row in db_rows]\n",
        "## Результат\n",
        "pprint(db)"
      ],
      "metadata": {
        "colab": {
          "base_uri": "https://localhost:8080/"
        },
        "id": "kMNJdTjIQZqj",
        "outputId": "f793e59f-7289-4431-ba05-5fbc872ef244"
      },
      "execution_count": null,
      "outputs": [
        {
          "output_type": "stream",
          "name": "stdout",
          "text": [
            "[{'job': 'data scientist', 'name': 'Alice', 'salary': 180000},\n",
            " {'job': 'mid-level manager', 'name': 'Bob', 'salary': 99000},\n",
            " {'job': 'CEO', 'name': 'Frank', 'salary': 87000}]\n"
          ]
        }
      ]
    },
    {
      "cell_type": "code",
      "source": [
        "import numpy as np\n",
        "a = np.array([[0, 1, 2, 3],\n",
        "[4, 5, 6, 7],\n",
        "[8, 9, 10, 11],\n",
        "[12, 13, 14, 15]])"
      ],
      "metadata": {
        "id": "A73syb6eQZbK"
      },
      "execution_count": null,
      "outputs": []
    },
    {
      "cell_type": "code",
      "source": [
        "print(a[:, 2])"
      ],
      "metadata": {
        "colab": {
          "base_uri": "https://localhost:8080/"
        },
        "id": "NVm-1y-hxsaJ",
        "outputId": "bf005d70-fd3f-4ce9-f33b-49bb45fd52ae"
      },
      "execution_count": null,
      "outputs": [
        {
          "output_type": "stream",
          "name": "stdout",
          "text": [
            "[ 2  6 10 14]\n"
          ]
        }
      ]
    },
    {
      "cell_type": "code",
      "source": [
        "print(a[:, 2])"
      ],
      "metadata": {
        "colab": {
          "base_uri": "https://localhost:8080/"
        },
        "id": "JOpFjNHfxzii",
        "outputId": "f27d10be-5fba-4159-d659-f302c7fcb0be"
      },
      "execution_count": null,
      "outputs": [
        {
          "output_type": "stream",
          "name": "stdout",
          "text": [
            "[ 2  6 10 14]\n"
          ]
        }
      ]
    },
    {
      "cell_type": "code",
      "source": [
        "print(a[1, ::2])\n",
        "# Вторая строка, каждый второй элемент: [4 6]"
      ],
      "metadata": {
        "colab": {
          "base_uri": "https://localhost:8080/"
        },
        "id": "-aDY0hvYx3qI",
        "outputId": "994cdca1-3851-4e37-a219-181816bb2c2c"
      },
      "execution_count": null,
      "outputs": [
        {
          "output_type": "stream",
          "name": "stdout",
          "text": [
            "[4 6]\n"
          ]
        }
      ]
    },
    {
      "cell_type": "code",
      "source": [
        "print(a[:, :-1])\n",
        "# Все столбцы, за исключением последнего:\n",
        "# [[ 0 1 2]\n",
        "# [ 4 5 6]\n",
        "# [ 8 9 10]\n",
        "# [12 13 14]]"
      ],
      "metadata": {
        "colab": {
          "base_uri": "https://localhost:8080/"
        },
        "id": "KVc4f5fXx7i7",
        "outputId": "5a2e6731-f00f-451e-d9e2-94b11f63d328"
      },
      "execution_count": null,
      "outputs": [
        {
          "output_type": "stream",
          "name": "stdout",
          "text": [
            "[[ 0  1  2]\n",
            " [ 4  5  6]\n",
            " [ 8  9 10]\n",
            " [12 13 14]]\n"
          ]
        }
      ]
    },
    {
      "cell_type": "code",
      "source": [
        "print(a[:-2])\n",
        "# Аналогично a[:-2, :]\n",
        "# [[ 0 1 2 3]\n",
        "# [ 4 5 6 7]]"
      ],
      "metadata": {
        "colab": {
          "base_uri": "https://localhost:8080/"
        },
        "id": "Su8aKMAjx-5M",
        "outputId": "7cdbb06b-a2d6-45c3-dd68-edac875b5302"
      },
      "execution_count": null,
      "outputs": [
        {
          "output_type": "stream",
          "name": "stdout",
          "text": [
            "[[0 1 2 3]\n",
            " [4 5 6 7]]\n"
          ]
        }
      ]
    },
    {
      "cell_type": "code",
      "source": [
        "## Зависимости\n",
        "import numpy as np\n",
        "## Данные: годовые зарплаты в тысячах долларов (за 2025, 2026 и 2027 гг.)\n",
        "dataScientist = [130, 132, 137]\n",
        "productManager = [127, 140, 145]\n",
        "designer = [118, 118, 127]\n",
        "softwareEngineer = [129, 131, 137]\n",
        "\n",
        "employees = np.array([dataScientist, productManager,designer,softwareEngineer])\n",
        "## Однострочник\n",
        "employees[0,::2] = employees[0,::2] * 1.1\n",
        "## Результат\n",
        "print(employees)"
      ],
      "metadata": {
        "colab": {
          "base_uri": "https://localhost:8080/"
        },
        "id": "UKcy-YwEzXzP",
        "outputId": "c56e35e3-14a0-4ce5-d5cd-1635ef78107d"
      },
      "execution_count": null,
      "outputs": [
        {
          "output_type": "stream",
          "name": "stdout",
          "text": [
            "[[143 132 150]\n",
            " [127 140 145]\n",
            " [118 118 127]\n",
            " [129 131 137]]\n"
          ]
        }
      ]
    },
    {
      "cell_type": "code",
      "source": [
        "import numpy as np\n",
        "X = np.array([[1, 0, 0],\n",
        "[0, 2, 2],\n",
        "[3, 0, 0]])\n",
        "print(np.nonzero(X))"
      ],
      "metadata": {
        "colab": {
          "base_uri": "https://localhost:8080/"
        },
        "id": "TsXGnjxt3RBF",
        "outputId": "4300994c-bb46-4785-d937-fb9ab684cf2c"
      },
      "execution_count": null,
      "outputs": [
        {
          "output_type": "stream",
          "name": "stdout",
          "text": [
            "(array([0, 1, 1, 2]), array([0, 1, 2, 0]))\n"
          ]
        }
      ]
    },
    {
      "cell_type": "code",
      "source": [
        "## Зависимости\n",
        "import numpy as np\n",
        "\n",
        "## Данные: измерения индекса качества воздуха, AQI (строка = город)\n",
        "X = np.array(\n",
        "[[ 42, 40, 41, 43, 44, 43 ], # Гонконг\n",
        "[ 30, 31, 29, 29, 29, 30 ], # Нью-Йорк\n",
        "[ 8, 13, 31, 11, 11, 9 ], # Берлин\n",
        "[ 11, 11, 12, 13, 11, 12 ]]) # Монреаль\n",
        "\n",
        "cities = np.array([\"Hong Kong\", \"New York\", \"Berlin\", \"Montreal\"])\n",
        "## Однострочник\n",
        "\n",
        "polluted = set(cities[np.nonzero(X > np.average(X))[0]])\n",
        "## Результат\n",
        "print(polluted)"
      ],
      "metadata": {
        "colab": {
          "base_uri": "https://localhost:8080/"
        },
        "id": "ZwNKzxrz83Oz",
        "outputId": "7f7188fe-9afd-4a2e-d157-1f8a96b0f611"
      },
      "execution_count": null,
      "outputs": [
        {
          "output_type": "stream",
          "name": "stdout",
          "text": [
            "{'Hong Kong', 'Berlin', 'New York'}\n"
          ]
        }
      ]
    },
    {
      "cell_type": "code",
      "source": [
        "np.average(X)"
      ],
      "metadata": {
        "colab": {
          "base_uri": "https://localhost:8080/"
        },
        "id": "IdXmCENZ_Ssm",
        "outputId": "d750dfd8-98f7-47e6-c0ea-d3e027e13fbd"
      },
      "execution_count": null,
      "outputs": [
        {
          "output_type": "execute_result",
          "data": {
            "text/plain": [
              "24.333333333333332"
            ]
          },
          "metadata": {},
          "execution_count": 12
        }
      ]
    },
    {
      "cell_type": "code",
      "source": [
        "\n",
        "print(X > np.average(X))"
      ],
      "metadata": {
        "colab": {
          "base_uri": "https://localhost:8080/"
        },
        "id": "r4781k0v_ODt",
        "outputId": "939a5b14-12a1-4914-8386-101e7718151f"
      },
      "execution_count": null,
      "outputs": [
        {
          "output_type": "stream",
          "name": "stdout",
          "text": [
            "[[ True  True  True  True  True  True]\n",
            " [ True  True  True  True  True  True]\n",
            " [False False  True False False False]\n",
            " [False False False False False False]]\n"
          ]
        }
      ]
    },
    {
      "cell_type": "code",
      "source": [
        "print(np.nonzero(X > np.average(X)))"
      ],
      "metadata": {
        "colab": {
          "base_uri": "https://localhost:8080/"
        },
        "id": "CBXDcpvX_Pyc",
        "outputId": "4685b638-f360-4e3b-d872-7739eaf5b13e"
      },
      "execution_count": null,
      "outputs": [
        {
          "output_type": "stream",
          "name": "stdout",
          "text": [
            "(array([0, 0, 0, 0, 0, 0, 1, 1, 1, 1, 1, 1, 2]), array([0, 1, 2, 3, 4, 5, 0, 1, 2, 3, 4, 5, 2]))\n"
          ]
        }
      ]
    },
    {
      "cell_type": "code",
      "source": [
        "## Зависимости\n",
        "import numpy as np\n",
        "## Данные: годовые зарплаты в тысячах долларов (за 2017, 2018 и 2019 гг.)\n",
        "alice = [99, 101, 103]\n",
        "bob = [110, 108, 105]\n",
        "tim = [90, 88, 85]\n",
        "salaries = np.array([alice, bob, tim])\n",
        "taxation = np.array([[0.2, 0.25, 0.22],\n",
        "[0.4, 0.5, 0.5],\n",
        "[0.1, 0.2, 0.1]])\n",
        "## Однострочник\n",
        "max_income = np.max(salaries - salaries * taxation)\n",
        "## Результат\n",
        "print(max_income)"
      ],
      "metadata": {
        "colab": {
          "base_uri": "https://localhost:8080/"
        },
        "id": "oR80MbZwAf1r",
        "outputId": "c6a6b39b-f021-41f7-84d8-8c6597298124"
      },
      "execution_count": null,
      "outputs": [
        {
          "output_type": "stream",
          "name": "stdout",
          "text": [
            "81.0\n"
          ]
        }
      ]
    },
    {
      "cell_type": "code",
      "source": [
        "## Зависимости\n",
        "import numpy as np\n",
        "## Данные: годовые зарплаты в тысячах долларов (за 2017, 2018 и 2019 гг.)\n",
        "alice = [99, 101, 103]\n",
        "bob = [110, 108, 105]\n",
        "tim = [90, 88, 85]\n",
        "salaries = np.array([alice, bob, tim])\n",
        "taxation = np.array([[0.2, 0.25, 0.22],\n",
        "[0.4, 0.5, 0.5],\n",
        "[0.1, 0.2, 0.1]])\n",
        "max_income = salaries - salaries * taxation\n",
        "# max_income\n",
        "# salaries\n",
        "max_income_index = max(np.nonzero(max_income > np.average(max_income))[0])\n",
        "\n",
        "['Alice', 'Bob', 'Tim'][max_income_index]"
      ],
      "metadata": {
        "colab": {
          "base_uri": "https://localhost:8080/",
          "height": 35
        },
        "id": "vmSCUe32CDfd",
        "outputId": "8b4f9435-6acd-417c-ebc6-0f173b3458a2"
      },
      "execution_count": null,
      "outputs": [
        {
          "output_type": "execute_result",
          "data": {
            "text/plain": [
              "'Tim'"
            ],
            "application/vnd.google.colaboratory.intrinsic+json": {
              "type": "string"
            }
          },
          "metadata": {},
          "execution_count": 28
        }
      ]
    },
    {
      "cell_type": "code",
      "source": [
        "import numpy as np\n",
        "\n",
        "## Данные: годовые зарплаты в тысячах долларов (за 2017, 2018 и 2019 гг.)\n",
        "alice = [99, 101, 103]\n",
        "bob = [110, 108, 105]\n",
        "tim = [90, 88, 85]\n",
        "salaries = np.array([alice, bob, tim])\n",
        "\n",
        "## Ставки\n",
        "taxation = np.array([[0.2, 0.25, 0.22],\n",
        "                    [0.4, 0.5, 0.5],\n",
        "                    [0.1, 0.2, 0.1]])\n",
        "\n",
        "##  доход после уплаты налогов\n",
        "net_income = salaries - (salaries * taxation)\n",
        "\n",
        "##  максимальный доход после уплаты налогов\n",
        "max_income = np.max(net_income)\n",
        "\n",
        "##  индекс чела с максимальным доходом\n",
        "max_income_index = np.where(net_income == max_income)[0][0]\n",
        "\n",
        "print(f\"Человек с максимальным доходом после уплаты налогов: {['Alice', 'Bob', 'Tim'][max_income_index]}\")\n",
        "print(f\"Максимальный доход после уплаты налогов: {max_income:.2f} тысяч долларов\")"
      ],
      "metadata": {
        "colab": {
          "base_uri": "https://localhost:8080/"
        },
        "id": "xg3PqCRlFM9l",
        "outputId": "823510a2-f28e-42fe-84bb-e9442af9c9cc"
      },
      "execution_count": null,
      "outputs": [
        {
          "output_type": "stream",
          "name": "stdout",
          "text": [
            "Человек с максимальным доходом после уплаты налогов: Tim\n",
            "Максимальный доход после уплаты налогов: 81.00 тысяч долларов\n"
          ]
        }
      ]
    },
    {
      "cell_type": "code",
      "source": [
        "## Зависимости\n",
        "import numpy as np\n",
        "\n",
        "## Данные\n",
        "## Данные с датчиков (Пнд, Вт, Ср, Чт, Пт, Сб, Вс)\n",
        "tmp = np.array([1, 2, 3, 4, 3, 4, 4,\n",
        "5, 3, 3, 4, 3, 4, 6,\n",
        "6, 5, 5, 5, 4, 5, 5])\n",
        "\n",
        "## Однострочник\n",
        "tmp[6::7] = np.average(tmp.reshape((-1,7)), axis=1)\n",
        "## Результат\n",
        "print(tmp)"
      ],
      "metadata": {
        "id": "YMSxz2XJFmCe",
        "colab": {
          "base_uri": "https://localhost:8080/"
        },
        "outputId": "6296aaf0-2278-4287-8697-118210a78e26"
      },
      "execution_count": null,
      "outputs": [
        {
          "output_type": "stream",
          "name": "stdout",
          "text": [
            "[1 2 3 4 3 4 3 5 3 3 4 3 4 4 6 5 5 5 4 5 5]\n"
          ]
        }
      ]
    },
    {
      "cell_type": "code",
      "source": [
        "print(tmp.reshape((-1,7)))"
      ],
      "metadata": {
        "colab": {
          "base_uri": "https://localhost:8080/"
        },
        "id": "bLs3YEv48f76",
        "outputId": "572894b3-a82a-44e4-8d22-674224dcfd54"
      },
      "execution_count": null,
      "outputs": [
        {
          "output_type": "stream",
          "name": "stdout",
          "text": [
            "[[1 2 3 4 3 4 3]\n",
            " [5 3 3 4 3 4 4]\n",
            " [6 5 5 5 4 5 5]]\n"
          ]
        }
      ]
    },
    {
      "cell_type": "code",
      "source": [
        "print(np.average(tmp.reshape((-1,7)), axis=1))"
      ],
      "metadata": {
        "colab": {
          "base_uri": "https://localhost:8080/"
        },
        "id": "D8nLN4qM812A",
        "outputId": "92189fc5-a80f-4060-dfb7-54cc3eed57f0"
      },
      "execution_count": null,
      "outputs": [
        {
          "output_type": "stream",
          "name": "stdout",
          "text": [
            "[2.85714286 3.71428571 5.        ]\n"
          ]
        }
      ]
    },
    {
      "cell_type": "code",
      "source": [
        "## Зависимости\n",
        "import numpy as np\n",
        "## Данные: оценки за экзамен SAT для различных абитуриентов\n",
        "sat_scores = np.array([1100, 1256, 1543, 1043, 989, 1412, 1343])\n",
        "students = np.array([\"John\", \"Bob\", \"Alice\", \"Joe\", \"Jane\", \"Frank\", \"Carl\"])\n",
        "## Однострочник\n",
        "top_3 = students[np.argsort(sat_scores)][:-4:-1]\n",
        "## Результат\n",
        "print(top_3)"
      ],
      "metadata": {
        "colab": {
          "base_uri": "https://localhost:8080/"
        },
        "id": "AszbOo9gIWyO",
        "outputId": "85dab62c-abdc-409a-8dff-27da5c4dce92"
      },
      "execution_count": null,
      "outputs": [
        {
          "output_type": "stream",
          "name": "stdout",
          "text": [
            "['Alice' 'Frank' 'Carl']\n"
          ]
        }
      ]
    },
    {
      "cell_type": "code",
      "source": [
        "np.argsort(sat_scores)"
      ],
      "metadata": {
        "colab": {
          "base_uri": "https://localhost:8080/"
        },
        "id": "-uQ6SQw8IX8M",
        "outputId": "cc00fc17-821b-4fdb-bc67-31c2626aa949"
      },
      "execution_count": null,
      "outputs": [
        {
          "output_type": "execute_result",
          "data": {
            "text/plain": [
              "array([4, 3, 0, 1, 6, 5, 2])"
            ]
          },
          "metadata": {},
          "execution_count": 6
        }
      ]
    },
    {
      "cell_type": "code",
      "source": [
        "students[np.argsort(sat_scores)]"
      ],
      "metadata": {
        "colab": {
          "base_uri": "https://localhost:8080/"
        },
        "id": "b75YI2xrK8SO",
        "outputId": "1fa15a8a-f1cb-4c38-c463-ea64fd0ee505"
      },
      "execution_count": null,
      "outputs": [
        {
          "output_type": "execute_result",
          "data": {
            "text/plain": [
              "array(['Jane', 'Joe', 'John', 'Bob', 'Carl', 'Frank', 'Alice'],\n",
              "      dtype='<U5')"
            ]
          },
          "metadata": {},
          "execution_count": 7
        }
      ]
    },
    {
      "cell_type": "code",
      "source": [
        "students[np.argsort(sat_scores)][:-4:-1]"
      ],
      "metadata": {
        "colab": {
          "base_uri": "https://localhost:8080/"
        },
        "id": "ikEiuvSFLHrY",
        "outputId": "6959f264-1557-403c-ea0e-990138837095"
      },
      "execution_count": null,
      "outputs": [
        {
          "output_type": "execute_result",
          "data": {
            "text/plain": [
              "array(['Alice', 'Frank', 'Carl'], dtype='<U5')"
            ]
          },
          "metadata": {},
          "execution_count": 15
        }
      ]
    },
    {
      "cell_type": "code",
      "source": [
        "## Зависимости\n",
        "import numpy as np\n",
        "## Данные (строка = [название, рейтинг])\n",
        "\n",
        "books = np.array([['Coffee Break NumPy', 4.6],\n",
        "['Lord of the Rings', 5.0],\n",
        "['Harry Potter', 4.3],\n",
        "['Winnie-the-Pooh', 3.9],\n",
        "['The Clown of God', 2.2],\n",
        "['Coffee Break Python', 4.7]])\n",
        "\n",
        "## Однострочник\n",
        "predict_bestseller = lambda x, y : x[x[:,1].astype(float) > y]\n",
        "## Результат\n",
        "print(predict_bestseller(books, 3.9))"
      ],
      "metadata": {
        "colab": {
          "base_uri": "https://localhost:8080/"
        },
        "id": "oiG0NsTlMCbP",
        "outputId": "0315fe8b-403f-4ebf-a479-a9d3015616b8"
      },
      "execution_count": null,
      "outputs": [
        {
          "output_type": "stream",
          "name": "stdout",
          "text": [
            "[['Coffee Break NumPy' '4.6']\n",
            " ['Lord of the Rings' '5.0']\n",
            " ['Harry Potter' '4.3']\n",
            " ['Coffee Break Python' '4.7']]\n"
          ]
        }
      ]
    },
    {
      "cell_type": "code",
      "source": [
        "import numpy as np\n",
        "import matplotlib.pyplot as plt\n",
        "sequence = np.random.normal(10.0, 1.0, 500)\n",
        "print(sequence)\n",
        "plt.xkcd()\n",
        "plt.hist(sequence)\n",
        "plt.annotate(r\"$\\omega_1=9$\", (9, 70))\n",
        "plt.annotate(r\"$\\omega_2=11$\", (11, 70))\n",
        "plt.annotate(r\"$\\mu=10$\", (10, 90))\n",
        "plt.savefig(\"plot.jpg\")\n",
        "plt.show()"
      ],
      "metadata": {
        "colab": {
          "base_uri": "https://localhost:8080/",
          "height": 1000
        },
        "id": "QG755_MrNfgV",
        "outputId": "ff313ade-78ef-4530-d892-27c260d23107"
      },
      "execution_count": null,
      "outputs": [
        {
          "output_type": "stream",
          "name": "stderr",
          "text": [
            "WARNING:matplotlib.font_manager:findfont: Font family 'xkcd' not found.\n",
            "WARNING:matplotlib.font_manager:findfont: Font family 'xkcd Script' not found.\n",
            "WARNING:matplotlib.font_manager:findfont: Font family 'Comic Neue' not found.\n",
            "WARNING:matplotlib.font_manager:findfont: Font family 'Comic Sans MS' not found.\n",
            "WARNING:matplotlib.font_manager:findfont: Font family 'xkcd' not found.\n",
            "WARNING:matplotlib.font_manager:findfont: Font family 'xkcd Script' not found.\n",
            "WARNING:matplotlib.font_manager:findfont: Font family 'Comic Neue' not found.\n",
            "WARNING:matplotlib.font_manager:findfont: Font family 'Comic Sans MS' not found.\n",
            "WARNING:matplotlib.font_manager:findfont: Font family 'xkcd' not found.\n",
            "WARNING:matplotlib.font_manager:findfont: Font family 'xkcd Script' not found.\n",
            "WARNING:matplotlib.font_manager:findfont: Font family 'Comic Neue' not found.\n",
            "WARNING:matplotlib.font_manager:findfont: Font family 'Comic Sans MS' not found.\n",
            "WARNING:matplotlib.font_manager:findfont: Font family 'xkcd' not found.\n",
            "WARNING:matplotlib.font_manager:findfont: Font family 'xkcd Script' not found.\n",
            "WARNING:matplotlib.font_manager:findfont: Font family 'Comic Neue' not found.\n",
            "WARNING:matplotlib.font_manager:findfont: Font family 'Comic Sans MS' not found.\n",
            "WARNING:matplotlib.font_manager:findfont: Font family 'xkcd' not found.\n",
            "WARNING:matplotlib.font_manager:findfont: Font family 'xkcd Script' not found.\n",
            "WARNING:matplotlib.font_manager:findfont: Font family 'Comic Neue' not found.\n"
          ]
        },
        {
          "output_type": "stream",
          "name": "stdout",
          "text": [
            "[11.91609501  9.98448089  9.84510323  9.73908165  7.98343267  9.89770339\n",
            " 10.68244603 10.12946743 10.94389317 10.27353485 10.94159937  9.14550833\n",
            "  9.67710294  9.91259803  9.16131297  8.23750585 10.71843105 10.40068755\n",
            "  9.13096696  9.81749249  9.60362875 10.17080189  9.89987189  8.13471917\n",
            " 10.03721929 11.23476293  9.1901593   8.98633281  9.1720202   8.25708907\n",
            " 10.71573097 10.31962667  8.66580713 10.80624498  9.18693142  9.88905668\n",
            " 10.62149902  8.34744718  9.25732074 10.73589232 10.22752921  9.81342105\n",
            "  8.9209812  11.46452361  8.42361187  8.55066895 10.78852768  9.37310438\n",
            "  9.96055727  9.6875276  10.93519281  9.53127832 11.04665005 10.01446044\n",
            " 10.27654794 10.90546383 10.28933867  9.57783222  8.38965479  9.5693901\n",
            "  9.51459963  9.92133939 11.05820877  9.98558822 10.13801833 11.145576\n",
            " 10.17528492 11.01148128 10.06543256  8.89382832 10.86708965 11.13406154\n",
            "  9.24345406 11.21895958  9.44229247 11.38892654  9.14814882 10.00058725\n",
            "  9.46267547 10.18350293 10.01373809 10.6461466  10.41474534  9.51950803\n",
            " 10.24090592 10.09449958  9.88556307  7.79975821 11.77591052 10.07793956\n",
            " 10.58951346  9.4747931   9.4032411   9.77119436  8.90073312  9.27802073\n",
            " 10.32712772 10.53957685 10.10762578  9.16904568 10.75832415 10.14366549\n",
            "  9.59258592  9.99929169 10.23829644  9.37110339 10.7879336  10.27703114\n",
            "  8.29321681 10.09694643  9.48326529 10.39878752  7.80827917  8.9742066\n",
            "  9.43185779 10.15821753  8.44503457 10.26406515 10.96175841  9.76735862\n",
            " 10.4767538  10.39910673  9.72808537  9.18627222 10.39980136  7.77793948\n",
            " 10.84105881 12.06670457  9.82558851 11.04353629 10.34055099  8.04038601\n",
            "  9.91745367  8.96215876  8.81856717 11.25638959  9.77069143 10.11050537\n",
            "  8.58839877 10.79672261 10.15851128  9.26936467 10.41829122  9.5899539\n",
            "  9.13033896  9.61476801 10.76470135  9.94919029  9.5816297   9.75131774\n",
            " 11.70088749 10.38078267  9.99755826  8.69705807  9.33957395  9.85773977\n",
            " 10.42804437 10.94048709 12.60243154  8.12526103 10.02834645 11.32402792\n",
            " 10.5218926  10.20854345  8.56138023 10.86470058  9.78754134 10.5062639\n",
            " 12.28277734 10.70074328 10.08781403  9.61868294  9.67671833  9.76936593\n",
            "  9.76927172  7.99774803 10.76933202  8.98775646 10.49872894 10.17366516\n",
            "  8.74925041 10.27015328 11.0961232   9.93050166  9.06032446 10.3619289\n",
            "  9.38020772  9.40888433 10.43870586 10.08580858  9.91016581 10.18895843\n",
            "  9.19911884  9.93773525  9.55714529 10.11494485  9.98268505  9.37598951\n",
            " 10.10431037 10.36936816 11.18440249 10.20496879  9.03378932  9.99556569\n",
            " 11.33210953  9.07544823 11.23059503  9.91518582  9.72610405  9.79483962\n",
            "  9.57604177 10.56911809  8.70839316 10.02247465 10.91102683 10.92257835\n",
            " 11.78621457 10.27113258  9.47213532  9.88952334 12.01776839 11.06894375\n",
            "  9.57392745  9.06273449 12.31135921  8.90841982  9.34468994 11.21294854\n",
            "  8.22141361  8.82398113 10.68948218  8.3042846   9.7832968  10.17313936\n",
            "  9.58770546 10.70532043 10.29138621 11.44850197  9.44059263 10.96362428\n",
            " 11.09205735 10.45478357 11.17721367  9.45272337 10.4882342  11.72479002\n",
            "  9.9029267  10.73113003 11.5642346  10.88854608  9.33718718 10.95938408\n",
            " 11.16375211  9.19178968  9.7651812   9.04520148  8.50342659  9.36429492\n",
            " 10.29165577 12.46821559  8.11231741 10.06977569  9.5651731   8.65463847\n",
            " 10.05992308  9.29337822 11.85644323 11.30733502 10.28304517  9.43244835\n",
            "  9.8084452  11.83494921  9.4217794  10.25481027  9.92172195  9.31361782\n",
            "  9.61557526 11.17360569 10.1890008  11.36341116  9.27019276 10.06498888\n",
            " 11.90191672 11.51780483  9.355553    8.42600281  8.3727012  10.74870834\n",
            "  9.35886827 10.42781741  8.92580714 10.17350983  8.242367   11.02682447\n",
            " 10.03020757 10.61141495  9.83037861  8.16175674  9.90883528 11.53651055\n",
            " 10.57862514 11.69952481  8.43676755 11.35205815  8.92744555 10.84909251\n",
            " 11.78142909  9.78023799 11.10412763  8.56210532  7.31471959  9.63764136\n",
            " 10.05938128  9.57256489 11.27524596  9.81634509  9.50911328  7.86001728\n",
            " 10.17849145 10.51696451  9.12353976  9.59134563  8.62199515  9.25351246\n",
            "  9.4360684  11.06882763  9.99381026 10.4972705   9.92379849  9.80032914\n",
            " 10.13660173 10.56108264 10.87496199 11.34698735 10.42880794  9.40275255\n",
            "  9.58845724  9.74303943  9.33768551 12.86265839  9.65117988  9.76294426\n",
            "  9.62073501  9.87203555  9.88865584  9.52217644  8.40949137  9.06897103\n",
            "  9.23739011 10.22792921 10.3041461  10.57927023  9.98150229  8.21179578\n",
            " 10.02236515  9.74072782  9.07545507 11.19186965  9.28258944  8.80012282\n",
            "  9.14431699 10.42969206 11.57701588  9.03215679  9.76087751 10.97691118\n",
            "  9.92106409 10.53763133  8.76854535 10.0795289   9.33178722  9.89514156\n",
            " 12.05000419  7.28920287 11.52553483  9.43440059 11.42258398 11.64326805\n",
            " 11.87276065 10.78610119  9.13906951 11.39625353  9.19089779 10.48348689\n",
            "  9.46006808 10.29660921  9.31873326 10.34793018 10.02062282  9.89045604\n",
            "  8.21321072 10.50175103 11.2829853   9.87540462  9.45193413  8.36619701\n",
            "  8.88973854  9.59683376  9.67222948  9.39900703  9.6656487  10.49477181\n",
            "  9.33484377  9.86577031  9.84398124 10.89165072  8.92489899  8.83898365\n",
            "  9.37599744 11.77550692  9.22217787 10.09423168 10.52195528 10.13668466\n",
            " 11.35479266 10.32477271  9.47498202 10.9766005  11.3457038  11.82431489\n",
            " 10.56102249 10.23903843  7.72724961 11.57964407 11.0510895   9.49636692\n",
            "  7.92375938 10.10087643  8.95725275 10.60960768  8.9847661   8.8481102\n",
            "  9.84087377  8.5985455   9.75404417 11.066286   10.39612156 10.91381783\n",
            "  9.28877734 10.20214224  9.46895237  9.29784792 11.34704725 10.71303913\n",
            " 12.21644726 10.02108541  8.18699273 10.45839208 11.00649364 10.7832735\n",
            "  9.90081716 10.33046688  8.86256048  7.92808329  7.7324647   9.73693852\n",
            " 10.36259483  7.84733628 10.62409395 10.72387014  8.81045856 11.29367104\n",
            " 10.85261886 10.90634146 10.03031216  9.75302411  9.20960814 10.13484839\n",
            "  9.83704618 11.63803072  9.97998393 11.00312968 10.07771385 10.05631478\n",
            "  9.95508306  9.29833183 10.76102422 10.31702937 11.47930397  9.93589953\n",
            "  9.84759889 10.20304801  9.96749964 10.50426242 10.4143271  10.02587774\n",
            " 10.79273278 10.38496527  8.13598838  8.57594645  7.77023729  9.30595788\n",
            " 10.51407036 10.70807658  9.09048133  9.77817904  8.60817769 10.30190496\n",
            "  8.79053585 10.20229152]\n"
          ]
        },
        {
          "output_type": "stream",
          "name": "stderr",
          "text": [
            "WARNING:matplotlib.font_manager:findfont: Font family 'Comic Sans MS' not found.\n",
            "WARNING:matplotlib.font_manager:findfont: Font family 'xkcd' not found.\n",
            "WARNING:matplotlib.font_manager:findfont: Font family 'xkcd Script' not found.\n",
            "WARNING:matplotlib.font_manager:findfont: Font family 'Comic Neue' not found.\n",
            "WARNING:matplotlib.font_manager:findfont: Font family 'Comic Sans MS' not found.\n",
            "WARNING:matplotlib.font_manager:findfont: Font family 'xkcd' not found.\n",
            "WARNING:matplotlib.font_manager:findfont: Font family 'xkcd Script' not found.\n",
            "WARNING:matplotlib.font_manager:findfont: Font family 'Comic Neue' not found.\n",
            "WARNING:matplotlib.font_manager:findfont: Font family 'Comic Sans MS' not found.\n",
            "WARNING:matplotlib.font_manager:findfont: Font family 'xkcd' not found.\n",
            "WARNING:matplotlib.font_manager:findfont: Font family 'xkcd Script' not found.\n",
            "WARNING:matplotlib.font_manager:findfont: Font family 'Comic Neue' not found.\n",
            "WARNING:matplotlib.font_manager:findfont: Font family 'Comic Sans MS' not found.\n",
            "WARNING:matplotlib.font_manager:findfont: Font family 'xkcd' not found.\n",
            "WARNING:matplotlib.font_manager:findfont: Font family 'xkcd Script' not found.\n",
            "WARNING:matplotlib.font_manager:findfont: Font family 'Comic Neue' not found.\n",
            "WARNING:matplotlib.font_manager:findfont: Font family 'Comic Sans MS' not found.\n",
            "WARNING:matplotlib.font_manager:findfont: Font family 'xkcd' not found.\n",
            "WARNING:matplotlib.font_manager:findfont: Font family 'xkcd Script' not found.\n",
            "WARNING:matplotlib.font_manager:findfont: Font family 'Comic Neue' not found.\n",
            "WARNING:matplotlib.font_manager:findfont: Font family 'Comic Sans MS' not found.\n",
            "WARNING:matplotlib.font_manager:findfont: Font family 'xkcd' not found.\n",
            "WARNING:matplotlib.font_manager:findfont: Font family 'xkcd Script' not found.\n",
            "WARNING:matplotlib.font_manager:findfont: Font family 'Comic Neue' not found.\n",
            "WARNING:matplotlib.font_manager:findfont: Font family 'Comic Sans MS' not found.\n",
            "WARNING:matplotlib.font_manager:findfont: Font family 'xkcd' not found.\n",
            "WARNING:matplotlib.font_manager:findfont: Font family 'xkcd Script' not found.\n",
            "WARNING:matplotlib.font_manager:findfont: Font family 'Comic Neue' not found.\n",
            "WARNING:matplotlib.font_manager:findfont: Font family 'Comic Sans MS' not found.\n",
            "WARNING:matplotlib.font_manager:findfont: Font family 'xkcd' not found.\n",
            "WARNING:matplotlib.font_manager:findfont: Font family 'xkcd Script' not found.\n",
            "WARNING:matplotlib.font_manager:findfont: Font family 'Comic Neue' not found.\n",
            "WARNING:matplotlib.font_manager:findfont: Font family 'Comic Sans MS' not found.\n",
            "WARNING:matplotlib.font_manager:findfont: Font family 'xkcd' not found.\n",
            "WARNING:matplotlib.font_manager:findfont: Font family 'xkcd Script' not found.\n",
            "WARNING:matplotlib.font_manager:findfont: Font family 'Comic Neue' not found.\n",
            "WARNING:matplotlib.font_manager:findfont: Font family 'Comic Sans MS' not found.\n",
            "WARNING:matplotlib.font_manager:findfont: Font family 'xkcd' not found.\n",
            "WARNING:matplotlib.font_manager:findfont: Font family 'xkcd Script' not found.\n",
            "WARNING:matplotlib.font_manager:findfont: Font family 'Comic Neue' not found.\n",
            "WARNING:matplotlib.font_manager:findfont: Font family 'Comic Sans MS' not found.\n",
            "WARNING:matplotlib.font_manager:findfont: Font family 'xkcd' not found.\n",
            "WARNING:matplotlib.font_manager:findfont: Font family 'xkcd Script' not found.\n",
            "WARNING:matplotlib.font_manager:findfont: Font family 'Comic Neue' not found.\n",
            "WARNING:matplotlib.font_manager:findfont: Font family 'Comic Sans MS' not found.\n",
            "WARNING:matplotlib.font_manager:findfont: Font family 'xkcd' not found.\n",
            "WARNING:matplotlib.font_manager:findfont: Font family 'xkcd Script' not found.\n",
            "WARNING:matplotlib.font_manager:findfont: Font family 'Comic Neue' not found.\n",
            "WARNING:matplotlib.font_manager:findfont: Font family 'Comic Sans MS' not found.\n",
            "WARNING:matplotlib.font_manager:findfont: Font family 'xkcd' not found.\n",
            "WARNING:matplotlib.font_manager:findfont: Font family 'xkcd Script' not found.\n",
            "WARNING:matplotlib.font_manager:findfont: Font family 'Comic Neue' not found.\n",
            "WARNING:matplotlib.font_manager:findfont: Font family 'Comic Sans MS' not found.\n",
            "WARNING:matplotlib.font_manager:findfont: Font family 'xkcd' not found.\n",
            "WARNING:matplotlib.font_manager:findfont: Font family 'xkcd Script' not found.\n",
            "WARNING:matplotlib.font_manager:findfont: Font family 'Comic Neue' not found.\n",
            "WARNING:matplotlib.font_manager:findfont: Font family 'Comic Sans MS' not found.\n",
            "WARNING:matplotlib.font_manager:findfont: Font family 'xkcd' not found.\n",
            "WARNING:matplotlib.font_manager:findfont: Font family 'xkcd Script' not found.\n",
            "WARNING:matplotlib.font_manager:findfont: Font family 'Comic Neue' not found.\n",
            "WARNING:matplotlib.font_manager:findfont: Font family 'Comic Sans MS' not found.\n",
            "WARNING:matplotlib.font_manager:findfont: Font family 'xkcd' not found.\n",
            "WARNING:matplotlib.font_manager:findfont: Font family 'xkcd Script' not found.\n",
            "WARNING:matplotlib.font_manager:findfont: Font family 'Comic Neue' not found.\n",
            "WARNING:matplotlib.font_manager:findfont: Font family 'Comic Sans MS' not found.\n",
            "WARNING:matplotlib.font_manager:findfont: Font family 'xkcd' not found.\n",
            "WARNING:matplotlib.font_manager:findfont: Font family 'xkcd Script' not found.\n",
            "WARNING:matplotlib.font_manager:findfont: Font family 'Comic Neue' not found.\n",
            "WARNING:matplotlib.font_manager:findfont: Font family 'Comic Sans MS' not found.\n",
            "WARNING:matplotlib.font_manager:findfont: Font family 'xkcd' not found.\n",
            "WARNING:matplotlib.font_manager:findfont: Font family 'xkcd Script' not found.\n",
            "WARNING:matplotlib.font_manager:findfont: Font family 'Comic Neue' not found.\n",
            "WARNING:matplotlib.font_manager:findfont: Font family 'Comic Sans MS' not found.\n",
            "WARNING:matplotlib.font_manager:findfont: Font family 'xkcd' not found.\n",
            "WARNING:matplotlib.font_manager:findfont: Font family 'xkcd Script' not found.\n",
            "WARNING:matplotlib.font_manager:findfont: Font family 'Comic Neue' not found.\n",
            "WARNING:matplotlib.font_manager:findfont: Font family 'Comic Sans MS' not found.\n",
            "WARNING:matplotlib.font_manager:findfont: Font family 'xkcd' not found.\n",
            "WARNING:matplotlib.font_manager:findfont: Font family 'xkcd Script' not found.\n",
            "WARNING:matplotlib.font_manager:findfont: Font family 'Comic Neue' not found.\n",
            "WARNING:matplotlib.font_manager:findfont: Font family 'Comic Sans MS' not found.\n",
            "WARNING:matplotlib.font_manager:findfont: Font family 'xkcd' not found.\n",
            "WARNING:matplotlib.font_manager:findfont: Font family 'xkcd Script' not found.\n",
            "WARNING:matplotlib.font_manager:findfont: Font family 'Comic Neue' not found.\n",
            "WARNING:matplotlib.font_manager:findfont: Font family 'Comic Sans MS' not found.\n",
            "WARNING:matplotlib.font_manager:findfont: Font family 'xkcd' not found.\n",
            "WARNING:matplotlib.font_manager:findfont: Font family 'xkcd Script' not found.\n",
            "WARNING:matplotlib.font_manager:findfont: Font family 'Comic Neue' not found.\n",
            "WARNING:matplotlib.font_manager:findfont: Font family 'Comic Sans MS' not found.\n",
            "WARNING:matplotlib.font_manager:findfont: Font family 'xkcd' not found.\n",
            "WARNING:matplotlib.font_manager:findfont: Font family 'xkcd Script' not found.\n",
            "WARNING:matplotlib.font_manager:findfont: Font family 'Comic Neue' not found.\n",
            "WARNING:matplotlib.font_manager:findfont: Font family 'Comic Sans MS' not found.\n",
            "WARNING:matplotlib.font_manager:findfont: Font family 'xkcd' not found.\n",
            "WARNING:matplotlib.font_manager:findfont: Font family 'xkcd Script' not found.\n",
            "WARNING:matplotlib.font_manager:findfont: Font family 'Comic Neue' not found.\n",
            "WARNING:matplotlib.font_manager:findfont: Font family 'Comic Sans MS' not found.\n",
            "WARNING:matplotlib.font_manager:findfont: Font family 'xkcd' not found.\n",
            "WARNING:matplotlib.font_manager:findfont: Font family 'xkcd Script' not found.\n",
            "WARNING:matplotlib.font_manager:findfont: Font family 'Comic Neue' not found.\n",
            "WARNING:matplotlib.font_manager:findfont: Font family 'Comic Sans MS' not found.\n",
            "WARNING:matplotlib.font_manager:findfont: Font family 'xkcd' not found.\n",
            "WARNING:matplotlib.font_manager:findfont: Font family 'xkcd Script' not found.\n",
            "WARNING:matplotlib.font_manager:findfont: Font family 'Comic Neue' not found.\n",
            "WARNING:matplotlib.font_manager:findfont: Font family 'Comic Sans MS' not found.\n",
            "WARNING:matplotlib.font_manager:findfont: Font family 'xkcd' not found.\n",
            "WARNING:matplotlib.font_manager:findfont: Font family 'xkcd Script' not found.\n",
            "WARNING:matplotlib.font_manager:findfont: Font family 'Comic Neue' not found.\n",
            "WARNING:matplotlib.font_manager:findfont: Font family 'Comic Sans MS' not found.\n",
            "WARNING:matplotlib.font_manager:findfont: Font family 'xkcd' not found.\n",
            "WARNING:matplotlib.font_manager:findfont: Font family 'xkcd Script' not found.\n",
            "WARNING:matplotlib.font_manager:findfont: Font family 'Comic Neue' not found.\n",
            "WARNING:matplotlib.font_manager:findfont: Font family 'Comic Sans MS' not found.\n",
            "WARNING:matplotlib.font_manager:findfont: Font family 'xkcd' not found.\n",
            "WARNING:matplotlib.font_manager:findfont: Font family 'xkcd Script' not found.\n",
            "WARNING:matplotlib.font_manager:findfont: Font family 'Comic Neue' not found.\n",
            "WARNING:matplotlib.font_manager:findfont: Font family 'Comic Sans MS' not found.\n",
            "WARNING:matplotlib.font_manager:findfont: Font family 'xkcd' not found.\n",
            "WARNING:matplotlib.font_manager:findfont: Font family 'xkcd Script' not found.\n",
            "WARNING:matplotlib.font_manager:findfont: Font family 'Comic Neue' not found.\n",
            "WARNING:matplotlib.font_manager:findfont: Font family 'Comic Sans MS' not found.\n",
            "WARNING:matplotlib.font_manager:findfont: Font family 'xkcd' not found.\n",
            "WARNING:matplotlib.font_manager:findfont: Font family 'xkcd Script' not found.\n",
            "WARNING:matplotlib.font_manager:findfont: Font family 'Comic Neue' not found.\n",
            "WARNING:matplotlib.font_manager:findfont: Font family 'Comic Sans MS' not found.\n",
            "WARNING:matplotlib.font_manager:findfont: Font family 'xkcd' not found.\n",
            "WARNING:matplotlib.font_manager:findfont: Font family 'xkcd Script' not found.\n",
            "WARNING:matplotlib.font_manager:findfont: Font family 'Comic Neue' not found.\n",
            "WARNING:matplotlib.font_manager:findfont: Font family 'Comic Sans MS' not found.\n",
            "WARNING:matplotlib.font_manager:findfont: Font family 'xkcd' not found.\n",
            "WARNING:matplotlib.font_manager:findfont: Font family 'xkcd Script' not found.\n",
            "WARNING:matplotlib.font_manager:findfont: Font family 'Comic Neue' not found.\n",
            "WARNING:matplotlib.font_manager:findfont: Font family 'Comic Sans MS' not found.\n",
            "WARNING:matplotlib.font_manager:findfont: Font family 'xkcd' not found.\n",
            "WARNING:matplotlib.font_manager:findfont: Font family 'xkcd Script' not found.\n",
            "WARNING:matplotlib.font_manager:findfont: Font family 'Comic Neue' not found.\n",
            "WARNING:matplotlib.font_manager:findfont: Font family 'Comic Sans MS' not found.\n",
            "WARNING:matplotlib.font_manager:findfont: Font family 'xkcd' not found.\n",
            "WARNING:matplotlib.font_manager:findfont: Font family 'xkcd Script' not found.\n",
            "WARNING:matplotlib.font_manager:findfont: Font family 'Comic Neue' not found.\n",
            "WARNING:matplotlib.font_manager:findfont: Font family 'Comic Sans MS' not found.\n",
            "WARNING:matplotlib.font_manager:findfont: Font family 'xkcd' not found.\n",
            "WARNING:matplotlib.font_manager:findfont: Font family 'xkcd Script' not found.\n",
            "WARNING:matplotlib.font_manager:findfont: Font family 'Comic Neue' not found.\n",
            "WARNING:matplotlib.font_manager:findfont: Font family 'Comic Sans MS' not found.\n",
            "WARNING:matplotlib.font_manager:findfont: Font family 'xkcd' not found.\n",
            "WARNING:matplotlib.font_manager:findfont: Font family 'xkcd Script' not found.\n",
            "WARNING:matplotlib.font_manager:findfont: Font family 'Comic Neue' not found.\n",
            "WARNING:matplotlib.font_manager:findfont: Font family 'Comic Sans MS' not found.\n",
            "WARNING:matplotlib.font_manager:findfont: Font family 'xkcd' not found.\n",
            "WARNING:matplotlib.font_manager:findfont: Font family 'xkcd Script' not found.\n",
            "WARNING:matplotlib.font_manager:findfont: Font family 'Comic Neue' not found.\n",
            "WARNING:matplotlib.font_manager:findfont: Font family 'Comic Sans MS' not found.\n",
            "WARNING:matplotlib.font_manager:findfont: Font family 'xkcd' not found.\n",
            "WARNING:matplotlib.font_manager:findfont: Font family 'xkcd Script' not found.\n",
            "WARNING:matplotlib.font_manager:findfont: Font family 'Comic Neue' not found.\n",
            "WARNING:matplotlib.font_manager:findfont: Font family 'Comic Sans MS' not found.\n",
            "WARNING:matplotlib.font_manager:findfont: Font family 'xkcd' not found.\n",
            "WARNING:matplotlib.font_manager:findfont: Font family 'xkcd Script' not found.\n",
            "WARNING:matplotlib.font_manager:findfont: Font family 'Comic Neue' not found.\n",
            "WARNING:matplotlib.font_manager:findfont: Font family 'Comic Sans MS' not found.\n",
            "WARNING:matplotlib.font_manager:findfont: Font family 'xkcd' not found.\n",
            "WARNING:matplotlib.font_manager:findfont: Font family 'xkcd Script' not found.\n",
            "WARNING:matplotlib.font_manager:findfont: Font family 'Comic Neue' not found.\n",
            "WARNING:matplotlib.font_manager:findfont: Font family 'Comic Sans MS' not found.\n",
            "WARNING:matplotlib.font_manager:findfont: Font family 'xkcd' not found.\n",
            "WARNING:matplotlib.font_manager:findfont: Font family 'xkcd Script' not found.\n",
            "WARNING:matplotlib.font_manager:findfont: Font family 'Comic Neue' not found.\n",
            "WARNING:matplotlib.font_manager:findfont: Font family 'Comic Sans MS' not found.\n",
            "WARNING:matplotlib.font_manager:findfont: Font family 'xkcd' not found.\n",
            "WARNING:matplotlib.font_manager:findfont: Font family 'xkcd Script' not found.\n",
            "WARNING:matplotlib.font_manager:findfont: Font family 'Comic Neue' not found.\n",
            "WARNING:matplotlib.font_manager:findfont: Font family 'Comic Sans MS' not found.\n",
            "WARNING:matplotlib.font_manager:findfont: Font family 'xkcd' not found.\n",
            "WARNING:matplotlib.font_manager:findfont: Font family 'xkcd Script' not found.\n",
            "WARNING:matplotlib.font_manager:findfont: Font family 'Comic Neue' not found.\n",
            "WARNING:matplotlib.font_manager:findfont: Font family 'Comic Sans MS' not found.\n",
            "WARNING:matplotlib.font_manager:findfont: Font family 'xkcd' not found.\n",
            "WARNING:matplotlib.font_manager:findfont: Font family 'xkcd Script' not found.\n",
            "WARNING:matplotlib.font_manager:findfont: Font family 'Comic Neue' not found.\n",
            "WARNING:matplotlib.font_manager:findfont: Font family 'Comic Sans MS' not found.\n",
            "WARNING:matplotlib.font_manager:findfont: Font family 'xkcd' not found.\n",
            "WARNING:matplotlib.font_manager:findfont: Font family 'xkcd Script' not found.\n",
            "WARNING:matplotlib.font_manager:findfont: Font family 'Comic Neue' not found.\n",
            "WARNING:matplotlib.font_manager:findfont: Font family 'Comic Sans MS' not found.\n",
            "WARNING:matplotlib.font_manager:findfont: Font family 'xkcd' not found.\n",
            "WARNING:matplotlib.font_manager:findfont: Font family 'xkcd Script' not found.\n",
            "WARNING:matplotlib.font_manager:findfont: Font family 'Comic Neue' not found.\n",
            "WARNING:matplotlib.font_manager:findfont: Font family 'Comic Sans MS' not found.\n",
            "WARNING:matplotlib.font_manager:findfont: Font family 'xkcd' not found.\n",
            "WARNING:matplotlib.font_manager:findfont: Font family 'xkcd Script' not found.\n",
            "WARNING:matplotlib.font_manager:findfont: Font family 'Comic Neue' not found.\n",
            "WARNING:matplotlib.font_manager:findfont: Font family 'Comic Sans MS' not found.\n",
            "WARNING:matplotlib.font_manager:findfont: Font family 'xkcd' not found.\n",
            "WARNING:matplotlib.font_manager:findfont: Font family 'xkcd Script' not found.\n",
            "WARNING:matplotlib.font_manager:findfont: Font family 'Comic Neue' not found.\n",
            "WARNING:matplotlib.font_manager:findfont: Font family 'Comic Sans MS' not found.\n",
            "WARNING:matplotlib.font_manager:findfont: Font family 'xkcd' not found.\n",
            "WARNING:matplotlib.font_manager:findfont: Font family 'xkcd Script' not found.\n",
            "WARNING:matplotlib.font_manager:findfont: Font family 'Comic Neue' not found.\n",
            "WARNING:matplotlib.font_manager:findfont: Font family 'Comic Sans MS' not found.\n",
            "WARNING:matplotlib.font_manager:findfont: Font family 'xkcd' not found.\n",
            "WARNING:matplotlib.font_manager:findfont: Font family 'xkcd Script' not found.\n",
            "WARNING:matplotlib.font_manager:findfont: Font family 'Comic Neue' not found.\n",
            "WARNING:matplotlib.font_manager:findfont: Font family 'Comic Sans MS' not found.\n",
            "WARNING:matplotlib.font_manager:findfont: Font family 'xkcd' not found.\n",
            "WARNING:matplotlib.font_manager:findfont: Font family 'xkcd Script' not found.\n",
            "WARNING:matplotlib.font_manager:findfont: Font family 'Comic Neue' not found.\n",
            "WARNING:matplotlib.font_manager:findfont: Font family 'Comic Sans MS' not found.\n",
            "WARNING:matplotlib.font_manager:findfont: Font family 'xkcd' not found.\n",
            "WARNING:matplotlib.font_manager:findfont: Font family 'xkcd Script' not found.\n",
            "WARNING:matplotlib.font_manager:findfont: Font family 'Comic Neue' not found.\n",
            "WARNING:matplotlib.font_manager:findfont: Font family 'Comic Sans MS' not found.\n",
            "WARNING:matplotlib.font_manager:findfont: Font family 'xkcd' not found.\n",
            "WARNING:matplotlib.font_manager:findfont: Font family 'xkcd Script' not found.\n",
            "WARNING:matplotlib.font_manager:findfont: Font family 'Comic Neue' not found.\n",
            "WARNING:matplotlib.font_manager:findfont: Font family 'Comic Sans MS' not found.\n",
            "WARNING:matplotlib.font_manager:findfont: Font family 'xkcd' not found.\n",
            "WARNING:matplotlib.font_manager:findfont: Font family 'xkcd Script' not found.\n",
            "WARNING:matplotlib.font_manager:findfont: Font family 'Comic Neue' not found.\n",
            "WARNING:matplotlib.font_manager:findfont: Font family 'Comic Sans MS' not found.\n",
            "WARNING:matplotlib.font_manager:findfont: Font family 'xkcd' not found.\n",
            "WARNING:matplotlib.font_manager:findfont: Font family 'xkcd Script' not found.\n",
            "WARNING:matplotlib.font_manager:findfont: Font family 'Comic Neue' not found.\n",
            "WARNING:matplotlib.font_manager:findfont: Font family 'Comic Sans MS' not found.\n",
            "WARNING:matplotlib.font_manager:findfont: Font family 'xkcd' not found.\n",
            "WARNING:matplotlib.font_manager:findfont: Font family 'xkcd Script' not found.\n",
            "WARNING:matplotlib.font_manager:findfont: Font family 'Comic Neue' not found.\n",
            "WARNING:matplotlib.font_manager:findfont: Font family 'Comic Sans MS' not found.\n",
            "WARNING:matplotlib.font_manager:findfont: Font family 'xkcd' not found.\n",
            "WARNING:matplotlib.font_manager:findfont: Font family 'xkcd Script' not found.\n",
            "WARNING:matplotlib.font_manager:findfont: Font family 'Comic Neue' not found.\n",
            "WARNING:matplotlib.font_manager:findfont: Font family 'Comic Sans MS' not found.\n",
            "WARNING:matplotlib.font_manager:findfont: Font family 'xkcd' not found.\n",
            "WARNING:matplotlib.font_manager:findfont: Font family 'xkcd Script' not found.\n",
            "WARNING:matplotlib.font_manager:findfont: Font family 'Comic Neue' not found.\n",
            "WARNING:matplotlib.font_manager:findfont: Font family 'Comic Sans MS' not found.\n",
            "WARNING:matplotlib.font_manager:findfont: Font family 'xkcd' not found.\n",
            "WARNING:matplotlib.font_manager:findfont: Font family 'xkcd Script' not found.\n",
            "WARNING:matplotlib.font_manager:findfont: Font family 'Comic Neue' not found.\n",
            "WARNING:matplotlib.font_manager:findfont: Font family 'Comic Sans MS' not found.\n",
            "WARNING:matplotlib.font_manager:findfont: Font family 'xkcd' not found.\n",
            "WARNING:matplotlib.font_manager:findfont: Font family 'xkcd Script' not found.\n",
            "WARNING:matplotlib.font_manager:findfont: Font family 'Comic Neue' not found.\n",
            "WARNING:matplotlib.font_manager:findfont: Font family 'Comic Sans MS' not found.\n",
            "WARNING:matplotlib.font_manager:findfont: Font family 'xkcd' not found.\n",
            "WARNING:matplotlib.font_manager:findfont: Font family 'xkcd Script' not found.\n",
            "WARNING:matplotlib.font_manager:findfont: Font family 'Comic Neue' not found.\n",
            "WARNING:matplotlib.font_manager:findfont: Font family 'Comic Sans MS' not found.\n",
            "WARNING:matplotlib.font_manager:findfont: Font family 'xkcd' not found.\n",
            "WARNING:matplotlib.font_manager:findfont: Font family 'xkcd Script' not found.\n",
            "WARNING:matplotlib.font_manager:findfont: Font family 'Comic Neue' not found.\n",
            "WARNING:matplotlib.font_manager:findfont: Font family 'Comic Sans MS' not found.\n",
            "WARNING:matplotlib.font_manager:findfont: Font family 'xkcd' not found.\n",
            "WARNING:matplotlib.font_manager:findfont: Font family 'xkcd Script' not found.\n",
            "WARNING:matplotlib.font_manager:findfont: Font family 'Comic Neue' not found.\n",
            "WARNING:matplotlib.font_manager:findfont: Font family 'Comic Sans MS' not found.\n",
            "WARNING:matplotlib.font_manager:findfont: Font family 'xkcd' not found.\n",
            "WARNING:matplotlib.font_manager:findfont: Font family 'xkcd Script' not found.\n",
            "WARNING:matplotlib.font_manager:findfont: Font family 'Comic Neue' not found.\n",
            "WARNING:matplotlib.font_manager:findfont: Font family 'Comic Sans MS' not found.\n",
            "WARNING:matplotlib.font_manager:findfont: Font family 'xkcd' not found.\n",
            "WARNING:matplotlib.font_manager:findfont: Font family 'xkcd Script' not found.\n",
            "WARNING:matplotlib.font_manager:findfont: Font family 'Comic Neue' not found.\n",
            "WARNING:matplotlib.font_manager:findfont: Font family 'Comic Sans MS' not found.\n",
            "WARNING:matplotlib.font_manager:findfont: Font family 'xkcd' not found.\n",
            "WARNING:matplotlib.font_manager:findfont: Font family 'xkcd Script' not found.\n",
            "WARNING:matplotlib.font_manager:findfont: Font family 'Comic Neue' not found.\n",
            "WARNING:matplotlib.font_manager:findfont: Font family 'Comic Sans MS' not found.\n",
            "WARNING:matplotlib.font_manager:findfont: Font family 'xkcd' not found.\n",
            "WARNING:matplotlib.font_manager:findfont: Font family 'xkcd Script' not found.\n",
            "WARNING:matplotlib.font_manager:findfont: Font family 'Comic Neue' not found.\n",
            "WARNING:matplotlib.font_manager:findfont: Font family 'Comic Sans MS' not found.\n",
            "WARNING:matplotlib.font_manager:findfont: Font family 'xkcd' not found.\n",
            "WARNING:matplotlib.font_manager:findfont: Font family 'xkcd Script' not found.\n",
            "WARNING:matplotlib.font_manager:findfont: Font family 'Comic Neue' not found.\n",
            "WARNING:matplotlib.font_manager:findfont: Font family 'Comic Sans MS' not found.\n",
            "WARNING:matplotlib.font_manager:findfont: Font family 'xkcd' not found.\n",
            "WARNING:matplotlib.font_manager:findfont: Font family 'xkcd Script' not found.\n",
            "WARNING:matplotlib.font_manager:findfont: Font family 'Comic Neue' not found.\n",
            "WARNING:matplotlib.font_manager:findfont: Font family 'Comic Sans MS' not found.\n",
            "WARNING:matplotlib.font_manager:findfont: Font family 'xkcd' not found.\n",
            "WARNING:matplotlib.font_manager:findfont: Font family 'xkcd Script' not found.\n",
            "WARNING:matplotlib.font_manager:findfont: Font family 'Comic Neue' not found.\n",
            "WARNING:matplotlib.font_manager:findfont: Font family 'Comic Sans MS' not found.\n",
            "WARNING:matplotlib.font_manager:findfont: Font family 'xkcd' not found.\n",
            "WARNING:matplotlib.font_manager:findfont: Font family 'xkcd Script' not found.\n",
            "WARNING:matplotlib.font_manager:findfont: Font family 'Comic Neue' not found.\n",
            "WARNING:matplotlib.font_manager:findfont: Font family 'Comic Sans MS' not found.\n",
            "WARNING:matplotlib.font_manager:findfont: Font family 'xkcd' not found.\n",
            "WARNING:matplotlib.font_manager:findfont: Font family 'xkcd Script' not found.\n",
            "WARNING:matplotlib.font_manager:findfont: Font family 'Comic Neue' not found.\n",
            "WARNING:matplotlib.font_manager:findfont: Font family 'Comic Sans MS' not found.\n",
            "WARNING:matplotlib.font_manager:findfont: Font family 'xkcd' not found.\n",
            "WARNING:matplotlib.font_manager:findfont: Font family 'xkcd Script' not found.\n",
            "WARNING:matplotlib.font_manager:findfont: Font family 'Comic Neue' not found.\n",
            "WARNING:matplotlib.font_manager:findfont: Font family 'Comic Sans MS' not found.\n",
            "WARNING:matplotlib.font_manager:findfont: Font family 'xkcd' not found.\n",
            "WARNING:matplotlib.font_manager:findfont: Font family 'xkcd Script' not found.\n",
            "WARNING:matplotlib.font_manager:findfont: Font family 'Comic Neue' not found.\n",
            "WARNING:matplotlib.font_manager:findfont: Font family 'Comic Sans MS' not found.\n"
          ]
        },
        {
          "output_type": "display_data",
          "data": {
            "text/plain": [
              "<Figure size 640x480 with 1 Axes>"
            ],
            "image/png": "[encoded data removed]"
          },
          "metadata": {}
        }
      ]
    },
    {
      "cell_type": "code",
      "source": [
        "## Зависимости\n",
        "import numpy as np\n",
        "## Данные анализа сайта\n",
        "## (строка = день), (столбцы = пользователи, отказы, длительность)\n",
        "a = np.array([[815, 70, 115],\n",
        "[767, 80, 50],\n",
        "[912, 74, 77],\n",
        "[554, 88, 70],\n",
        "[1008, 65, 128]])\n",
        "mean, stdev = np.mean(a, axis=0), np.std(a, axis=0)\n",
        "# [811.2 76.4 88. ], [152.97764543 6.85857128 29.04479299]\n",
        "## Однострочник\n",
        "outliers = ((np.abs(a[:,0] - mean[0]) > stdev[0])\n",
        "* (np.abs(a[:,1] - mean[1]) > stdev[1])\n",
        "* (np.abs(a[:,2] - mean[2]) > stdev[2]))\n",
        "## Результат\n",
        "print(a[outliers])"
      ],
      "metadata": {
        "id": "0grq1ForS48b",
        "colab": {
          "base_uri": "https://localhost:8080/"
        },
        "outputId": "540b4f12-7ee1-4bde-8dcf-79afc2da62f5"
      },
      "execution_count": null,
      "outputs": [
        {
          "output_type": "stream",
          "name": "stdout",
          "text": [
            "[[1008   65  128]]\n"
          ]
        }
      ]
    },
    {
      "cell_type": "code",
      "source": [
        "## строка = [курс 1, курс 2, эл. книга 1, эл. книга 2]\n",
        "## значение 1 означает, что товар был куплен\n",
        "basket = np.array([[0, 1, 1, 0],\n",
        "[0, 0, 0, 1],\n",
        "[1, 1, 0, 0],\n",
        "[0, 1, 1, 1],\n",
        "[1, 1, 1, 0],\n",
        "[0, 1, 1, 0],\n",
        "[1, 1, 0, 1],\n",
        "[1, 1, 1, 1]])\n",
        "## Однострочник\n",
        "copurchases = np.sum(np.all(basket[:,2:], axis = 1)) / basket.shape[0]\n",
        "## Результат\n",
        "print(copurchases)"
      ],
      "metadata": {
        "colab": {
          "base_uri": "https://localhost:8080/"
        },
        "id": "UPMJraUrdBg7",
        "outputId": "d278c0af-35f4-4c12-9bde-b693a7d15632"
      },
      "execution_count": null,
      "outputs": [
        {
          "output_type": "stream",
          "name": "stdout",
          "text": [
            "0.25\n"
          ]
        }
      ]
    },
    {
      "cell_type": "code",
      "source": [
        "print(basket[:,2:])"
      ],
      "metadata": {
        "colab": {
          "base_uri": "https://localhost:8080/"
        },
        "id": "6wIzX3kMgqWf",
        "outputId": "f9666ef7-6872-4353-ca92-3987d5abab63"
      },
      "execution_count": null,
      "outputs": [
        {
          "output_type": "stream",
          "name": "stdout",
          "text": [
            "[[1 0]\n",
            " [0 1]\n",
            " [0 0]\n",
            " [1 1]\n",
            " [1 0]\n",
            " [1 0]\n",
            " [0 1]\n",
            " [1 1]]\n"
          ]
        }
      ]
    },
    {
      "cell_type": "code",
      "source": [
        "print(np.all(basket[:,2:], axis = 1))\n",
        "# [False False False True False False False True]"
      ],
      "metadata": {
        "colab": {
          "base_uri": "https://localhost:8080/"
        },
        "id": "RkV-sQMsgrvm",
        "outputId": "acb72c44-3519-4f42-e504-91b01f5cf465"
      },
      "execution_count": null,
      "outputs": [
        {
          "output_type": "stream",
          "name": "stdout",
          "text": [
            "[False False False  True False False False  True]\n"
          ]
        }
      ]
    },
    {
      "cell_type": "code",
      "source": [
        "## Зависимости\n",
        "import numpy as np\n",
        "## Данные: каждая строка соответствует корзине для покупок конкретного покупателя\n",
        "## строка = [курс 1, курс 2, эл. книга 1, эл. книга 2]\n",
        "## значение 1 означает, что товар был куплен\n",
        "basket = np.array([[0, 1, 1, 0],\n",
        "[0, 0, 0, 1],\n",
        "[1, 1, 0, 0],\n",
        "[0, 1, 1, 1],\n",
        "[1, 1, 1, 0],\n",
        "[0, 1, 1, 0],\n",
        "[1, 1, 0, 1],\n",
        "[1, 1, 1, 1]])\n",
        "## Однострочник (разбит на две строки)\n",
        "copurchases = [(i,j,np.sum(basket[:,i] + basket[:,j] == 2)) for i in range(4) for j in range(i+1,4)]\n",
        "## Результат\n",
        "print(max(copurchases, key=lambda x:x[2]))"
      ],
      "metadata": {
        "colab": {
          "base_uri": "https://localhost:8080/"
        },
        "id": "DsCNcpfljMf8",
        "outputId": "33398bbd-f51a-47ec-c9f0-bdd7e3f9afc7"
      },
      "execution_count": null,
      "outputs": [
        {
          "output_type": "stream",
          "name": "stdout",
          "text": [
            "(1, 2, 5)\n"
          ]
        }
      ]
    },
    {
      "cell_type": "code",
      "source": [
        "print([(i,j) for i in range(4) for j in range(i+1,4)])"
      ],
      "metadata": {
        "colab": {
          "base_uri": "https://localhost:8080/"
        },
        "id": "85iiNi6LkEiB",
        "outputId": "c1b21ecc-1766-435e-d076-8a4f16896754"
      },
      "execution_count": null,
      "outputs": [
        {
          "output_type": "stream",
          "name": "stdout",
          "text": [
            "[(0, 1), (0, 2), (0, 3), (1, 2), (1, 3), (2, 3)]\n"
          ]
        }
      ]
    },
    {
      "cell_type": "code",
      "source": [
        "print(copurchases)\n"
      ],
      "metadata": {
        "colab": {
          "base_uri": "https://localhost:8080/"
        },
        "id": "pgGWdW4klz7o",
        "outputId": "69b90f69-2296-42a6-aa36-86a076b34ce4"
      },
      "execution_count": null,
      "outputs": [
        {
          "output_type": "stream",
          "name": "stdout",
          "text": [
            "[(0, 1, 4), (0, 2, 2), (0, 3, 2), (1, 2, 5), (1, 3, 3), (2, 3, 2)]\n"
          ]
        }
      ]
    },
    {
      "cell_type": "code",
      "source": [
        "from sklearn.linear_model import LinearRegression\n",
        "import numpy as np\n",
        "\n",
        "## Данные (курс акций Apple)\n",
        "apple = np.array([155, 156, 157])\n",
        "n = len(apple)\n",
        "## Однострочник\n",
        "model = LinearRegression().fit(np.arange(n).reshape((n,1)), apple)\n",
        "## Результат\n",
        "print(model.predict([[3],[4]]))"
      ],
      "metadata": {
        "id": "Or52-iHol_ab",
        "outputId": "ffb1f90a-4c7f-485a-a82e-86a7231dbc2e",
        "colab": {
          "base_uri": "https://localhost:8080/"
        }
      },
      "execution_count": null,
      "outputs": [
        {
          "output_type": "stream",
          "name": "stdout",
          "text": [
            "[158. 159.]\n"
          ]
        }
      ]
    },
    {
      "cell_type": "code",
      "source": [
        "from sklearn.linear_model import LogisticRegression\n",
        "import numpy as np\n",
        "## Данные (#сигареты, рак)\n",
        "n = 4\n",
        "X = np.array([[0, \"No\"],\n",
        "[10, \"No\"],\n",
        "[60, \"Yes\"],\n",
        "[90, \"Yes\"]])\n",
        "## Однострочник\n",
        "model = LogisticRegression().fit(X[:,0].reshape(n,1), X[:,1])\n",
        "## Результат\n",
        "print(model.predict([[2],[12],[13],[40],[90]]))"
      ],
      "metadata": {
        "colab": {
          "base_uri": "https://localhost:8080/"
        },
        "id": "Li6gF-QN1QVQ",
        "outputId": "9c20efc0-cf88-4d37-b7f4-f62c0cf739bf"
      },
      "execution_count": null,
      "outputs": [
        {
          "output_type": "stream",
          "name": "stdout",
          "text": [
            "['No' 'No' 'No' 'Yes' 'Yes']\n"
          ]
        }
      ]
    },
    {
      "cell_type": "code",
      "source": [
        "X[:,0].reshape(n,1)"
      ],
      "metadata": {
        "colab": {
          "base_uri": "https://localhost:8080/"
        },
        "id": "qpg-K_Co4gFe",
        "outputId": "c05478ba-d1ee-473b-a196-050c43386320"
      },
      "execution_count": null,
      "outputs": [
        {
          "output_type": "execute_result",
          "data": {
            "text/plain": [
              "array([['0'],\n",
              "       ['10'],\n",
              "       ['60'],\n",
              "       ['90']], dtype='<U21')"
            ]
          },
          "metadata": {},
          "execution_count": 5
        }
      ]
    },
    {
      "cell_type": "code",
      "source": [
        "X[:,1]"
      ],
      "metadata": {
        "colab": {
          "base_uri": "https://localhost:8080/"
        },
        "id": "AMjnXTNU4-hd",
        "outputId": "1552c13c-acbd-48f6-a0d8-559ae557beea"
      },
      "execution_count": null,
      "outputs": [
        {
          "output_type": "execute_result",
          "data": {
            "text/plain": [
              "array(['No', 'No', 'Yes', 'Yes'], dtype='<U21')"
            ]
          },
          "metadata": {},
          "execution_count": 6
        }
      ]
    },
    {
      "cell_type": "code",
      "source": [
        "for i in range(20):\n",
        "  print(\"x=\" + str(i) + \" --> \" + str(model.predict_proba([[i]])))"
      ],
      "metadata": {
        "colab": {
          "base_uri": "https://localhost:8080/"
        },
        "id": "ghpTZEp74-Wx",
        "outputId": "7ad1ae16-7fd3-4cb2-dd43-395ded5eb501"
      },
      "execution_count": null,
      "outputs": [
        {
          "output_type": "stream",
          "name": "stdout",
          "text": [
            "x=0 --> [[9.99568507e-01 4.31492826e-04]]\n",
            "x=1 --> [[9.99462453e-01 5.37546844e-04]]\n",
            "x=2 --> [[9.99330350e-01 6.69649778e-04]]\n",
            "x=3 --> [[9.99165810e-01 8.34190106e-04]]\n",
            "x=4 --> [[0.99896088 0.00103912]]\n",
            "x=5 --> [[0.99870568 0.00129432]]\n",
            "x=6 --> [[0.9983879 0.0016121]]\n",
            "x=7 --> [[0.99799225 0.00200775]]\n",
            "x=8 --> [[0.99749974 0.00250026]]\n",
            "x=9 --> [[0.99688681 0.00311319]]\n",
            "x=10 --> [[0.99612419 0.00387581]]\n",
            "x=11 --> [[0.99517566 0.00482434]]\n",
            "x=12 --> [[0.9939964 0.0060036]]\n",
            "x=13 --> [[0.99253105 0.00746895]]\n",
            "x=14 --> [[0.99071137 0.00928863]]\n",
            "x=15 --> [[0.98845352 0.01154648]]\n",
            "x=16 --> [[0.98565479 0.01434521]]\n",
            "x=17 --> [[0.9821899 0.0178101]]\n",
            "x=18 --> [[0.97790687 0.02209313]]\n",
            "x=19 --> [[0.97262256 0.02737744]]\n"
          ]
        }
      ]
    },
    {
      "cell_type": "code",
      "source": [
        "## Зависимости\n",
        "from sklearn.cluster import KMeans\n",
        "import numpy as np\n",
        "## Данные (Отработано (ч) / Зарплата ($))\n",
        "X = np.array([[35, 7000], [45, 6900], [70, 7100],\n",
        "[20, 2000], [25, 2200], [15, 1800]])\n",
        "## Однострочник\n",
        "kmeans = KMeans(n_clusters=2).fit(X)\n",
        "## Результат\n",
        "cc = kmeans.cluster_centers_\n",
        "cc"
      ],
      "metadata": {
        "id": "nsWBi5mg5NNs",
        "colab": {
          "base_uri": "https://localhost:8080/"
        },
        "outputId": "5041e426-93ea-4469-b56c-05f7e3a4adcb"
      },
      "execution_count": null,
      "outputs": [
        {
          "output_type": "stream",
          "name": "stderr",
          "text": [
            "/usr/local/lib/python3.10/dist-packages/sklearn/cluster/_kmeans.py:1416: FutureWarning: The default value of `n_init` will change from 10 to 'auto' in 1.4. Set the value of `n_init` explicitly to suppress the warning\n",
            "  super()._check_params_vs_input(X, default_n_init=10)\n"
          ]
        },
        {
          "output_type": "execute_result",
          "data": {
            "text/plain": [
              "array([[  20., 2000.],\n",
              "       [  50., 7000.]])"
            ]
          },
          "metadata": {},
          "execution_count": 4
        }
      ]
    },
    {
      "cell_type": "code",
      "source": [
        "from sklearn.neighbors import KNeighborsRegressor\n",
        "import numpy as np\n",
        "## Данные (площадь дома (в квадратных метрах) / цена дома ($))\n",
        "X = np.array([[35, 30000], [45, 45000], [40, 50000],\n",
        "[35, 35000], [25, 32500], [40, 40000]])\n",
        "## Однострочник\n",
        "KNN = KNeighborsRegressor(n_neighbors=3).fit(X[:,0].reshape(-1,1), X[:,1])\n",
        "## Результат\n",
        "res = KNN.predict([[30]])\n",
        "print(res)"
      ],
      "metadata": {
        "colab": {
          "base_uri": "https://localhost:8080/"
        },
        "id": "s14P7mXSBqTd",
        "outputId": "4d5f3017-87c0-47e1-a85a-69807dde7776"
      },
      "execution_count": null,
      "outputs": [
        {
          "output_type": "stream",
          "name": "stdout",
          "text": [
            "[32500.]\n"
          ]
        }
      ]
    },
    {
      "cell_type": "code",
      "source": [
        "from sklearn.neural_network import MLPRegressor\n",
        "import numpy as np\n",
        "## Данные опросника (WEEK, YEARS, BOOKS, PROJECTS, EARN, RATING)\n",
        "X = np.array(\n",
        "[[20, 11, 20, 30, 4000, 3000],\n",
        "[12, 4, 0, 0, 1000, 1500],\n",
        "[2, 0, 1, 10, 0, 1400],\n",
        "[35, 5, 10, 70, 6000, 3800],\n",
        "[30, 1, 4, 65, 0, 3900],\n",
        "[35, 1, 0, 0, 0, 100],\n",
        "[15, 1, 2, 25, 0, 3700],\n",
        "[40, 3, -1, 60, 1000, 2000],\n",
        "[40, 1, 2, 95, 0, 1000],\n",
        "[10, 0, 0, 0, 0, 1400],\n",
        "[30, 1, 0, 50, 0, 1700],\n",
        "[1, 0, 0, 45, 0, 1762],\n",
        "[10, 32, 10, 5, 0, 2400],\n",
        "[5, 35, 4, 0, 13000, 3900],\n",
        "[8, 9, 40, 30, 1000, 2625],\n",
        "[1, 0, 1, 0, 0, 1900],\n",
        "[1, 30, 10, 0, 1000, 1900],\n",
        "[7, 16, 5, 0, 0, 3000]])\n",
        "## Однострочник\n",
        "neural_net = MLPRegressor(max_iter=10000).fit(X[:,:-1], X[:,-1])\n",
        "## Результат\n",
        "res = neural_net.predict([[0, 0, 0, 0, 0]])\n",
        "print(res)"
      ],
      "metadata": {
        "colab": {
          "base_uri": "https://localhost:8080/"
        },
        "id": "wSBV81BfCjUr",
        "outputId": "a08f694a-c3e0-4b3f-f7bc-2ee4a6348230"
      },
      "execution_count": null,
      "outputs": [
        {
          "output_type": "stream",
          "name": "stdout",
          "text": [
            "[1218.40555061]\n"
          ]
        }
      ]
    },
    {
      "cell_type": "code",
      "source": [
        "res = neural_net.predict([[20, 1, 10, 50, 1000]])\n",
        "print(res)\n",
        "# [1960.7595"
      ],
      "metadata": {
        "colab": {
          "base_uri": "https://localhost:8080/"
        },
        "id": "WFdN3cYGLYZM",
        "outputId": "f0b02af5-88e6-4c1b-ad01-916355a1609d"
      },
      "execution_count": null,
      "outputs": [
        {
          "output_type": "stream",
          "name": "stdout",
          "text": [
            "[2107.28753379]\n"
          ]
        }
      ]
    },
    {
      "cell_type": "code",
      "source": [
        "from sklearn import tree\n",
        "import numpy as np\n",
        "## Данные: оценки студентов по (математика, языки, творческие\n",
        "## способности) --> предмет для изучения\n",
        "X = np.array([[9, 5, 6, \"computer science\"],\n",
        "[1, 8, 1, \"linguistics\"],\n",
        "[5, 7, 9, \"art\"]])\n",
        "## Однострочник\n",
        "Tree = tree.DecisionTreeClassifier().fit(X[:,:-1], X[:,-1])\n",
        "## Результат\n",
        "student_0 = Tree.predict([[8, 6, 5]])\n",
        "print(student_0)\n",
        "student_1 = Tree.predict([[3, 7, 9]])\n",
        "print(student_1)"
      ],
      "metadata": {
        "id": "b3pw1y99NAVl",
        "colab": {
          "base_uri": "https://localhost:8080/"
        },
        "outputId": "b81ac4d6-dbd6-4666-bebc-350fe31f6742"
      },
      "execution_count": 1,
      "outputs": [
        {
          "output_type": "stream",
          "name": "stdout",
          "text": [
            "['computer science']\n",
            "['art']\n"
          ]
        }
      ]
    },
    {
      "cell_type": "code",
      "source": [
        "X[:,:-1]"
      ],
      "metadata": {
        "colab": {
          "base_uri": "https://localhost:8080/"
        },
        "id": "_hL2eeSuPkK2",
        "outputId": "aee35739-69c1-49fc-fad8-9f5608b45761"
      },
      "execution_count": 2,
      "outputs": [
        {
          "output_type": "execute_result",
          "data": {
            "text/plain": [
              "array([['9', '5', '6'],\n",
              "       ['1', '8', '1'],\n",
              "       ['5', '7', '9']], dtype='<U21')"
            ]
          },
          "metadata": {},
          "execution_count": 2
        }
      ]
    },
    {
      "cell_type": "code",
      "source": [
        "X[:,-1]"
      ],
      "metadata": {
        "colab": {
          "base_uri": "https://localhost:8080/"
        },
        "id": "gHFJRG8SPmGs",
        "outputId": "ff9b1881-628e-4f87-de06-2bcd5b183fb2"
      },
      "execution_count": 3,
      "outputs": [
        {
          "output_type": "execute_result",
          "data": {
            "text/plain": [
              "array(['computer science', 'linguistics', 'art'], dtype='<U21')"
            ]
          },
          "metadata": {},
          "execution_count": 3
        }
      ]
    },
    {
      "cell_type": "code",
      "source": [
        "import numpy as np\n",
        "## Данные (строки: акции / столбцы: курсы акций)\n",
        "X = np.array([[25,27,29,30],\n",
        "[1,5,3,2],\n",
        "[12,11,8,3],\n",
        "[1,1,2,2],\n",
        "[2,6,2,2]])\n",
        "## Однострочник\n",
        "## Поиск акций с наименьшей дисперсией\n",
        "min_row = min([(i,np.var(X[i,:])) for i in range(len(X))], key=lambda x: x[1])\n",
        "## Результат\n",
        "print(\"Row with minimum variance: \" + str(min_row[0]))\n",
        "print(\"Variance: \" + str(min_row[1]))"
      ],
      "metadata": {
        "colab": {
          "base_uri": "https://localhost:8080/"
        },
        "id": "p4gtJU83SB1B",
        "outputId": "8be2b675-d368-47bd-f0fc-0d3ec7870485"
      },
      "execution_count": 4,
      "outputs": [
        {
          "output_type": "stream",
          "name": "stdout",
          "text": [
            "Row with minimum variance: 3\n",
            "Variance: 0.25\n"
          ]
        }
      ]
    },
    {
      "cell_type": "code",
      "source": [
        "var = np.var(X, axis=1)\n",
        "min_row = (np.where(var==min(var)), min(var))\n",
        "min_row"
      ],
      "metadata": {
        "colab": {
          "base_uri": "https://localhost:8080/"
        },
        "id": "fcwOiek0SDEr",
        "outputId": "4cfbee5a-5b47-4c9a-b71b-dec115059581"
      },
      "execution_count": 5,
      "outputs": [
        {
          "output_type": "execute_result",
          "data": {
            "text/plain": [
              "((array([3]),), 0.25)"
            ]
          },
          "metadata": {},
          "execution_count": 5
        }
      ]
    },
    {
      "cell_type": "code",
      "source": [
        "var"
      ],
      "metadata": {
        "colab": {
          "base_uri": "https://localhost:8080/"
        },
        "id": "i0V0he7BTugS",
        "outputId": "98f55eee-27ce-4299-d27a-66722eafcb9d"
      },
      "execution_count": 6,
      "outputs": [
        {
          "output_type": "execute_result",
          "data": {
            "text/plain": [
              "array([ 3.6875,  2.1875, 12.25  ,  0.25  ,  3.    ])"
            ]
          },
          "metadata": {},
          "execution_count": 6
        }
      ]
    },
    {
      "cell_type": "code",
      "source": [
        "from sklearn import svm\n",
        "import numpy as np\n",
        "## Данные: оценки студентов по (математика, языки, творческие\n",
        "## способности) --> предмет для изучения\n",
        "X = np.array([[9, 5, 6, \"computer science\"],\n",
        "[10, 1, 2, \"computer science\"],\n",
        "[1, 8, 1, \"literature\"],\n",
        "[4, 9, 3, \"literature\"],\n",
        "[0, 1, 10, \"art\"],\n",
        "[5, 7, 9, \"art\"]])\n",
        "## Однострочник\n",
        "svm = svm.SVC().fit(X[:,:-1], X[:,-1])\n",
        "## Результат\n",
        "student_0 = svm.predict([[3, 3, 6]])\n",
        "print(student_0)\n",
        "student_1 = svm.predict([[8, 1, 1]])\n",
        "print(student_1)"
      ],
      "metadata": {
        "colab": {
          "base_uri": "https://localhost:8080/"
        },
        "id": "VuhOzlHYWVNv",
        "outputId": "ecd420ed-3f55-4bb9-aaa4-fd297ccd3fb3"
      },
      "execution_count": 7,
      "outputs": [
        {
          "output_type": "stream",
          "name": "stdout",
          "text": [
            "['art']\n",
            "['computer science']\n"
          ]
        }
      ]
    },
    {
      "cell_type": "code",
      "source": [
        "import numpy as np\n",
        "from sklearn.ensemble import RandomForestClassifier\n",
        "## Данные: оценки студентов по (математика, языки, творческие\n",
        "## способности) --> предмет для изучения\n",
        "X = np.array([[9, 5, 6, \"computer science\"],\n",
        "[5, 1, 5, \"computer science\"],\n",
        "[8, 8, 8, \"computer science\"],\n",
        "[1, 10, 7, \"literature\"],\n",
        "[1, 8, 1, \"literature\"],\n",
        "[5, 7, 9, \"art\"],\n",
        "[1, 1, 6, \"art\"]])\n",
        "## Однострочник\n",
        "Forest = RandomForestClassifier(n_estimators=10).fit(X[:,:-1], X[:,-1])\n",
        "## Результат\n",
        "students = Forest.predict([[8, 6, 5],\n",
        "[3, 7, 9],\n",
        "[2, 2, 1]])\n",
        "print(students)"
      ],
      "metadata": {
        "colab": {
          "base_uri": "https://localhost:8080/"
        },
        "id": "8TyWCh-_eBx1",
        "outputId": "aa5c9afe-d937-4f28-f693-12c02ed66517"
      },
      "execution_count": 8,
      "outputs": [
        {
          "output_type": "stream",
          "name": "stdout",
          "text": [
            "['computer science' 'art' 'art']\n"
          ]
        }
      ]
    },
    {
      "cell_type": "code",
      "source": [
        "import re\n",
        "## Данные\n",
        "text = 'peter piper picked a peck of pickled peppers'\n",
        "## Однострочник\n",
        "result = re.findall('p.*?e.*?r', text)\n",
        "## Результат\n",
        "print(result)"
      ],
      "metadata": {
        "colab": {
          "base_uri": "https://localhost:8080/"
        },
        "id": "WEd5Y1q4okTn",
        "outputId": "b8752890-152c-4b7b-90b8-6554373b7cc3"
      },
      "execution_count": 9,
      "outputs": [
        {
          "output_type": "stream",
          "name": "stdout",
          "text": [
            "['peter', 'piper', 'picked a peck of pickled pepper']\n"
          ]
        }
      ]
    }
  ]
}