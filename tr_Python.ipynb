{
  "nbformat": 4,
  "nbformat_minor": 0,
  "metadata": {
    "colab": {
      "provenance": [],
      "authorship_tag": "ABX9TyN73qdDlFzkhHfDIxCre2yW",
      "include_colab_link": true
    },
    "kernelspec": {
      "name": "python3",
      "display_name": "Python 3"
    },
    "language_info": {
      "name": "python"
    }
  },
  "cells": [
    {
      "cell_type": "markdown",
      "metadata": {
        "id": "view-in-github",
        "colab_type": "text"
      },
      "source": [
        "<a href=\"https://colab.research.google.com/github/Sinrez/PythonProjects/blob/main/tr_Python.ipynb\" target=\"_parent\"><img src=\"https://colab.research.google.com/assets/colab-badge.svg\" alt=\"Open In Colab\"/></a>"
      ]
    },
    {
      "cell_type": "code",
      "execution_count": null,
      "metadata": {
        "colab": {
          "base_uri": "https://localhost:8080/"
        },
        "id": "NEs0KE895CEf",
        "outputId": "c0947ad2-bee5-4c81-a544-8a765efc5694"
      },
      "outputs": [
        {
          "output_type": "stream",
          "name": "stdout",
          "text": [
            "[('Alice', 100000), ('Carol', 122908)]\n"
          ]
        }
      ],
      "source": [
        "employees = {'Alice' : 100000,\n",
        "  'Bob' : 99817,\n",
        "  'Carol' : 122908,\n",
        "  'Frank' : 88123,\n",
        "  'Eve' : 93121}\n",
        "\n",
        "top_earners = []\n",
        "for key, val in employees.items():\n",
        "  if val >= 100000:\n",
        "    top_earners.append((key,val))\n",
        "\n",
        "print(top_earners)\n",
        "# [('Alice', 100000), ('Carol', 122908)]"
      ]
    },
    {
      "cell_type": "code",
      "source": [
        "top_earners  = [(k, v) for k, v in employees.items() if v >= 100000 ]\n",
        "top_earners"
      ],
      "metadata": {
        "colab": {
          "base_uri": "https://localhost:8080/"
        },
        "id": "tQLsIFyZ6goS",
        "outputId": "34d6491d-3971-4479-a162-6bed2da34768"
      },
      "execution_count": null,
      "outputs": [
        {
          "output_type": "execute_result",
          "data": {
            "text/plain": [
              "[('Alice', 100000), ('Carol', 122908)]"
            ]
          },
          "metadata": {},
          "execution_count": 3
        }
      ]
    },
    {
      "cell_type": "code",
      "source": [
        "## Данные\n",
        "text = '''\n",
        "Call me Ishmael. Some years ago - never mind how long precisely - having\n",
        "little or no money in my purse, and nothing particular to interest me\n",
        "on shore, I thought I would sail about a little and see the watery part\n",
        "of the world. It is a way I have of driving off the spleen, and regulating\n",
        "the circulation. - Moby Dick'''\n",
        "\n",
        "## Однострочник\n",
        "w = [ [x for x in line.split() if len(x)>3]  for line in text.split('\\n')]\n",
        "w"
      ],
      "metadata": {
        "id": "nXCVIP5S6wzE",
        "colab": {
          "base_uri": "https://localhost:8080/"
        },
        "outputId": "560898a5-a84c-4142-e1ae-1debf0670987"
      },
      "execution_count": null,
      "outputs": [
        {
          "output_type": "execute_result",
          "data": {
            "text/plain": [
              "[[],\n",
              " ['Call',\n",
              "  'Ishmael.',\n",
              "  'Some',\n",
              "  'years',\n",
              "  'never',\n",
              "  'mind',\n",
              "  'long',\n",
              "  'precisely',\n",
              "  'having'],\n",
              " ['little', 'money', 'purse,', 'nothing', 'particular', 'interest'],\n",
              " ['shore,', 'thought', 'would', 'sail', 'about', 'little', 'watery', 'part'],\n",
              " ['world.', 'have', 'driving', 'spleen,', 'regulating'],\n",
              " ['circulation.', 'Moby', 'Dick']]"
            ]
          },
          "metadata": {},
          "execution_count": 4
        }
      ]
    },
    {
      "cell_type": "code",
      "source": [
        "## Данные\n",
        "letters_amazon = '''\n",
        "We spent several years building our own database engine,\n",
        "Amazon Aurora, a fully-managed MySQL and PostgreSQL-compatible\n",
        "service with the same or better durability and availability as\n",
        "the commercial engines, but at one-tenth of the cost. We were\n",
        "not surprised when this worked.\n",
        "'''\n",
        "## Однострочник\n",
        "find = lambda x, q: x[x.find(q)-30:x.find(q)+30] if q in x else -1\n",
        "# find = lambda x, q: x if q in x else -1\n",
        "## Результат\n",
        "print(find(letters_amazon, 'SQL'))"
      ],
      "metadata": {
        "id": "DkyCpBmev3WY",
        "colab": {
          "base_uri": "https://localhost:8080/"
        },
        "outputId": "78f7cb54-d628-4fd5-dec1-3657339fbdd7"
      },
      "execution_count": 8,
      "outputs": [
        {
          "output_type": "stream",
          "name": "stdout",
          "text": [
            "zon Aurora, a fully-managed MySQL and PostgreSQL-compatible\n",
            "\n"
          ]
        }
      ]
    },
    {
      "cell_type": "code",
      "source": [],
      "metadata": {
        "id": "RSR2JGpTB4hN"
      },
      "execution_count": null,
      "outputs": []
    }
  ]
}