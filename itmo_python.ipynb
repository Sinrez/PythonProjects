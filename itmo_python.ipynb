{
  "nbformat": 4,
  "nbformat_minor": 0,
  "metadata": {
    "colab": {
      "provenance": [],
      "authorship_tag": "ABX9TyNCvieHkhydpYdnpxExTBu4",
      "include_colab_link": true
    },
    "kernelspec": {
      "name": "python3",
      "display_name": "Python 3"
    },
    "language_info": {
      "name": "python"
    }
  },
  "cells": [
    {
      "cell_type": "markdown",
      "metadata": {
        "id": "view-in-github",
        "colab_type": "text"
      },
      "source": [
        "<a href=\"https://colab.research.google.com/github/Sinrez/PythonProjects/blob/main/itmo_python.ipynb\" target=\"_parent\"><img src=\"https://colab.research.google.com/assets/colab-badge.svg\" alt=\"Open In Colab\"/></a>"
      ]
    },
    {
      "cell_type": "markdown",
      "source": [
        "При помощи Python опишите функцию grade(score), которая на вход принимает набранное студентом количество баллов (целое число от  до  включительно), и возвращает оценку в виде текстовой строки в соответствии со следующей таблицей"
      ],
      "metadata": {
        "id": "Xza7mNcXmnUj"
      }
    },
    {
      "cell_type": "code",
      "execution_count": null,
      "metadata": {
        "id": "3qg0JT2smjSC"
      },
      "outputs": [],
      "source": [
        "def grade(score):\n",
        "  if 0 <= score < 60:\n",
        "    return 'неудовлетворительно'\n",
        "  elif 60 <= score <= 74:\n",
        "    return 'удовлетворительно'\n",
        "  elif 74 < score <= 90:\n",
        "    return 'хорошо'\n",
        "  elif 90 < score <= 1000:\n",
        "    return 'отлично'\n"
      ]
    },
    {
      "cell_type": "markdown",
      "source": [
        "При помощи Python опишите функцию solve, которая позволяет решать уравнение\n",
        "Входными параметрами для функции служат числа , возвращать функция должна значение . Если уравнение имеет бесконечное множество решений, то функция должна возвращать текстовую строку Any (с большой буквы, без дополнительных символов). Если уравнение решений не имеет, то функция должна возвращать текстовую строку Error (с большой буквы, без дополнительных символов)."
      ],
      "metadata": {
        "id": "js1IL1s0oRyg"
      }
    },
    {
      "cell_type": "code",
      "source": [
        "def solve(a, b):\n",
        "    if (a == 0) and (b == 0):\n",
        "        return \"Any\"\n",
        "    elif a == 0 and b != 0:\n",
        "        return \"Error\"\n",
        "    else:\n",
        "        x = b/a\n",
        "        return x"
      ],
      "metadata": {
        "id": "yyrJ2qgQoS11"
      },
      "execution_count": null,
      "outputs": []
    },
    {
      "cell_type": "code",
      "source": [
        "tuple1 = tuple('Некий кортеж на языке Python определен следующим образом')\n",
        "tuple1[32]"
      ],
      "metadata": {
        "colab": {
          "base_uri": "https://localhost:8080/",
          "height": 35
        },
        "id": "3v1ew9VbqHsB",
        "outputId": "d4a89223-570a-4cd4-c9e7-12f6f1f6f389"
      },
      "execution_count": null,
      "outputs": [
        {
          "output_type": "execute_result",
          "data": {
            "text/plain": [
              "'е'"
            ],
            "application/vnd.google.colaboratory.intrinsic+json": {
              "type": "string"
            }
          },
          "metadata": {},
          "execution_count": 1
        }
      ]
    },
    {
      "cell_type": "markdown",
      "source": [
        "Есть одномерный массив a = np.array([29, 47, 9, 34, 26, 27, 16, 41, 14, 4, 38, 25, 24, 18, 45, 11]), который надо привести к форме (2, -1).В качестве ответа надо ввести сумму максимальных по столбцам элементов.\n",
        "В качестве ответа надо ввести сумму максимальных по столбцам элементов. Например, если массив\n",
        "a = np.array([35, 3, 79, 75, 28, 23, 12, 13, 53]),\n",
        "надо привести к форме (3, 3), то результат 75 + 28 + 79 = 182"
      ],
      "metadata": {
        "id": "0qVrLtUXoCqk"
      }
    },
    {
      "cell_type": "code",
      "source": [
        "import numpy as np\n",
        "a = np.array([29, 47, 9, 34, 26, 27, 16, 41, 14, 4, 38, 25, 24, 18, 45, 11]).reshape(2, -1)\n",
        "a\n",
        "res_sum = np.sum(a.max(axis=0))\n",
        "res_sum"
      ],
      "metadata": {
        "colab": {
          "base_uri": "https://localhost:8080/"
        },
        "id": "E3WBnP8Jn7xC",
        "outputId": "055e1fba-73b4-4798-8535-ec28a0cb5f38"
      },
      "execution_count": null,
      "outputs": [
        {
          "output_type": "execute_result",
          "data": {
            "text/plain": [
              "287"
            ]
          },
          "metadata": {},
          "execution_count": 3
        }
      ]
    },
    {
      "cell_type": "markdown",
      "source": [
        "При помощи Python реализуйте функцию create_dict(tuple1, list1, N), которая создает словарь размера N с ключами из кортежа tuple1 и значениями из списка list1. Если размерность кортежа tuple1 меньше N, то ключ должен формироваться, как key_i, где i - индекс словаря, i. Если размерность списка list1 меньше N, то значение равно i.\n",
        "\n",
        "Например, если tuple1 = ('яблоки','груши','сливы'), list1 = [103.0, 154.9, 95.0, 215.5] и N = 5, то результатом должен быть следующий словарь {'яблоки': 103.0, 'груши': 154.9, 'сливы': 95.0, 'key_3': 215.5, 'key_4': 4}\n",
        "\n",
        "Введите результат выполнения функции при условии, что tuple1 = ['x', 'b', 's', 'a', 'g', 'u', 'h', 'd'], list1 = [81, 98, 32, 9, 57, 75, 10, 85, 41] и N = 10"
      ],
      "metadata": {
        "id": "kx30xfZCOs7R"
      }
    },
    {
      "cell_type": "code",
      "source": [
        "def create_dict(tuple1, list1, n):\n",
        "  dict1 =  {}\n",
        "  if len(tuple1) == n:\n",
        "    for i in range(n):\n",
        "      dict1[tuple1[i]] = list1[i]\n",
        "    return dict1\n",
        "  elif len(tuple1) < n:\n",
        "    for i in range(len(tuple1)):\n",
        "      dict1[tuple1[i]] = list1[i]\n",
        "    for i in range(len(tuple1), n):\n",
        "      if i >= len(list1):\n",
        "        dict1[\"key_\"+str(i)] = i\n",
        "      else:\n",
        "        dict1[\"key_\"+str(i)] = list1[i]\n",
        "    return dict1\n",
        "\n",
        "tuple1 = ['x', 'b', 's', 'a', 'g', 'u', 'h', 'd']\n",
        "list1 = [81, 98, 32, 9, 57, 75, 10, 85, 41]\n",
        "N = 10\n",
        "\n",
        "# tuple1 = ('яблоки','груши','сливы')\n",
        "# list1 = [103.0, 154.9, 95.0, 215.5]\n",
        "# N = 5\n",
        "\n",
        "# tuple1 = ('яблоки','груши','сливы')\n",
        "# list1 = [103.0, 154.9, 95.0]\n",
        "# N = 3\n",
        "\n",
        "create_dict(tuple1, list1, N)"
      ],
      "metadata": {
        "colab": {
          "base_uri": "https://localhost:8080/"
        },
        "id": "fNDPXu4XOru4",
        "outputId": "e94e8e59-4214-4398-8261-84999ef4577b"
      },
      "execution_count": null,
      "outputs": [
        {
          "output_type": "execute_result",
          "data": {
            "text/plain": [
              "{'x': 81,\n",
              " 'b': 98,\n",
              " 's': 32,\n",
              " 'a': 9,\n",
              " 'g': 57,\n",
              " 'u': 75,\n",
              " 'h': 10,\n",
              " 'd': 85,\n",
              " 'key_8': 41,\n",
              " 'key_9': 9}"
            ]
          },
          "metadata": {},
          "execution_count": 12
        }
      ]
    },
    {
      "cell_type": "code",
      "source": [
        "len({'x': 81,  'b': 98,  's': 32,  'a': 9,  'g': 57,  'u': 75,  'h': 10,  'd': 85,  'key_8': 41,  'key_9': 9})"
      ],
      "metadata": {
        "colab": {
          "base_uri": "https://localhost:8080/"
        },
        "id": "i37WJguuUGXG",
        "outputId": "6656262f-b7b4-41cc-aa45-61cd3aeb4ea8"
      },
      "execution_count": null,
      "outputs": [
        {
          "output_type": "execute_result",
          "data": {
            "text/plain": [
              "10"
            ]
          },
          "metadata": {},
          "execution_count": 13
        }
      ]
    },
    {
      "cell_type": "code",
      "source": [
        "def create_dict(tuple1, list1, N):\n",
        "    result_dict = {}\n",
        "    for i in range(N):\n",
        "        if i < len(tuple1):\n",
        "            key = tuple1[i]\n",
        "        else:\n",
        "            key = f'key_{i}'\n",
        "        if i < len(list1):\n",
        "            value = list1[i]\n",
        "        else:\n",
        "            value = i\n",
        "        result_dict[key] = value\n",
        "    return result_dict\n",
        "\n",
        "tuple1 = ['x', 'b', 's', 'a', 'g', 'u', 'h', 'd']\n",
        "list1 = [81, 98, 32, 9, 57, 75, 10, 85, 41]\n",
        "N = 10\n",
        "\n",
        "\n",
        "# tuple1 = ('яблоки','груши','сливы')\n",
        "# list1 = [103.0, 154.9, 95.0, 215.5]\n",
        "# N = 5\n",
        "\n",
        "# create_dict(tuple1, list1, N)\n",
        "print(create_dict(tuple1, list1, N))"
      ],
      "metadata": {
        "colab": {
          "base_uri": "https://localhost:8080/"
        },
        "id": "89ywZxoZUIlm",
        "outputId": "fce81b05-8391-41dc-9ffa-f926f0508af2"
      },
      "execution_count": null,
      "outputs": [
        {
          "output_type": "stream",
          "name": "stdout",
          "text": [
            "{'x': 81, 'b': 98, 's': 32, 'a': 9, 'g': 57, 'u': 75, 'h': 10, 'd': 85, 'key_8': 41, 'key_9': 9}\n"
          ]
        }
      ]
    }
  ]
}