{
  "nbformat": 4,
  "nbformat_minor": 0,
  "metadata": {
    "colab": {
      "provenance": [],
      "authorship_tag": "ABX9TyOZWSi9W3ErXVHER4AlMlBt",
      "include_colab_link": true
    },
    "kernelspec": {
      "name": "python3",
      "display_name": "Python 3"
    },
    "language_info": {
      "name": "python"
    }
  },
  "cells": [
    {
      "cell_type": "markdown",
      "metadata": {
        "id": "view-in-github",
        "colab_type": "text"
      },
      "source": [
        "<a href=\"https://colab.research.google.com/github/Sinrez/PythonProjects/blob/main/itmo_python.ipynb\" target=\"_parent\"><img src=\"https://colab.research.google.com/assets/colab-badge.svg\" alt=\"Open In Colab\"/></a>"
      ]
    },
    {
      "cell_type": "markdown",
      "source": [
        "При помощи Python опишите функцию grade(score), которая на вход принимает набранное студентом количество баллов (целое число от  до  включительно), и возвращает оценку в виде текстовой строки в соответствии со следующей таблицей"
      ],
      "metadata": {
        "id": "Xza7mNcXmnUj"
      }
    },
    {
      "cell_type": "code",
      "execution_count": null,
      "metadata": {
        "id": "3qg0JT2smjSC"
      },
      "outputs": [],
      "source": [
        "def grade(score):\n",
        "  if 0 <= score < 60:\n",
        "    return 'неудовлетворительно'\n",
        "  elif 60 <= score <= 74:\n",
        "    return 'удовлетворительно'\n",
        "  elif 74 < score <= 90:\n",
        "    return 'хорошо'\n",
        "  elif 90 < score <= 1000:\n",
        "    return 'отлично'\n"
      ]
    },
    {
      "cell_type": "markdown",
      "source": [
        "При помощи Python опишите функцию solve, которая позволяет решать уравнение\n",
        "Входными параметрами для функции служат числа , возвращать функция должна значение . Если уравнение имеет бесконечное множество решений, то функция должна возвращать текстовую строку Any (с большой буквы, без дополнительных символов). Если уравнение решений не имеет, то функция должна возвращать текстовую строку Error (с большой буквы, без дополнительных символов)."
      ],
      "metadata": {
        "id": "js1IL1s0oRyg"
      }
    },
    {
      "cell_type": "code",
      "source": [
        "def solve(a, b): \n",
        "    if (a == 0) and (b == 0): \n",
        "        return \"Any\" \n",
        "    elif a == 0 and b != 0: \n",
        "        return \"Error\" \n",
        "    else: \n",
        "        x = b/a \n",
        "        return x"
      ],
      "metadata": {
        "id": "yyrJ2qgQoS11"
      },
      "execution_count": null,
      "outputs": []
    },
    {
      "cell_type": "code",
      "source": [
        "tuple1 = tuple('Некий кортеж на языке Python определен следующим образом') \n",
        "tuple1[32]"
      ],
      "metadata": {
        "colab": {
          "base_uri": "https://localhost:8080/",
          "height": 35
        },
        "id": "3v1ew9VbqHsB",
        "outputId": "d4a89223-570a-4cd4-c9e7-12f6f1f6f389"
      },
      "execution_count": 1,
      "outputs": [
        {
          "output_type": "execute_result",
          "data": {
            "text/plain": [
              "'е'"
            ],
            "application/vnd.google.colaboratory.intrinsic+json": {
              "type": "string"
            }
          },
          "metadata": {},
          "execution_count": 1
        }
      ]
    },
    {
      "cell_type": "markdown",
      "source": [
        "При помощи Python реализуйте функцию create_dict(tuple1, list1, N), которая создает словарь размера N с ключами из кортежа tuple1 и значениями из списка list1. Если размерность кортежа tuple1 меньше N, то ключ должен формироваться, как key_i, где i - индекс словаря, i. Если размерность списка list1 меньше N, то значение равно i.\n",
        "\n",
        "Например, если tuple1 = ('яблоки','груши','сливы'), list1 = [103.0, 154.9, 95.0, 215.5] и N = 5, то результатом должен быть следующий словарь {'яблоки': 103.0, 'груши': 154.9, 'сливы': 95.0, 'key_3': 215.5, 'key_4': 4}\n",
        "\n",
        "Введите результат выполнения функции при условии, что tuple1 = ['x', 'b', 's', 'a', 'g', 'u', 'h', 'd'], list1 = [81, 98, 32, 9, 57, 75, 10, 85, 41] и N = 10"
      ],
      "metadata": {
        "id": "WtBR3yDRqV9Z"
      }
    },
    {
      "cell_type": "code",
      "source": [],
      "metadata": {
        "id": "VhwB-qj_qXHo"
      },
      "execution_count": null,
      "outputs": []
    },
    {
      "cell_type": "markdown",
      "source": [
        "Есть одномерный массив a = np.array([29, 47, 9, 34, 26, 27, 16, 41, 14, 4, 38, 25, 24, 18, 45, 11]), который надо привести к форме (2, -1).В качестве ответа надо ввести сумму максимальных по столбцам элементов. \n",
        "В качестве ответа надо ввести сумму максимальных по столбцам элементов. Например, если массив\n",
        "a = np.array([35, 3, 79, 75, 28, 23, 12, 13, 53]),   \n",
        "надо привести к форме (3, 3), то результат 75 + 28 + 79 = 182"
      ],
      "metadata": {
        "id": "0qVrLtUXoCqk"
      }
    },
    {
      "cell_type": "code",
      "source": [
        "import numpy as np\n",
        "a = np.array([29, 47, 9, 34, 26, 27, 16, 41, 14, 4, 38, 25, 24, 18, 45, 11]).reshape(2, -1)\n",
        "a\n",
        "res_sum = np.sum(a.max(axis=0))\n",
        "res_sum"
      ],
      "metadata": {
        "colab": {
          "base_uri": "https://localhost:8080/"
        },
        "id": "E3WBnP8Jn7xC",
        "outputId": "055e1fba-73b4-4798-8535-ec28a0cb5f38"
      },
      "execution_count": 3,
      "outputs": [
        {
          "output_type": "execute_result",
          "data": {
            "text/plain": [
              "287"
            ]
          },
          "metadata": {},
          "execution_count": 3
        }
      ]
    }
  ]
}