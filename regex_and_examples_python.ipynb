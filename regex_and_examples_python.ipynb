{
  "nbformat": 4,
  "nbformat_minor": 0,
  "metadata": {
    "colab": {
      "provenance": [],
      "authorship_tag": "ABX9TyMrbO61LwkNr6bL1meh04u9",
      "include_colab_link": true
    },
    "kernelspec": {
      "name": "python3",
      "display_name": "Python 3"
    },
    "language_info": {
      "name": "python"
    }
  },
  "cells": [
    {
      "cell_type": "markdown",
      "metadata": {
        "id": "view-in-github",
        "colab_type": "text"
      },
      "source": [
        "<a href=\"https://colab.research.google.com/github/Sinrez/PythonProjects/blob/main/regex_and_examples_python.ipynb\" target=\"_parent\"><img src=\"https://colab.research.google.com/assets/colab-badge.svg\" alt=\"Open In Colab\"/></a>"
      ]
    },
    {
      "cell_type": "code",
      "execution_count": null,
      "metadata": {
        "colab": {
          "base_uri": "https://localhost:8080/",
          "height": 35
        },
        "id": "99R3EnM9Arl5",
        "outputId": "7c74b3e3-9a2f-49c3-8e73-0a2fac8f7d29"
      },
      "outputs": [
        {
          "output_type": "execute_result",
          "data": {
            "text/plain": [
              "'C:\\\\file.txt'"
            ],
            "application/vnd.google.colaboratory.intrinsic+json": {
              "type": "string"
            }
          },
          "metadata": {},
          "execution_count": 1
        }
      ],
      "source": [
        "common_string = 'C:\\file.txt' # Обычная строка\n",
        "raw_string = r'C:\\file.txt' # Сырая строка\n",
        "raw_string"
      ]
    },
    {
      "cell_type": "code",
      "source": [
        "# Используем 2 префикса одновременно:\n",
        "raw_f_string = rf'C:\\file.txt'\n",
        "f_raw_string = fr'C:\\file.txt'\n",
        "print(raw_f_string)\n",
        "print(f_raw_string )"
      ],
      "metadata": {
        "colab": {
          "base_uri": "https://localhost:8080/"
        },
        "id": "UXsGG6CmA6Mt",
        "outputId": "29dd02cf-7808-45ca-80b1-59fdf74c9ce1"
      },
      "execution_count": null,
      "outputs": [
        {
          "output_type": "stream",
          "name": "stdout",
          "text": [
            "C:\\file.txt\n",
            "C:\\file.txt\n"
          ]
        }
      ]
    },
    {
      "cell_type": "code",
      "source": [
        "print(rf\"\\\\n\")\n",
        "\n",
        "print(\"\\\\\\\\n\")\n",
        "\n",
        "print(r\"\\\\n\")\n",
        "\n",
        "print(fr\"\\\\n\")\n",
        "\n",
        "print(\"\\\\n\")\n",
        "\n",
        "print(f\"\\\\n\")\n",
        "\n",
        "print(\"\\\\\\n\")\n",
        "\n",
        "print(\"r\\\\n\")"
      ],
      "metadata": {
        "colab": {
          "base_uri": "https://localhost:8080/"
        },
        "id": "rYUuixD_BNzN",
        "outputId": "d5da2585-a3ec-483f-934c-9232f11cbb9b"
      },
      "execution_count": null,
      "outputs": [
        {
          "output_type": "stream",
          "name": "stdout",
          "text": [
            "\\\\n\n",
            "\\\\n\n",
            "\\\\n\n",
            "\\\\n\n",
            "\\n\n",
            "\\n\n",
            "\\\n",
            "\n",
            "r\\n\n"
          ]
        }
      ]
    },
    {
      "cell_type": "code",
      "source": [
        "from string import printable\n",
        "\n",
        "print(printable)"
      ],
      "metadata": {
        "id": "0qPY4QyMOJGG",
        "outputId": "fa12d848-4840-48eb-9c8c-7476882c032b",
        "colab": {
          "base_uri": "https://localhost:8080/"
        }
      },
      "execution_count": null,
      "outputs": [
        {
          "output_type": "stream",
          "name": "stdout",
          "text": [
            "0123456789abcdefghijklmnopqrstuvwxyzABCDEFGHIJKLMNOPQRSTUVWXYZ!\"#$%&'()*+,-./:;<=>?@[\\]^_`{|}~ \t\n",
            "\r\u000b\f\n"
          ]
        }
      ]
    },
    {
      "cell_type": "code",
      "source": [
        "print(len([] + [[[[]]]]))"
      ],
      "metadata": {
        "id": "ACLK5tz6OMl_",
        "colab": {
          "base_uri": "https://localhost:8080/"
        },
        "outputId": "b1d84a06-01cc-41f6-f889-cb1f33fd9e1c"
      },
      "execution_count": null,
      "outputs": [
        {
          "output_type": "stream",
          "name": "stdout",
          "text": [
            "1\n"
          ]
        }
      ]
    },
    {
      "cell_type": "code",
      "source": [
        "print(len([] + [[[]], []] + [[[[]]]] + [[[], [], []], [[], [[]]]]))"
      ],
      "metadata": {
        "colab": {
          "base_uri": "https://localhost:8080/"
        },
        "id": "sjz78z8w4Ovc",
        "outputId": "4d2f6296-8da8-4207-8531-4aa2b391df51"
      },
      "execution_count": null,
      "outputs": [
        {
          "output_type": "stream",
          "name": "stdout",
          "text": [
            "5\n"
          ]
        }
      ]
    },
    {
      "cell_type": "code",
      "source": [
        "print('\\\\\\\\')"
      ],
      "metadata": {
        "colab": {
          "base_uri": "https://localhost:8080/"
        },
        "id": "jurXtrDd8SwB",
        "outputId": "9300574f-59af-4982-fa49-6836738a7b41"
      },
      "execution_count": null,
      "outputs": [
        {
          "output_type": "stream",
          "name": "stdout",
          "text": [
            "\\\\\n"
          ]
        }
      ]
    },
    {
      "cell_type": "code",
      "source": [
        "s = \"abracadabra\"\n",
        "print(s[3::-1])"
      ],
      "metadata": {
        "colab": {
          "base_uri": "https://localhost:8080/"
        },
        "id": "MKpvslVc6V4Q",
        "outputId": "ad5d4e95-dcdc-4b2b-8a10-e218c4603e4f"
      },
      "execution_count": null,
      "outputs": [
        {
          "output_type": "stream",
          "name": "stdout",
          "text": [
            "arba\n"
          ]
        }
      ]
    },
    {
      "cell_type": "code",
      "source": [
        "s = input()\n",
        "for i in range(len(s)):\n",
        "    if i % 3 == 0:\n",
        "        print(s[i], end='')\n",
        "print(s[::-1])\n",
        "print(s[5:-5])\n",
        "print(s[4::2])\n"
      ],
      "metadata": {
        "id": "rUc5Hw08eZsl"
      },
      "execution_count": null,
      "outputs": []
    },
    {
      "cell_type": "code",
      "source": [
        "# put your python code here\n",
        "password = input()\n",
        "\n",
        "# Проверка на длину и содержание заглавных и строчных букв\n",
        "if len(password) >= 8 and any(c.isupper() for c in password) and any(c.islower() for c in password):\n",
        "    print(\"YES\")\n",
        "else:\n",
        "    print(\"NO\")\n"
      ],
      "metadata": {
        "id": "GbKsOVhteakC"
      },
      "execution_count": null,
      "outputs": []
    },
    {
      "cell_type": "code",
      "source": [
        "s = \"hello WORLD \"\n",
        "print(s[len(s) // 2:] + s[:len(s) // 2])"
      ],
      "metadata": {
        "colab": {
          "base_uri": "https://localhost:8080/"
        },
        "id": "b6cGQHW0gM2b",
        "outputId": "6c869a3f-a596-455c-e4cc-fdd6735b65ca"
      },
      "execution_count": null,
      "outputs": [
        {
          "output_type": "stream",
          "name": "stdout",
          "text": [
            "WORLD hello \n"
          ]
        }
      ]
    },
    {
      "cell_type": "code",
      "source": [
        "# n, k = int(input()),int(input())\n",
        "n,k = 3,100\n",
        "# lst_str = input().lower().split()\n",
        "lst_str = 'Придумайте какую-нибудь кРаКаЗяБрУ для кУрСА по алгебре. Не забудьте использовать интерполяционый многочлен в решении.'.lower().replace('.','').split()\n",
        "print(lst_str)\n",
        "# penalty = []\n",
        "penalty = ['многочлен','краказябр','курс']\n",
        "count = 0\n",
        "# for _ in range(n):\n",
        "#     penalty.append(input().lower())\n",
        "for p in penalty:\n",
        "    for l in lst_str:\n",
        "      if l.startswith(p):\n",
        "        count += k\n",
        "print(count)"
      ],
      "metadata": {
        "colab": {
          "base_uri": "https://localhost:8080/"
        },
        "id": "4JfzfWCZFngK",
        "outputId": "01361e29-f9ee-41a5-cb54-5e1264e9f91b"
      },
      "execution_count": 4,
      "outputs": [
        {
          "output_type": "stream",
          "name": "stdout",
          "text": [
            "['придумайте', 'какую-нибудь', 'краказябру', 'для', 'курса', 'по', 'алгебре', 'не', 'забудьте', 'использовать', 'интерполяционый', 'многочлен', 'в', 'решении']\n",
            "300\n"
          ]
        }
      ]
    },
    {
      "cell_type": "code",
      "source": [
        "n = int(input())\n",
        "k = int(input())\n",
        "s = input().lower()\n",
        "amount = 0\n",
        "for i in range(n):\n",
        "    word = input()\n",
        "    amount += s.count(word)\n",
        "print(amount * k)"
      ],
      "metadata": {
        "id": "vzXCVPruHzDV"
      },
      "execution_count": null,
      "outputs": []
    },
    {
      "cell_type": "code",
      "source": [
        "print(*[i if i not in 'аоуэыиеёяю' else 'у' for i in input()], sep='')"
      ],
      "metadata": {
        "id": "xgrnOi6Pf2MG"
      },
      "execution_count": null,
      "outputs": []
    },
    {
      "cell_type": "code",
      "source": [
        "l = [[[1, 2, 3]], [[4, 5, 6], [39, 40, 41]], [[7, 8, 9], [10, 11, 12]]]\n",
        "\n",
        "print(l[1][1][0])\n"
      ],
      "metadata": {
        "colab": {
          "base_uri": "https://localhost:8080/"
        },
        "id": "BcYKFKGAf2tq",
        "outputId": "085efea0-2e75-4cf6-ec54-af234322ab93"
      },
      "execution_count": 1,
      "outputs": [
        {
          "output_type": "stream",
          "name": "stdout",
          "text": [
            "39\n"
          ]
        }
      ]
    }
  ]
}