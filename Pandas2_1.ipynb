{
  "cells": [
    {
      "cell_type": "markdown",
      "metadata": {
        "id": "view-in-github",
        "colab_type": "text"
      },
      "source": [
        "<a href=\"https://colab.research.google.com/github/Sinrez/PythonProjects/blob/main/Pandas2_1.ipynb\" target=\"_parent\"><img src=\"https://colab.research.google.com/assets/colab-badge.svg\" alt=\"Open In Colab\"/></a>"
      ]
    },
    {
      "cell_type": "markdown",
      "source": [
        "---\n",
        "\n",
        "# Основные структуры в Pandas"
      ],
      "metadata": {
        "collapsed": false,
        "id": "NCrn1fQ7Pv_e"
      }
    },
    {
      "cell_type": "markdown",
      "source": [
        "---\n",
        "\n",
        "## 1 | Series (Серии)"
      ],
      "metadata": {
        "collapsed": false,
        "id": "GVozizYaPv_g"
      }
    },
    {
      "cell_type": "markdown",
      "source": [
        "---\n",
        "\n",
        "Импортируем библиотеки $\\mathsf{numpy}$, $\\mathsf{pandas}$, а также класс $\\mathsf{Series}$:"
      ],
      "metadata": {
        "collapsed": false,
        "id": "qfpm4lfgPv_g"
      }
    },
    {
      "cell_type": "code",
      "execution_count": 1,
      "outputs": [],
      "source": [
        "import pandas as pd\n",
        "import numpy as np\n",
        "from pandas import Series, DataFrame"
      ],
      "metadata": {
        "id": "SuEVf5ZePv_h"
      }
    },
    {
      "cell_type": "markdown",
      "source": [
        "---\n",
        "\n",
        "### 1.1 | Способы инициализации"
      ],
      "metadata": {
        "collapsed": false,
        "id": "qrOrRDq7Pv_i"
      }
    },
    {
      "cell_type": "markdown",
      "source": [
        "---\n",
        "\n",
        "С помощью списков:"
      ],
      "metadata": {
        "collapsed": false,
        "id": "FaSAqjBNPv_i"
      }
    },
    {
      "cell_type": "code",
      "execution_count": 2,
      "outputs": [
        {
          "output_type": "execute_result",
          "data": {
            "text/plain": [
              "0    1\n",
              "1    3\n",
              "2    5\n",
              "dtype: int64"
            ]
          },
          "metadata": {},
          "execution_count": 2
        }
      ],
      "source": [
        "arr = [1, 3, 5]\n",
        "Series(arr)"
      ],
      "metadata": {
        "colab": {
          "base_uri": "https://localhost:8080/"
        },
        "id": "MJY_SIzXPv_i",
        "outputId": "23998ca0-7a85-4616-e1d2-b8cdb03ae004"
      }
    },
    {
      "cell_type": "markdown",
      "source": [
        "Индексы:"
      ],
      "metadata": {
        "collapsed": false,
        "id": "gASfQZqXPv_j"
      }
    },
    {
      "cell_type": "code",
      "execution_count": 3,
      "outputs": [
        {
          "output_type": "execute_result",
          "data": {
            "text/plain": [
              "RangeIndex(start=0, stop=3, step=1)"
            ]
          },
          "metadata": {},
          "execution_count": 3
        }
      ],
      "source": [
        "Series(arr).index"
      ],
      "metadata": {
        "colab": {
          "base_uri": "https://localhost:8080/"
        },
        "id": "L_70qQZ-Pv_j",
        "outputId": "5d6d5779-7aa1-462b-cc9b-3290b1a12b4d"
      }
    },
    {
      "cell_type": "markdown",
      "source": [
        "---\n",
        "\n",
        "С помощью словарей:"
      ],
      "metadata": {
        "collapsed": false,
        "id": "qiscuNYrPv_j"
      }
    },
    {
      "cell_type": "code",
      "execution_count": 4,
      "outputs": [
        {
          "output_type": "execute_result",
          "data": {
            "text/plain": [
              "a    3\n",
              "f    5\n",
              "e    9\n",
              "dtype: int64"
            ]
          },
          "metadata": {},
          "execution_count": 4
        }
      ],
      "source": [
        "d = {'a': 3, 'f': 5, 'e': 9}\n",
        "Series(d)"
      ],
      "metadata": {
        "colab": {
          "base_uri": "https://localhost:8080/"
        },
        "id": "Tr8sxEENPv_k",
        "outputId": "8d253c2c-13fd-4e7e-be2f-941ac6bc2e8e"
      }
    },
    {
      "cell_type": "markdown",
      "source": [
        "---\n",
        "\n",
        "Задаем явно с помощью списков значения, а также их метки:"
      ],
      "metadata": {
        "collapsed": false,
        "id": "JYm5-goQPv_k"
      }
    },
    {
      "cell_type": "code",
      "execution_count": null,
      "outputs": [
        {
          "output_type": "execute_result",
          "data": {
            "text/plain": [
              "a    1\n",
              "c    3\n",
              "t    5\n",
              "h    7\n",
              "dtype: int64"
            ]
          },
          "metadata": {},
          "execution_count": 5
        }
      ],
      "source": [
        "Series([1, 3, 5, 7], index=['a', 'c', 't', 'h'])"
      ],
      "metadata": {
        "colab": {
          "base_uri": "https://localhost:8080/"
        },
        "id": "32fFETvuPv_k",
        "outputId": "6dae6b3a-fd12-4267-cfeb-46d6e1ba5fe2"
      }
    },
    {
      "cell_type": "markdown",
      "source": [
        "---\n",
        "\n",
        "При задании серии с помощью словаря можно явно указывать, элементы по каким меткам считывать:"
      ],
      "metadata": {
        "collapsed": false,
        "id": "CN5tr2kBPv_k"
      }
    },
    {
      "cell_type": "code",
      "execution_count": null,
      "outputs": [
        {
          "output_type": "execute_result",
          "data": {
            "text/plain": [
              "a    3.0\n",
              "e    9.0\n",
              "g    NaN\n",
              "p    NaN\n",
              "dtype: float64"
            ]
          },
          "metadata": {},
          "execution_count": 6
        }
      ],
      "source": [
        "s = Series(d, index=['a', 'e', 'g', 'p'])\n",
        "s"
      ],
      "metadata": {
        "colab": {
          "base_uri": "https://localhost:8080/"
        },
        "id": "0lneCC6UPv_k",
        "outputId": "c97ce230-5e51-4900-e60b-1574e54a4fff"
      }
    },
    {
      "cell_type": "markdown",
      "source": [
        "Значения, которые были не найдены по указанным меткам заменяются на специальное значение $\\mathsf{NaN}$, а все остальные непропущенные элементы преобразуются к типу $\\mathsf{float64}$."
      ],
      "metadata": {
        "collapsed": false,
        "id": "2TvEIpqGPv_l"
      }
    },
    {
      "cell_type": "markdown",
      "source": [
        "\n",
        "---\n",
        "\n",
        "Тип данных можно получить, обратившись к полю $\\mathsf{dtype}$:"
      ],
      "metadata": {
        "collapsed": false,
        "id": "igl2TmjiPv_l"
      }
    },
    {
      "cell_type": "code",
      "execution_count": null,
      "outputs": [
        {
          "output_type": "execute_result",
          "data": {
            "text/plain": [
              "dtype('float64')"
            ]
          },
          "metadata": {},
          "execution_count": 7
        }
      ],
      "source": [
        "s.dtype"
      ],
      "metadata": {
        "colab": {
          "base_uri": "https://localhost:8080/"
        },
        "id": "4hmc7kynPv_l",
        "outputId": "34ea2ae7-0335-42d3-9d79-bb2c4fc9c055"
      }
    },
    {
      "cell_type": "markdown",
      "source": [
        "Можно явно указать, к какому типу преобразовывать численные значения:"
      ],
      "metadata": {
        "collapsed": false,
        "id": "cxts-KyfPv_l"
      }
    },
    {
      "cell_type": "code",
      "execution_count": null,
      "outputs": [
        {
          "output_type": "execute_result",
          "data": {
            "text/plain": [
              "a    3.0\n",
              "e    9.0\n",
              "dtype: float64"
            ]
          },
          "metadata": {},
          "execution_count": 8
        }
      ],
      "source": [
        "s_float = Series(d, index=['a', 'e'], dtype=np.float64)\n",
        "s_float"
      ],
      "metadata": {
        "colab": {
          "base_uri": "https://localhost:8080/"
        },
        "id": "HlT5khoCPv_m",
        "outputId": "723b6821-13d0-413a-c305-f43bd4683d04"
      }
    },
    {
      "cell_type": "code",
      "execution_count": null,
      "outputs": [
        {
          "output_type": "execute_result",
          "data": {
            "text/plain": [
              "a    3\n",
              "e    9\n",
              "dtype: int64"
            ]
          },
          "metadata": {},
          "execution_count": 9
        }
      ],
      "source": [
        "s_int = Series(d, index=['a', 'e'], dtype=np.int64)\n",
        "s_int"
      ],
      "metadata": {
        "colab": {
          "base_uri": "https://localhost:8080/"
        },
        "id": "ZT_AeAV4Pv_m",
        "outputId": "f4543d7e-3929-4623-b6c7-a4afc4cfc9d9"
      }
    },
    {
      "cell_type": "markdown",
      "source": [
        "---\n",
        "\n",
        "### 1.2 | Индексация серий"
      ],
      "metadata": {
        "collapsed": false,
        "id": "Byrvp9prPv_m"
      }
    },
    {
      "cell_type": "markdown",
      "source": [
        "---\n",
        "\n",
        "Как мы уже сказали, серии — аналог словаря, поэтому к элементам можно обращаться по ключу:"
      ],
      "metadata": {
        "collapsed": false,
        "id": "UxHYU0glPv_m"
      }
    },
    {
      "cell_type": "code",
      "execution_count": null,
      "outputs": [
        {
          "output_type": "execute_result",
          "data": {
            "text/plain": [
              "3"
            ]
          },
          "metadata": {},
          "execution_count": 10
        }
      ],
      "source": [
        "arr = [1, 3, 5, 7]\n",
        "s_arr = Series(arr)\n",
        "s_arr[1]"
      ],
      "metadata": {
        "colab": {
          "base_uri": "https://localhost:8080/"
        },
        "id": "IvWV0RK8Pv_m",
        "outputId": "5fa09e3c-1d19-4756-b5e7-886bbc20f327"
      }
    },
    {
      "cell_type": "code",
      "execution_count": null,
      "outputs": [
        {
          "output_type": "execute_result",
          "data": {
            "text/plain": [
              "5"
            ]
          },
          "metadata": {},
          "execution_count": 11
        }
      ],
      "source": [
        "d = {'a': 3, 'f': 5, 'e': 9}\n",
        "s_dict = Series(d)\n",
        "s_dict['f']"
      ],
      "metadata": {
        "colab": {
          "base_uri": "https://localhost:8080/"
        },
        "id": "rKDs3wB1Pv_m",
        "outputId": "04a79fc3-82c5-48ec-c27f-0d2da78c83fb"
      }
    },
    {
      "cell_type": "markdown",
      "source": [
        "Обращаться можно сразу по нескольким индексам:"
      ],
      "metadata": {
        "collapsed": false,
        "id": "7mGl09h4Pv_n"
      }
    },
    {
      "cell_type": "code",
      "execution_count": null,
      "outputs": [
        {
          "output_type": "execute_result",
          "data": {
            "text/plain": [
              "0    1\n",
              "2    5\n",
              "3    7\n",
              "dtype: int64"
            ]
          },
          "metadata": {},
          "execution_count": 12
        }
      ],
      "source": [
        "s_arr[[0, 2, 3]]"
      ],
      "metadata": {
        "colab": {
          "base_uri": "https://localhost:8080/"
        },
        "id": "_CZuvONKPv_n",
        "outputId": "197d3b9b-5022-4bf4-ad00-a4b7063e52be"
      }
    },
    {
      "cell_type": "code",
      "execution_count": null,
      "outputs": [
        {
          "output_type": "execute_result",
          "data": {
            "text/plain": [
              "a    3\n",
              "e    9\n",
              "dtype: int64"
            ]
          },
          "metadata": {},
          "execution_count": 13
        }
      ],
      "source": [
        "s_dict[['a', 'e']]"
      ],
      "metadata": {
        "colab": {
          "base_uri": "https://localhost:8080/"
        },
        "id": "19lSObBnPv_n",
        "outputId": "5c88aa03-06ff-4844-cad9-b1f4c96c5818"
      }
    },
    {
      "cell_type": "markdown",
      "source": [
        "Или даже брать элементы по срезам, но не по ключам, а по индексам:"
      ],
      "metadata": {
        "collapsed": false,
        "id": "Que3q-WLPv_n"
      }
    },
    {
      "cell_type": "code",
      "execution_count": null,
      "outputs": [
        {
          "output_type": "execute_result",
          "data": {
            "text/plain": [
              "0    1\n",
              "1    3\n",
              "2    5\n",
              "dtype: int64"
            ]
          },
          "metadata": {},
          "execution_count": 14
        }
      ],
      "source": [
        "s_arr[0:3]"
      ],
      "metadata": {
        "colab": {
          "base_uri": "https://localhost:8080/"
        },
        "id": "E9Pba_fQPv_n",
        "outputId": "2c866aa0-1cb0-487b-ee98-17ea10ee7c48"
      }
    },
    {
      "cell_type": "code",
      "execution_count": null,
      "outputs": [
        {
          "output_type": "execute_result",
          "data": {
            "text/plain": [
              "f    5\n",
              "e    9\n",
              "dtype: int64"
            ]
          },
          "metadata": {},
          "execution_count": 15
        }
      ],
      "source": [
        "s_dict[1:3]"
      ],
      "metadata": {
        "colab": {
          "base_uri": "https://localhost:8080/"
        },
        "id": "U0Gq9ni0Pv_n",
        "outputId": "41715563-25e2-4a82-c53a-9480410a38d6"
      }
    },
    {
      "cell_type": "markdown",
      "source": [
        "---\n",
        "\n",
        "Для взятия элемента по ассоциативной метке и по индексу существуют методы $\\mathsf{loc}$ и $\\mathsf{iloc}$ соответственно:"
      ],
      "metadata": {
        "collapsed": false,
        "id": "7LXttUt8Pv_o"
      }
    },
    {
      "cell_type": "code",
      "execution_count": null,
      "outputs": [
        {
          "output_type": "execute_result",
          "data": {
            "text/plain": [
              "0    1\n",
              "1    3\n",
              "2    5\n",
              "3    7\n",
              "dtype: int64"
            ]
          },
          "metadata": {},
          "execution_count": 16
        }
      ],
      "source": [
        "s_arr"
      ],
      "metadata": {
        "colab": {
          "base_uri": "https://localhost:8080/"
        },
        "id": "qo2XFnVyPv_o",
        "outputId": "90457b85-2766-48f5-a084-f4c5d12fd37e"
      }
    },
    {
      "cell_type": "code",
      "execution_count": null,
      "outputs": [
        {
          "output_type": "execute_result",
          "data": {
            "text/plain": [
              "0    1\n",
              "2    5\n",
              "dtype: int64"
            ]
          },
          "metadata": {},
          "execution_count": 17
        }
      ],
      "source": [
        "s_arr.loc[[0, 2]]  # Аналог s_arr[[0, 2]]"
      ],
      "metadata": {
        "colab": {
          "base_uri": "https://localhost:8080/"
        },
        "id": "cFwuCfm_Pv_o",
        "outputId": "98a5e7aa-04de-42b1-daf5-55ce6b7346dc"
      }
    },
    {
      "cell_type": "code",
      "execution_count": null,
      "outputs": [
        {
          "output_type": "execute_result",
          "data": {
            "text/plain": [
              "0    1\n",
              "2    5\n",
              "dtype: int64"
            ]
          },
          "metadata": {},
          "execution_count": 18
        }
      ],
      "source": [
        "s_arr.iloc[[0, 2]]"
      ],
      "metadata": {
        "colab": {
          "base_uri": "https://localhost:8080/"
        },
        "id": "bbNZGtuJPv_p",
        "outputId": "d81b44fc-1f27-4c0f-d9df-c5bd2b20dece"
      }
    },
    {
      "cell_type": "code",
      "execution_count": null,
      "outputs": [
        {
          "output_type": "execute_result",
          "data": {
            "text/plain": [
              "a    3\n",
              "f    5\n",
              "e    9\n",
              "dtype: int64"
            ]
          },
          "metadata": {},
          "execution_count": 19
        }
      ],
      "source": [
        "s_dict"
      ],
      "metadata": {
        "colab": {
          "base_uri": "https://localhost:8080/"
        },
        "id": "_PUnw6a1Pv_p",
        "outputId": "d17691b4-4898-428e-872a-fe166b3027c6"
      }
    },
    {
      "cell_type": "code",
      "execution_count": null,
      "outputs": [
        {
          "output_type": "execute_result",
          "data": {
            "text/plain": [
              "a    3\n",
              "e    9\n",
              "dtype: int64"
            ]
          },
          "metadata": {},
          "execution_count": 20
        }
      ],
      "source": [
        "s_dict.loc[['a', 'e']]"
      ],
      "metadata": {
        "colab": {
          "base_uri": "https://localhost:8080/"
        },
        "id": "E_G449EOPv_q",
        "outputId": "579f65f1-2096-41c4-9303-f32908573ada"
      }
    },
    {
      "cell_type": "code",
      "execution_count": null,
      "outputs": [
        {
          "output_type": "execute_result",
          "data": {
            "text/plain": [
              "a    3\n",
              "e    9\n",
              "dtype: int64"
            ]
          },
          "metadata": {},
          "execution_count": 21
        }
      ],
      "source": [
        "s_dict.iloc[[0, 2]]"
      ],
      "metadata": {
        "colab": {
          "base_uri": "https://localhost:8080/"
        },
        "id": "Ku6QzoaRPv_q",
        "outputId": "d84df9b5-56ca-4825-ac7e-a0b187bbf979"
      }
    },
    {
      "cell_type": "markdown",
      "source": [
        "---\n",
        "\n",
        "Обращаясь к элементу, можно не только получить его значение, но и поменять его:"
      ],
      "metadata": {
        "collapsed": false,
        "id": "-w4fzWc3Pv_q"
      }
    },
    {
      "cell_type": "code",
      "execution_count": null,
      "outputs": [
        {
          "output_type": "execute_result",
          "data": {
            "text/plain": [
              "0    1\n",
              "1    3\n",
              "2    5\n",
              "3    7\n",
              "dtype: int64"
            ]
          },
          "metadata": {},
          "execution_count": 22
        }
      ],
      "source": [
        "arr = [1, 3, 5, 7]\n",
        "s_arr = Series(arr)\n",
        "s_arr"
      ],
      "metadata": {
        "colab": {
          "base_uri": "https://localhost:8080/"
        },
        "id": "X8nS4t7APv_q",
        "outputId": "1f4a23e2-3941-4b7d-9aeb-9bbfac90e0ae"
      }
    },
    {
      "cell_type": "code",
      "execution_count": null,
      "outputs": [
        {
          "output_type": "execute_result",
          "data": {
            "text/plain": [
              "0     1\n",
              "1    11\n",
              "2     5\n",
              "3     7\n",
              "dtype: int64"
            ]
          },
          "metadata": {},
          "execution_count": 23
        }
      ],
      "source": [
        "s_arr[1] = 11\n",
        "s_arr"
      ],
      "metadata": {
        "colab": {
          "base_uri": "https://localhost:8080/"
        },
        "id": "bO1CfGzkPv_q",
        "outputId": "223df498-af27-4556-ffd6-6be1119acd40"
      }
    },
    {
      "cell_type": "code",
      "execution_count": null,
      "outputs": [
        {
          "output_type": "execute_result",
          "data": {
            "text/plain": [
              "a    3\n",
              "f    5\n",
              "e    9\n",
              "dtype: int64"
            ]
          },
          "metadata": {},
          "execution_count": 24
        }
      ],
      "source": [
        "d = {'a': 3, 'f': 5, 'e': 9}\n",
        "s_dict = Series(d)\n",
        "s_dict"
      ],
      "metadata": {
        "colab": {
          "base_uri": "https://localhost:8080/"
        },
        "id": "Cfw2rhOsPv_r",
        "outputId": "650907df-4be4-4252-a849-0549ede7a4e2"
      }
    },
    {
      "cell_type": "code",
      "execution_count": null,
      "outputs": [
        {
          "output_type": "execute_result",
          "data": {
            "text/plain": [
              "a     3\n",
              "f    14\n",
              "e     9\n",
              "dtype: int64"
            ]
          },
          "metadata": {},
          "execution_count": 25
        }
      ],
      "source": [
        "s_dict['f'] = 14\n",
        "s_dict"
      ],
      "metadata": {
        "colab": {
          "base_uri": "https://localhost:8080/"
        },
        "id": "VhjRshP_Pv_r",
        "outputId": "e6eadb03-a9e5-4fd1-c15e-6cf4e8da7073"
      }
    },
    {
      "cell_type": "markdown",
      "source": [
        "Можно менять значения сразу у нескольких элементов, обращаясь по множественному индексу:"
      ],
      "metadata": {
        "collapsed": false,
        "id": "blqNn8X0Pv_r"
      }
    },
    {
      "cell_type": "code",
      "execution_count": null,
      "outputs": [
        {
          "output_type": "execute_result",
          "data": {
            "text/plain": [
              "0     1\n",
              "1    11\n",
              "2     5\n",
              "3     7\n",
              "dtype: int64"
            ]
          },
          "metadata": {},
          "execution_count": 26
        }
      ],
      "source": [
        "s_arr"
      ],
      "metadata": {
        "colab": {
          "base_uri": "https://localhost:8080/"
        },
        "id": "Cfv63KISPv_s",
        "outputId": "0f527895-4901-46b7-d59b-bae3fa26e3d1"
      }
    },
    {
      "cell_type": "code",
      "execution_count": null,
      "outputs": [
        {
          "output_type": "execute_result",
          "data": {
            "text/plain": [
              "0     1\n",
              "1    15\n",
              "2    15\n",
              "3    15\n",
              "dtype: int64"
            ]
          },
          "metadata": {},
          "execution_count": 27
        }
      ],
      "source": [
        "s_arr[[1, 2, 3]] = 15\n",
        "s_arr"
      ],
      "metadata": {
        "colab": {
          "base_uri": "https://localhost:8080/"
        },
        "id": "TJ4o6MO9Pv_s",
        "outputId": "58926508-bc25-463d-ca69-1adeab2e48ed"
      }
    },
    {
      "cell_type": "code",
      "execution_count": null,
      "outputs": [
        {
          "output_type": "execute_result",
          "data": {
            "text/plain": [
              "a     3\n",
              "f    14\n",
              "e     9\n",
              "dtype: int64"
            ]
          },
          "metadata": {},
          "execution_count": 28
        }
      ],
      "source": [
        "s_dict"
      ],
      "metadata": {
        "colab": {
          "base_uri": "https://localhost:8080/"
        },
        "id": "Fj0BjgltPv_s",
        "outputId": "736d7491-d19f-45f5-82d8-f3e5f518ed97"
      }
    },
    {
      "cell_type": "code",
      "execution_count": null,
      "outputs": [
        {
          "output_type": "execute_result",
          "data": {
            "text/plain": [
              "a     3\n",
              "f    20\n",
              "e    20\n",
              "dtype: int64"
            ]
          },
          "metadata": {},
          "execution_count": 29
        }
      ],
      "source": [
        "s_dict[['f', 'e']] = 20\n",
        "s_dict"
      ],
      "metadata": {
        "colab": {
          "base_uri": "https://localhost:8080/"
        },
        "id": "xzuyDQAwPv_s",
        "outputId": "7678af28-040c-463d-fc08-6cb454826310"
      }
    },
    {
      "cell_type": "markdown",
      "source": [
        "---\n",
        "\n",
        "Если необходимо проитерироваться по всем значениям или меткам в цикле, то нужно обратиться при создании цикла к самой серии и к методу $\\mathsf{keys}$ соответственно:"
      ],
      "metadata": {
        "collapsed": false,
        "id": "9W2-wx42Pv_s"
      }
    },
    {
      "cell_type": "code",
      "execution_count": null,
      "outputs": [
        {
          "output_type": "stream",
          "name": "stdout",
          "text": [
            "value : 3\n",
            "value : 20\n",
            "value : 20\n"
          ]
        }
      ],
      "source": [
        "for value in s_dict:\n",
        "    print(f'value : {value}')"
      ],
      "metadata": {
        "colab": {
          "base_uri": "https://localhost:8080/"
        },
        "id": "9Qk6WlK7Pv_s",
        "outputId": "a1c2cbde-5259-484f-e550-db756ea1c663"
      }
    },
    {
      "cell_type": "code",
      "execution_count": null,
      "outputs": [
        {
          "output_type": "stream",
          "name": "stdout",
          "text": [
            "col_name : a\n",
            "col_name : f\n",
            "col_name : e\n"
          ]
        }
      ],
      "source": [
        "for col_name in s_dict.keys():\n",
        "    print(f'col_name : {col_name}')"
      ],
      "metadata": {
        "colab": {
          "base_uri": "https://localhost:8080/"
        },
        "id": "K-Mxu1DuPv_s",
        "outputId": "d34fb5ed-840b-49af-a80b-2dd8da4a23da"
      }
    },
    {
      "cell_type": "markdown",
      "source": [
        "А если нужно одновременно и по значениям, и по ключам пройти циклом, то есть метод $\\mathsf{items}$:"
      ],
      "metadata": {
        "collapsed": false,
        "id": "Cba5aiyJPv_t"
      }
    },
    {
      "cell_type": "code",
      "execution_count": null,
      "outputs": [
        {
          "output_type": "stream",
          "name": "stdout",
          "text": [
            "key : a \t value : 3\n",
            "key : f \t value : 20\n",
            "key : e \t value : 20\n"
          ]
        }
      ],
      "source": [
        "for col_name, value in s_dict.items():\n",
        "    print(f'key : {col_name} \\t value : {value}')"
      ],
      "metadata": {
        "colab": {
          "base_uri": "https://localhost:8080/"
        },
        "id": "0iX5HDsPPv_t",
        "outputId": "6510a86d-2ea7-411e-9ade-f391b9e1b6e3"
      }
    },
    {
      "cell_type": "code",
      "source": [
        "x = 5\n",
        "print('x=', x+3)"
      ],
      "metadata": {
        "colab": {
          "base_uri": "https://localhost:8080/"
        },
        "id": "VIvWpTt7emDx",
        "outputId": "0ac5c4d2-0af3-4024-a028-d906bb174bdd"
      },
      "execution_count": 1,
      "outputs": [
        {
          "output_type": "stream",
          "name": "stdout",
          "text": [
            "x= 8\n"
          ]
        }
      ]
    },
    {
      "cell_type": "code",
      "source": [
        "import re\n",
        "\n",
        "str = '3 товара за 209.99'\n",
        "pat = r'\\d+.\\d'\n",
        "match = re.search(pat,str)\n",
        "print(match.group())"
      ],
      "metadata": {
        "colab": {
          "base_uri": "https://localhost:8080/"
        },
        "id": "BtvRHoXmhOni",
        "outputId": "d9503091-efc3-4c9c-e302-d356f4e4aae5"
      },
      "execution_count": 6,
      "outputs": [
        {
          "output_type": "stream",
          "name": "stdout",
          "text": [
            "209.9\n"
          ]
        }
      ]
    },
    {
      "cell_type": "code",
      "source": [],
      "metadata": {
        "id": "zgnXu_a3i22Z"
      },
      "execution_count": null,
      "outputs": []
    }
  ],
  "metadata": {
    "kernelspec": {
      "display_name": "Python 3",
      "language": "python",
      "name": "python3"
    },
    "language_info": {
      "codemirror_mode": {
        "name": "ipython",
        "version": 2
      },
      "file_extension": ".py",
      "mimetype": "text/x-python",
      "name": "python",
      "nbconvert_exporter": "python",
      "pygments_lexer": "ipython2",
      "version": "2.7.6"
    },
    "colab": {
      "provenance": [],
      "include_colab_link": true
    }
  },
  "nbformat": 4,
  "nbformat_minor": 0
}