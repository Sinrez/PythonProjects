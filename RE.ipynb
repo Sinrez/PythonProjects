{
  "nbformat": 4,
  "nbformat_minor": 0,
  "metadata": {
    "colab": {
      "provenance": [],
      "include_colab_link": true
    },
    "kernelspec": {
      "name": "python3",
      "display_name": "Python 3"
    },
    "language_info": {
      "name": "python"
    }
  },
  "cells": [
    {
      "cell_type": "markdown",
      "metadata": {
        "id": "view-in-github",
        "colab_type": "text"
      },
      "source": [
        "<a href=\"https://colab.research.google.com/github/Sinrez/PythonProjects/blob/main/RE.ipynb\" target=\"_parent\"><img src=\"https://colab.research.google.com/assets/colab-badge.svg\" alt=\"Open In Colab\"/></a>"
      ]
    },
    {
      "cell_type": "markdown",
      "source": [
        "# **Регулярные выражения**"
      ],
      "metadata": {
        "id": "nJEJBp-q84m1"
      }
    },
    {
      "cell_type": "code",
      "execution_count": 1,
      "metadata": {
        "id": "vHQScV8h8v8_"
      },
      "outputs": [],
      "source": [
        "import re"
      ]
    },
    {
      "cell_type": "markdown",
      "source": [
        "# .match(pattern, string)"
      ],
      "metadata": {
        "id": "qeLn8YzoQ4Ba"
      }
    },
    {
      "cell_type": "markdown",
      "source": [
        "**.match(pattern, string)**"
      ],
      "metadata": {
        "id": "E4P5gTCEQLdN"
      }
    },
    {
      "cell_type": "code",
      "source": [
        "result = re.match(r'\\w{3}', 'XML HTML Python')\n",
        "print(result)\n"
      ],
      "metadata": {
        "colab": {
          "base_uri": "https://localhost:8080/"
        },
        "id": "LXIuiPs2Qg_p",
        "outputId": "b99626f7-7073-46b6-c9ac-4ff06566c003"
      },
      "execution_count": 2,
      "outputs": [
        {
          "output_type": "stream",
          "name": "stdout",
          "text": [
            "<re.Match object; span=(0, 3), match='XML'>\n"
          ]
        }
      ]
    },
    {
      "cell_type": "code",
      "source": [
        "print(result.group())"
      ],
      "metadata": {
        "colab": {
          "base_uri": "https://localhost:8080/"
        },
        "id": "cxRTfszQQXzh",
        "outputId": "ef5daf26-28df-4280-a23b-6cb7ba7eb9fe"
      },
      "execution_count": 3,
      "outputs": [
        {
          "output_type": "stream",
          "name": "stdout",
          "text": [
            "XML\n"
          ]
        }
      ]
    },
    {
      "cell_type": "code",
      "source": [
        "print(r'строка1 \\n строка2')\n",
        "print('строка1 \\n строка2')"
      ],
      "metadata": {
        "colab": {
          "base_uri": "https://localhost:8080/"
        },
        "id": "m49iVlIJrpqX",
        "outputId": "91229b33-ba32-4c16-89f5-e659c17ead8e"
      },
      "execution_count": 4,
      "outputs": [
        {
          "output_type": "stream",
          "name": "stdout",
          "text": [
            "строка1 \\n строка2\n",
            "строка1 \n",
            " строка2\n"
          ]
        }
      ]
    },
    {
      "cell_type": "markdown",
      "source": [
        "# .search(pattern,string)"
      ],
      "metadata": {
        "id": "KpUWZMJJrzSW"
      }
    },
    {
      "cell_type": "code",
      "source": [
        "result = re.search(r'\\w{4}', 'XML HTML Python')\n",
        "print(result.group())"
      ],
      "metadata": {
        "colab": {
          "base_uri": "https://localhost:8080/"
        },
        "id": "C3r_OXCRr8oV",
        "outputId": "96319c87-3b73-4b3b-b222-457f23ecba72"
      },
      "execution_count": 5,
      "outputs": [
        {
          "output_type": "stream",
          "name": "stdout",
          "text": [
            "HTML\n"
          ]
        }
      ]
    },
    {
      "cell_type": "markdown",
      "source": [
        "# .findall(pattern,string)"
      ],
      "metadata": {
        "id": "mUyaOnP7sN0K"
      }
    },
    {
      "cell_type": "code",
      "source": [
        "result = re.findall(r'ML', 'XML HTML Python')\n",
        "print(result)\n"
      ],
      "metadata": {
        "colab": {
          "base_uri": "https://localhost:8080/"
        },
        "id": "vxGHqjgbsQle",
        "outputId": "c8b5833c-3090-4972-8082-f053a53374ad"
      },
      "execution_count": 6,
      "outputs": [
        {
          "output_type": "stream",
          "name": "stdout",
          "text": [
            "['ML', 'ML']\n"
          ]
        }
      ]
    },
    {
      "cell_type": "markdown",
      "source": [
        "# .fullmatch(pattern,string)"
      ],
      "metadata": {
        "id": "S43pZHhJsXiA"
      }
    },
    {
      "cell_type": "code",
      "source": [
        "print(len('XML HTML Python'))"
      ],
      "metadata": {
        "colab": {
          "base_uri": "https://localhost:8080/"
        },
        "id": "dvHCEJ3asZJ3",
        "outputId": "099b1d95-6717-4c66-b5ce-9c0fded5ce4c"
      },
      "execution_count": 7,
      "outputs": [
        {
          "output_type": "stream",
          "name": "stdout",
          "text": [
            "15\n"
          ]
        }
      ]
    },
    {
      "cell_type": "code",
      "source": [
        "result = re.fullmatch(r\".{15}\", 'XML HTML Python')\n",
        "print(result)\n",
        "print(result.group())\n"
      ],
      "metadata": {
        "colab": {
          "base_uri": "https://localhost:8080/"
        },
        "id": "-wv-B1mmseRv",
        "outputId": "2ade7e7c-384f-4824-a9f4-7e7b0b2fde5d"
      },
      "execution_count": 8,
      "outputs": [
        {
          "output_type": "stream",
          "name": "stdout",
          "text": [
            "<re.Match object; span=(0, 15), match='XML HTML Python'>\n",
            "XML HTML Python\n"
          ]
        }
      ]
    },
    {
      "cell_type": "markdown",
      "source": [
        "# .split(pattern,string, maxsplit)"
      ],
      "metadata": {
        "id": "5WNWu7sgsptd"
      }
    },
    {
      "cell_type": "code",
      "source": [
        "result = re.split(r\"\\s+\", 'XML HTML Python') #r\"\\s+\" - пробел\n",
        "print(result)\n",
        "result = re.split(r\"\\s+\", 'XML HTML Python', maxsplit=1)\n",
        "print(result)"
      ],
      "metadata": {
        "colab": {
          "base_uri": "https://localhost:8080/"
        },
        "id": "K22r_UcGssGg",
        "outputId": "968c4506-ec6b-4bf8-9fed-2e30e7c0a570"
      },
      "execution_count": 9,
      "outputs": [
        {
          "output_type": "stream",
          "name": "stdout",
          "text": [
            "['XML', 'HTML', 'Python']\n",
            "['XML', 'HTML Python']\n"
          ]
        }
      ]
    },
    {
      "cell_type": "code",
      "source": [
        "result = re.split(r\"\\s+|,\", 'XML,HTML Python')\n",
        "print(result)"
      ],
      "metadata": {
        "colab": {
          "base_uri": "https://localhost:8080/"
        },
        "id": "UNtr4TKKs2zh",
        "outputId": "87d7691f-43ac-4143-c950-6ca836d42cc8"
      },
      "execution_count": 10,
      "outputs": [
        {
          "output_type": "stream",
          "name": "stdout",
          "text": [
            "['XML', 'HTML', 'Python']\n"
          ]
        }
      ]
    },
    {
      "cell_type": "markdown",
      "source": [
        "# .finditer(pattern,string)"
      ],
      "metadata": {
        "id": "vFi5jvBOs-AI"
      }
    },
    {
      "cell_type": "code",
      "source": [
        "result = re.finditer(r\"ML\", 'XML HTML Python')\n",
        "for item in result:\n",
        "  print(item.group())\n"
      ],
      "metadata": {
        "colab": {
          "base_uri": "https://localhost:8080/"
        },
        "id": "L0npHA4Ks_fE",
        "outputId": "ebc5ab3c-1078-4d69-e08b-fc1ad434f848"
      },
      "execution_count": 11,
      "outputs": [
        {
          "output_type": "stream",
          "name": "stdout",
          "text": [
            "ML\n",
            "ML\n"
          ]
        }
      ]
    },
    {
      "cell_type": "markdown",
      "source": [
        "# .sub(pattern, repl, string, count)"
      ],
      "metadata": {
        "id": "sAgYRa_jtJm-"
      }
    },
    {
      "cell_type": "code",
      "source": [
        "result = re.sub(r'ML', 'ml', 'XML HTML Python', count = 1)\n",
        "print(result)"
      ],
      "metadata": {
        "colab": {
          "base_uri": "https://localhost:8080/"
        },
        "id": "idfjLvPVtNKb",
        "outputId": "2fc26999-7c4a-45c6-a52f-d40a2a021a84"
      },
      "execution_count": 12,
      "outputs": [
        {
          "output_type": "stream",
          "name": "stdout",
          "text": [
            "Xml HTML Python\n"
          ]
        }
      ]
    },
    {
      "cell_type": "markdown",
      "source": [
        "При помощи Python реализуйте функцию с именем re_match(str), которая находит в строке str год (например, 2023) с помощью функции .match(). На выходе должны получать значение года. Например, результатом выполнения re_match(\"2023 год\") должен быть 2023, а для re_match(\"год 2023\") - None. Обратите внимание, что функция должна выдавать None, если строка начинается не с года."
      ],
      "metadata": {
        "id": "jAjwZtnIe6jj"
      }
    },
    {
      "cell_type": "code",
      "source": [
        "import re\n",
        "def re_match(strr):\n",
        "    res = None\n",
        "    year = re.match(r'\\d{4}', strr)\n",
        "    if year:\n",
        "      return year.group()\n",
        "    else:\n",
        "      return res\n",
        "\n",
        "\n",
        "print(re_match(\"2023 год\"))\n",
        "print(re_match(\"год 2023\"))"
      ],
      "metadata": {
        "colab": {
          "base_uri": "https://localhost:8080/"
        },
        "id": "YayCBaLNe2JQ",
        "outputId": "67797947-77c5-4c89-ef3b-f3db186fab47"
      },
      "execution_count": 17,
      "outputs": [
        {
          "output_type": "stream",
          "name": "stdout",
          "text": [
            "2023\n",
            "None\n"
          ]
        }
      ]
    },
    {
      "cell_type": "markdown",
      "source": [
        "При помощи Python реализуйте функцию с именем re_all(str), которая находит в строке str количество вхождений годов, начинающихся с 19. Например, результатом выполнения re_all(\"1908, 2000, 1897,1913,2023 года\") должно быть число 2 (1908, 1913)."
      ],
      "metadata": {
        "id": "2EfknghngiAs"
      }
    },
    {
      "cell_type": "code",
      "source": [
        "import re\n",
        "def re_all(strr):\n",
        "    #ваш код здесь\n",
        "    result = len([r.group() for r in re.finditer(r\"19\", strr)])\n",
        "    return result\n",
        "\n",
        "print(re_all(\"1908, 2000, 1897,1913,2023 года\"))"
      ],
      "metadata": {
        "colab": {
          "base_uri": "https://localhost:8080/"
        },
        "id": "Qb9ikk8sgjH9",
        "outputId": "dbd3b058-e4b4-4dc3-968f-63b8485dc9b5"
      },
      "execution_count": 23,
      "outputs": [
        {
          "output_type": "stream",
          "name": "stdout",
          "text": [
            "2\n"
          ]
        }
      ]
    },
    {
      "cell_type": "code",
      "source": [
        "#более симпатичный вар\n",
        "import re\n",
        "def re_all(str):\n",
        "  result = len(re.findall('19[0-9]{2}',str))\n",
        "  return result\n",
        "print(re_all(\"1908, 2000, 1897,1913,2023 года\"))"
      ],
      "metadata": {
        "colab": {
          "base_uri": "https://localhost:8080/"
        },
        "id": "g2oJ0hF-lyVr",
        "outputId": "7f3f74fc-62c9-4f4e-b2da-76330d542ba7"
      },
      "execution_count": 24,
      "outputs": [
        {
          "output_type": "stream",
          "name": "stdout",
          "text": [
            "2\n"
          ]
        }
      ]
    },
    {
      "cell_type": "markdown",
      "source": [
        "Необходимо преобразовать выражение \"Смелый человек совершает смелые поступки. Но смелые поступки не всегда делают его героем.» так, чтобы избежать повтора слова \"смелые\". Вместо него подставить \"такие\" во втором предложении. При помощи Python реализуйте функцию с именем replace(str, word1, word2), которая выполнит необходимые преобразования в нашем выражении. word1 - слово, которое необходимо заменить, а word2 - на которое заменить. На выходе мы должны получить измененный текст."
      ],
      "metadata": {
        "id": "Tx5r2fBel8X8"
      }
    },
    {
      "cell_type": "code",
      "source": [
        "import re\n",
        "def replace(strr, word1, word2):\n",
        "    strr1, strr2 = strr.split('. ')\n",
        "    strr2 = re.sub(word1,word2,strr2)\n",
        "    return strr1+'. '+strr2\n",
        "\n",
        "pattern = 'Смелый человек совершает смелые поступки. Но смелые поступки не всегда делают его героем'\n",
        "print(replace(pattern, \"смелые\", \"такие\"))"
      ],
      "metadata": {
        "colab": {
          "base_uri": "https://localhost:8080/"
        },
        "id": "c2kDjggel4mQ",
        "outputId": "0949ac2a-b885-4c88-fa2c-ae1d60ac5341"
      },
      "execution_count": 29,
      "outputs": [
        {
          "output_type": "stream",
          "name": "stdout",
          "text": [
            "Смелый человек совершает смелые поступки. Но такие поступки не всегда делают его героем\n"
          ]
        }
      ]
    }
  ]
}